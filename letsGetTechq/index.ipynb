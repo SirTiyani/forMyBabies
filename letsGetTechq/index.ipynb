{
 "cells": [
  {
   "cell_type": "markdown",
   "metadata": {},
   "source": [
    "## lets Lie"
   ]
  },
  {
   "cell_type": "markdown",
   "metadata": {},
   "source": [
    "- ### Routine \n",
    "    * [users and Hosts](letsCheat/users.ipynb)\n",
    "    * [Package Management](letsCheat/pkg.ipynb)\n",
    "    * [Input Output Redirection](letsCheat/IO.ipynb)\n",
    "    * [Handling Files](letsCheat/handlingFiles.ipynb)\n",
    "    * [Text Processing](letsCheat/textProcessing.ipynb)\n",
    "    * [Processes and Memory](letsCheat/cpuMem.ipynb)\n",
    "- ### BashIt\n",
    "    * [VIp](letsCheat/vim.ipynb)\n",
    "    * [Semantics](letsCheat/bashSemantics.ipynb)\n",
    "- ### letsGit\n",
    "    * [GIT](letsCheat/git.ipynb)\n",
    "- ### Miscellaneous\n",
    "    * [Archiving and Compression](letsCheat/archiving.ipynb)\n",
    "    * [Time and Automation](letsCheat/automation.ipynb)\n",
    "    * [Media](letsCheat/media.ipynb)"
   ]
  },
  {
   "cell_type": "markdown",
   "metadata": {},
   "source": [
    "## letsTalk\n",
    "\n",
    "* [File Sharing](letsCheat/fileSharing.ipynb)\n",
    "* [Fundamentals](letsCheat/dayOne.ipynb)\n",
    "* [L2 - Switches](letsCheat/L2-switches.ipynb)\n",
    "* [L3 - Routing](letsCheat/L3-Routing.ipynb)\n",
    "* [Services](letsCheat/services.ipynb)\n",
    "* [IPv6](letsCheat/ipv6.ipynb)\n"
   ]
  },
  {
   "cell_type": "markdown",
   "metadata": {},
   "source": [
    "<br>\n",
    "## lets make Pie\n",
    "* [Show me your number](letsCheat/numbers.ipynb)\n",
    "* [String Methods](letsCheat/stringMethods.ipynb)\n",
    "* [Strings <-> Lists](letsCheat/stringList.ipynb)\n",
    "* [List Methods](letsCheat/listMethods.ipynb)\n",
    "* [Dictionaries](letsCheat/dMethods.ipynb)\n",
    "* [setMethods](letsCheat/setMethods.ipynb)\n",
    "\n",
    "- ### Interacting with Users\n",
    "* [Read Files](letsCheat/readFile.ipynb)\n",
    "* [Printing Factory](letsCheat/printingFactory.ipynb)\n",
    "* [Error Handling](letsCheat/errorHandling.ipynb)\n",
    "\n",
    "- ### Blue Moon\n",
    "* [Classes](letsCheat/pyClasses.ipynb)\n",
    "* [Networking](letsCheat/nets.ipynb)\n",
    "* [Multithreadin](letsCheat/multiTaks.ipynb)\n",
    "\n"
   ]
  },
  {
   "cell_type": "markdown",
   "metadata": {},
   "source": [
    "## lets add Trays\n",
    "<br>\n",
    "* [creating Arrays](letsCheat/ndArrays.ipynb)"
   ]
  },
  {
   "cell_type": "markdown",
   "metadata": {},
   "source": [
    "## Matplotlib Cheatsheet\n",
    "* [Setting up the Environment](letsCheat/setupPLT.ipynb)\n",
    "* [Named colors](letsCheat/colorsPLT.ipynb)\n",
    "\n",
    "#### Object Oriented Plotting\n",
    "* [Figures and Subplots](letsCheat/figuresSubplots.ipynb)\n",
    "* [Line Plots](letsCheat/singlePlot.ipynb)\n",
    "* [Bar graphs](letsCheat/barPlot.ipynb)\n"
   ]
  },
  {
   "cell_type": "markdown",
   "metadata": {},
   "source": [
    "<br>\n",
    "## lets Visualize Data\n",
    "\n",
    "* [Breeding Pandas](letsCheat/pandasCheat.ipynb)\n",
    "* [Plotly Visuals](letsCheat/plotlyVisuals.ipynb)\n"
   ]
  }
 ],
 "metadata": {
  "kernelspec": {
   "display_name": "Python 3",
   "language": "python",
   "name": "python3"
  },
  "language_info": {
   "codemirror_mode": {
    "name": "ipython",
    "version": 3
   },
   "file_extension": ".py",
   "mimetype": "text/x-python",
   "name": "python",
   "nbconvert_exporter": "python",
   "pygments_lexer": "ipython3",
   "version": "3.6.2"
  }
 },
 "nbformat": 4,
 "nbformat_minor": 2
}
