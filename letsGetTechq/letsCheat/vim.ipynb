{
 "cells": [
  {
   "cell_type": "markdown",
   "metadata": {},
   "source": [
    "## VI Editor\n",
    "\n",
    "<br>\n",
    " |[Moving Around](#Moving-Around)|  |[Editing](#Editing)|  |[cutNpaste](#Copy-and-Paste)|  |[Find and Replace](#Finding-and-Replacing-Text)| |[Deleliting](#Deleting)|"
   ]
  },
  {
   "cell_type": "markdown",
   "metadata": {},
   "source": [
    "- ### .vimrc Configuration"
   ]
  },
  {
   "cell_type": "markdown",
   "metadata": {},
   "source": [
    "<br>\n",
    "- ### Moving Around\n",
    "  - #### Navigating\n",
    "  &uparrow; k    \n",
    "  &downarrow; j     \n",
    "  &leftarrow; h     \n",
    "  &rightarrow; l\n",
    "  - #### Skip by Word\n",
    "    - ##### Forward\n",
    "      - ##### Start of a Word\n",
    "      ```linux\n",
    "      w\n",
    "      ```\n",
    "      - ##### End of a Word\n",
    "      ```linux\n",
    "      e\n",
    "      ```\n",
    "    - ##### Backward\n",
    "      - ##### Start of a Word\n",
    "      ```linux\n",
    "      b\n",
    "      ```\n",
    "  - #### Lines\n",
    "    - ##### Start\n",
    "    ```linux\n",
    "    0\n",
    "    ```\n",
    "    - ##### End\n",
    "    ```linux\n",
    "    $\n",
    "    ```\n",
    "     \n",
    "  - #### Pages\n",
    "    - ##### Start\n",
    "    ```linux\n",
    "    gg\n",
    "    ```\n",
    "    - ##### End\n",
    "    ```linux\n",
    "    G\n",
    "    ```\n",
    "  \n",
    "[HOME](#VI-Editor)"
   ]
  },
  {
   "cell_type": "markdown",
   "metadata": {},
   "source": [
    "- ### Editing\n",
    "  - #### Insert after cursor\n",
    "  ```linux\n",
    "  a\n",
    "  ```\n",
    "  - #### Insert at end of Line\n",
    "  ```linux\n",
    "  A\n",
    "  ```"
   ]
  },
  {
   "cell_type": "markdown",
   "metadata": {},
   "source": [
    "- ### Copy and Paste\n",
    "  - #### Yanking\n",
    "    - #### current line \n",
    "    ```linux\n",
    "    yy\n",
    "    ```\n",
    "    - #### current plus n lines below\n",
    "    ```linux\n",
    "    nyy\n",
    "    ```\n",
    "    - #### word\n",
    "    ```linux\n",
    "    yw\n",
    "    ```\n",
    "    - #### whole page\n",
    "    ```linux\n",
    "    gg\"+yG\n",
    "    ```\n",
    "  - #### Paste\n",
    "  ```linux\n",
    "  p\n",
    "  ```\n",
    "  \n",
    "[HOME](#VI-Editor)"
   ]
  },
  {
   "cell_type": "markdown",
   "metadata": {},
   "source": [
    "- ### Finding and Replacing Text\n",
    "  - #### Find\n",
    "  ```linux\n",
    "  :/s<regex\\>\n",
    "  ```\n",
    "  - #### Replacing\n",
    "  ```linux\n",
    "  :%s/old/new/g\n",
    "  ```"
   ]
  },
  {
   "cell_type": "markdown",
   "metadata": {},
   "source": [
    "- ### Deleting\n",
    "  - #### Visual text selection\n",
    "  ```linux\n",
    "  x\n",
    "  ```\n",
    "  - #### Delete single character\n",
    "  ```linux\n",
    "  d\n",
    "  ```\n",
    "  - #### Delete multiple Lines\n",
    "  ```linux\n",
    "  :<n,m>d\n",
    "  ```\n",
    "  - #### Undo changes\n",
    "    - ##### recent change\n",
    "    ```linux\n",
    "    :u [|<n>u]\n",
    "    ```\n",
    "    - ##### undo all changes\n",
    "    ```linux\n",
    "    :e!\n",
    "    ```\n",
    "    \n",
    "[HOME](#VI-Editor)"
   ]
  }
 ],
 "metadata": {
  "kernelspec": {
   "display_name": "Python 3",
   "language": "python",
   "name": "python3"
  },
  "language_info": {
   "codemirror_mode": {
    "name": "ipython",
    "version": 3
   },
   "file_extension": ".py",
   "mimetype": "text/x-python",
   "name": "python",
   "nbconvert_exporter": "python",
   "pygments_lexer": "ipython3",
   "version": "3.6.2"
  }
 },
 "nbformat": 4,
 "nbformat_minor": 2
}
