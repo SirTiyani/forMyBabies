{
 "cells": [
  {
   "cell_type": "markdown",
   "metadata": {},
   "source": [
    "[data types](cTypes.ipynb) | [io](cIO.ipynb)"
   ]
  },
  {
   "cell_type": "markdown",
   "metadata": {},
   "source": [
    "# C++ Template "
   ]
  },
  {
   "cell_type": "markdown",
   "metadata": {},
   "source": [
    "```c++\n",
    "// cpp file template\n",
    "/* \n",
    "   name:             hey.cpp\n",
    "   compile:          g++ -o hey hey.cpp\n",
    "   run:              ./hey\n",
    "*/\n",
    "\n",
    "// Libraries and modules\n",
    "#include <iostream>\n",
    "#include <string>\n",
    "#include <iomanip>\n",
    "\n",
    "using namespace std;\n",
    "\n",
    "// Functions\n",
    "returnType  funcName(type var1, type var2, ...)\n",
    "{\n",
    "    ...;\n",
    "    return returnTpye;\n",
    "}\n",
    "\n",
    "// Structures\n",
    "struct structureName\n",
    "{\n",
    "    type attribute;\n",
    "    type attribute;\n",
    "    ...\n",
    "}; // }structure1, structure2, ...;\n",
    "    \n",
    "\n",
    "// Classes\n",
    "class MyClass(int i, char c)\n",
    "{\n",
    "// data members\n",
    "private:\n",
    "    dataType var;\n",
    "    ....\n",
    "    \n",
    "// member functions\n",
    "public:\n",
    "    // constructor\n",
    "    MyClass() : i(0), c('') {}\n",
    "    \n",
    "    MyClass() : \n",
    "    \n",
    "    double myFunction() {}\n",
    "    \n",
    "    void get_attribute()\n",
    "    {\n",
    "        return i;\n",
    "    }\n",
    "    \n",
    "};\n",
    "\n",
    "\n",
    "// Start\n",
    "int main()\n",
    "{\n",
    "    string s = \"world\";\n",
    "    cout << \"Hello \"\n",
    "         << s << endl;\n",
    "    \n",
    "    // calling a function\n",
    "    funcName()\n",
    "    \n",
    "    // building a structure\n",
    "    structureName var;\n",
    "    var.attr1 = <value>;\n",
    "    var.attr2 = <value>;\n",
    "    \n",
    "    cout<< \"press enter to close the program\";\n",
    "    getline(cin, fin);\n",
    "    return 0;\n",
    "}\n",
    "\n",
    "```"
   ]
  },
  {
   "cell_type": "code",
   "execution_count": null,
   "metadata": {},
   "outputs": [],
   "source": []
  }
 ],
 "metadata": {
  "kernelspec": {
   "display_name": "Python 3",
   "language": "python",
   "name": "python3"
  },
  "language_info": {
   "codemirror_mode": {
    "name": "ipython",
    "version": 3
   },
   "file_extension": ".py",
   "mimetype": "text/x-python",
   "name": "python",
   "nbconvert_exporter": "python",
   "pygments_lexer": "ipython3",
   "version": "3.6.3"
  }
 },
 "nbformat": 4,
 "nbformat_minor": 2
}
