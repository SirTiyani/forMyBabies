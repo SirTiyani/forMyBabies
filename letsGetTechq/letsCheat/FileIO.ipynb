{
 "cells": [
  {
   "cell_type": "markdown",
   "metadata": {},
   "source": [
    "# File IO "
   ]
  },
  {
   "cell_type": "markdown",
   "metadata": {},
   "source": [
    "[with](#With-Method) | [csv](#CSV-Files)"
   ]
  },
  {
   "cell_type": "markdown",
   "metadata": {},
   "source": [
    "<br>\n",
    "## With Method"
   ]
  },
  {
   "cell_type": "markdown",
   "metadata": {},
   "source": [
    "### Reading \n",
    "\n",
    "- **Store in List**\n",
    "\n",
    "```python\n",
    "with open(\"/path/to/file\", 'r') as f:\n",
    "    lines = f.readlines() \n",
    "    f.close\n",
    "``` \n",
    "\n",
    "- **Remove Newlines**\n",
    "\n",
    "```python\n",
    "with open(\"/path/to/file\", 'r') as f:\n",
    "    lines = f.read().splitlines() \n",
    "    f.close\n",
    "``` \n",
    "\n",
    "- **Sequentially**\n",
    "```python\n",
    "with open(\"/path/to/file\", 'r') as f:\n",
    "    for line in f:\n",
    "    ...\n",
    "``` "
   ]
  },
  {
   "cell_type": "markdown",
   "metadata": {},
   "source": [
    "### Writing\n",
    "\n",
    "```python\n",
    "with open(\"/path/to/filename\", 'w') as f:               # 'a' to append\n",
    "    # write an object\n",
    "    f.write(\" \" % (object(s))\n",
    "            \n",
    "    # multiple lines\n",
    "    f.writelines(\"\"\" ...\n",
    "    ...\n",
    "    \"\"\")\n",
    "```\n",
    "    "
   ]
  },
  {
   "cell_type": "markdown",
   "metadata": {},
   "source": [
    "<br>\n",
    "## CSV Files"
   ]
  },
  {
   "cell_type": "markdown",
   "metadata": {},
   "source": [
    "### reading \n",
    "\n",
    "```python\n",
    "import csv\n",
    "\n",
    "with open(\"/path/to/filename.csv\") as f:\n",
    "    reader = csv.reader(f, delimeter = ',')\n",
    "    for row in reader:\n",
    "        print(row)\n",
    "```\n",
    "\n",
    "### Writing \n",
    "\n",
    "```python\n",
    "data = [\n",
    "           [\"header list\"], \n",
    "           [\"data 1\"]\n",
    "           [\"...\"]\n",
    "        ]\n",
    "\n",
    "with open(\"\\path\\to\\filename.csv\", 'w') as f:\n",
    "    writer = csv.writer(f)\n",
    "    writer.writerows(data)\n",
    "    f.close()\n",
    "```\n"
   ]
  }
 ],
 "metadata": {
  "kernelspec": {
   "display_name": "Python 3",
   "language": "python",
   "name": "python3"
  },
  "language_info": {
   "codemirror_mode": {
    "name": "ipython",
    "version": 3
   },
   "file_extension": ".py",
   "mimetype": "text/x-python",
   "name": "python",
   "nbconvert_exporter": "python",
   "pygments_lexer": "ipython3",
   "version": "3.6.3"
  }
 },
 "nbformat": 4,
 "nbformat_minor": 2
}
