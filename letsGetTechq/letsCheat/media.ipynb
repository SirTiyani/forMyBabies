{
 "cells": [
  {
   "cell_type": "markdown",
   "metadata": {},
   "source": [
    "## Media\n",
    "<br>"
   ]
  },
  {
   "cell_type": "markdown",
   "metadata": {},
   "source": [
    "- ### Loop a Slideshow\n",
    "```linux\n",
    "while true ; do\n",
    "    for i in * ; do \n",
    "        cp \"$i\" ~/Pictures/slideshow.jpg \n",
    "      echo $i \n",
    "        sleep 5 ; \n",
    "    done \n",
    "done\n",
    "```"
   ]
  },
  {
   "cell_type": "markdown",
   "metadata": {},
   "source": [
    "- ### cMux music player \n",
    "  - #### adding a library\n",
    "  \n",
    "  ```linux\n",
    "  rm ~/.cmus/cache\n",
    "  :add ~/path/to/music\n",
    "  ```\n",
    "  - #### shortcuts\n",
    "  \n",
    "  ```linux\n",
    "  i                  jump view to current song\n",
    "  \n",
    "  c                  play or pause song\n",
    "  b                  skip forward\n",
    "  z                  play previous\n",
    "  x                  repeat song\n",
    "  \n",
    "  s                  shuffle mode\n",
    "      m                  shuffle by artist, album or all\n",
    "  ```\n",
    "<br>"
   ]
  },
  {
   "cell_type": "markdown",
   "metadata": {},
   "source": [
    "- ### Downstream\n",
    "  - #### Music\n",
    "  \n",
    "  \n",
    "  ```linux\n",
    "  youtube-dl -cit --extract-audio --audio-format mp3 <url>\n",
    "\n",
    "  \n",
    "  ```\n",
    "  \n",
    "  - #### Videos\n",
    "  \n",
    "  ```linux\n",
    "  youtube-dl -cit -f 22 url\n",
    "  ```"
   ]
  },
  {
   "cell_type": "code",
   "execution_count": null,
   "metadata": {
    "collapsed": true
   },
   "outputs": [],
   "source": []
  }
 ],
 "metadata": {
  "kernelspec": {
   "display_name": "Python 3",
   "language": "python",
   "name": "python3"
  },
  "language_info": {
   "codemirror_mode": {
    "name": "ipython",
    "version": 3
   },
   "file_extension": ".py",
   "mimetype": "text/x-python",
   "name": "python",
   "nbconvert_exporter": "python",
   "pygments_lexer": "ipython3",
   "version": "3.6.2"
  }
 },
 "nbformat": 4,
 "nbformat_minor": 2
}
