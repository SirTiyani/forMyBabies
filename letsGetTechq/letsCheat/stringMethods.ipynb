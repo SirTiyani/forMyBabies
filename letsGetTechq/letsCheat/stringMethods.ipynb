{
 "cells": [
  {
   "cell_type": "code",
   "execution_count": 1,
   "metadata": {},
   "outputs": [
    {
     "data": {
      "text/html": [
       "<script>\n",
       "code_show=true; \n",
       "function code_toggle() {\n",
       " if (code_show){\n",
       " $('div.input').hide();\n",
       " } else {\n",
       " $('div.input').show();\n",
       " }\n",
       " code_show = !code_show\n",
       "} \n",
       "$( document ).ready(code_toggle);\n",
       "</script>\n",
       "<form action=\"javascript:code_toggle()\"><input type=\"submit\" value=\"Click here to toggle on/off the raw code.\"></form>"
      ],
      "text/plain": [
       "<IPython.core.display.HTML object>"
      ]
     },
     "execution_count": 1,
     "metadata": {},
     "output_type": "execute_result"
    }
   ],
   "source": [
    "from IPython.display import HTML\n",
    "\n",
    "HTML('''<script>\n",
    "code_show=true; \n",
    "function code_toggle() {\n",
    " if (code_show){\n",
    " $('div.input').hide();\n",
    " } else {\n",
    " $('div.input').show();\n",
    " }\n",
    " code_show = !code_show\n",
    "} \n",
    "$( document ).ready(code_toggle);\n",
    "</script>\n",
    "<form action=\"javascript:code_toggle()\"><input type=\"submit\" value=\"Click here to toggle on/off the raw code.\"></form>''')"
   ]
  },
  {
   "cell_type": "markdown",
   "metadata": {},
   "source": [
    "## String Methods\n"
   ]
  },
  {
   "cell_type": "markdown",
   "metadata": {},
   "source": [
    "- #### Indexing\n",
    "\n",
    "```python\n",
    "s[start:end:[increment]]\n",
    "```\n",
    "\n",
    "- #### Upper and Lower case\n",
    "\n",
    "```python\n",
    "s.upper()\n",
    "s.lower()\n",
    "```\n",
    "- #### Capitalize first letter\n",
    "\n",
    "```python\n",
    "s.title()\n",
    "```\n",
    "- #### Start and Last character\n",
    "\n",
    "```python\n",
    "s.startswith('char')\n",
    "s.endswith('char')\n",
    "```\n",
    "- #### String Evaluation\n",
    "\n",
    "```python\n",
    "s.islower()\n",
    "s.isupper()\n",
    "\n",
    "s.isapnum()\n",
    "\n",
    "s.isdecimal()\n",
    "s.isdigit()\n",
    "s.isnumeric()\n",
    "```\n",
    "- #### Find index of word/string\n",
    "\n",
    "```python\n",
    "s.find('string')\n",
    "```\n",
    "- #### Remove white Space\n",
    "\n",
    "```python\n",
    "s.strip()\n",
    "```"
   ]
  },
  {
   "cell_type": "markdown",
   "metadata": {},
   "source": [
    "```python\n",
    "s = 'Swurds: the sting of the truth 100'\n",
    "```"
   ]
  },
  {
   "cell_type": "code",
   "execution_count": 2,
   "metadata": {},
   "outputs": [
    {
     "name": "stdout",
     "output_type": "stream",
     "text": [
      "Indexing s[:6]\t\tswurds\n",
      "Upper:\tSWURDS\t\tLower:\tswurds\n",
      "Capitalizing:\t\tSwurds: The Sting Of The Truth 100\n",
      "\n",
      "Let's Evaluate\n",
      "start with 's': True\n",
      "ends with 'e': False\n",
      "is the end a digit: True\n",
      "\n",
      "Let's find character\n",
      "find sword. index: 12\n",
      "\n",
      "Finally let's replace\n",
      "\tsting --> swing.\n",
      "\n",
      "swurds: the swing of the Truth 100\n",
      "            \n"
     ]
    }
   ],
   "source": [
    "s = 'swurds: the sting of the Truth 100'\n",
    "name = s[:6]\n",
    "\n",
    "print('Indexing s[:6]\\t\\t{}' .format(name))\n",
    "print('Upper:\\t{}\\t\\tLower:\\t{}' .format(name.upper(), name.lower()))\n",
    "print('Capitalizing:\\t\\t{}\\n' .format(s.title()))\n",
    "\n",
    "print(\"\"\"Let's Evaluate\n",
    "start with 's': {}\n",
    "ends with 'e': {}\n",
    "is the end a digit: {}\n",
    "\\nLet's find character\n",
    "find sword. index: {}\n",
    "\\nFinally let's replace\n",
    "\\tsting --> swing.\n",
    "\\n{}\n",
    "            \"\"\". format(\n",
    "                            s[0].startswith('s'),\n",
    "                            s[-1].endswith('e'),\n",
    "                            s[-3::].isnumeric(),\n",
    "                            s.find('sting'),\n",
    "                            s.replace('sting', 'swing')\n",
    "                       ) \n",
    "     )"
   ]
  }
 ],
 "metadata": {
  "kernelspec": {
   "display_name": "Python 3",
   "language": "python",
   "name": "python3"
  },
  "language_info": {
   "codemirror_mode": {
    "name": "ipython",
    "version": 3
   },
   "file_extension": ".py",
   "mimetype": "text/x-python",
   "name": "python",
   "nbconvert_exporter": "python",
   "pygments_lexer": "ipython3",
   "version": "3.6.2"
  }
 },
 "nbformat": 4,
 "nbformat_minor": 2
}
