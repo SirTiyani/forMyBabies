{
 "cells": [
  {
   "cell_type": "markdown",
   "metadata": {},
   "source": [
    "## lets Lie"
   ]
  },
  {
   "cell_type": "markdown",
   "metadata": {},
   "source": [
    "- ### Routine \n",
    "    * [users and Hosts](users.ipynb)\n",
    "    * [Package Management](pkg.ipynb)\n",
    "    * [Input Output Redirection](IO.ipynb)\n",
    "    * [Handling Files](handlingFiles.ipynb)\n",
    "    * [Text Processing](textProcessing.ipynb)\n",
    "    * [Processes and Memory](cpuMem.ipynb)\n",
    "- ### BashIt\n",
    "    * [VIp](vim.ipynb)\n",
    "    * [Semantics](bashSemantics.ipynb)\n",
    "- ### Miscellaneous\n",
    "    * [Archiving and Compression](archiving.ipynb)\n",
    "    * [Time and Automation](automation.ipynb)\n",
    "    * [Media](media.ipynb)"
   ]
  },
  {
   "cell_type": "markdown",
   "metadata": {},
   "source": [
    "## letsTalk\n",
    "\n",
    "* [File Sharing](fileSharing.ipynb)\n",
    "* [Fundamentals](dayOne.ipynb)\n",
    "* [L2 - Switches](L2-switches.ipynb)\n",
    "* [L3 - Routing](L3-Routing.ipynb)\n",
    "* [Services](services.ipynb)\n",
    "* [IPv6]()\n"
   ]
  },
  {
   "cell_type": "markdown",
   "metadata": {},
   "source": [
    "<br>\n",
    "## lets make Pie\n",
    "* [Show me your number](numbers.ipynb)\n",
    "* [String Methods](stringMethods.ipynb)\n",
    "* [Strings <-> Lists](stringList.ipynb)\n",
    "* [List Methods](listMethods.ipynb)\n",
    "* [Dictionaries](dMethods.ipynb)\n",
    "* [setMethods](setMethods.ipynb)\n",
    "\n",
    "- ### Interacting with Users\n",
    "* [Read Files](readFile.ipynb)\n",
    "* [Printing Factory](printingFactory.ipynb)\n",
    "* [Error Handling](errorHandling.ipynb)\n",
    "\n",
    "- ### Blue Moon\n",
    "* [Classes](pyClasses.ipynb)\n",
    "* [Networking](nets.ipynb)\n",
    "* [Multithreadin](multiTaks.ipynb)\n",
    "\n"
   ]
  },
  {
   "cell_type": "markdown",
   "metadata": {},
   "source": [
    "## lets add Trays\n",
    "<br>\n",
    "* [creating Arrays](ndArrays.ipynb)"
   ]
  },
  {
   "cell_type": "markdown",
   "metadata": {},
   "source": [
    "## Matplotlib Cheatsheet\n",
    "* [Setting up the Environment](setupPLT.ipynb)\n",
    "* [Named colors](colorsPLT.ipynb)\n",
    "\n",
    "#### Object Oriented Plotting\n",
    "* [Figures and Subplots](figuresSubplots.ipynb)\n",
    "* [Line Plots](singlePlot.ipynb)\n",
    "* [Bar graphs](barPlot.ipynb)\n"
   ]
  },
  {
   "cell_type": "markdown",
   "metadata": {},
   "source": [
    "<br>\n",
    "## lets Visualize Data\n",
    "\n",
    "* [Breeding Pandas](pandasCheat.ipynb)\n",
    "* [Plotly Visuals](plotlyVisuals.ipynb)\n"
   ]
  },
  {
   "cell_type": "code",
   "execution_count": null,
   "metadata": {
    "collapsed": true
   },
   "outputs": [],
   "source": []
  }
 ],
 "metadata": {
  "kernelspec": {
   "display_name": "Python 3",
   "language": "python",
   "name": "python3"
  },
  "language_info": {
   "codemirror_mode": {
    "name": "ipython",
    "version": 3
   },
   "file_extension": ".py",
   "mimetype": "text/x-python",
   "name": "python",
   "nbconvert_exporter": "python",
   "pygments_lexer": "ipython3",
   "version": "3.6.2"
  }
 },
 "nbformat": 4,
 "nbformat_minor": 2
}
