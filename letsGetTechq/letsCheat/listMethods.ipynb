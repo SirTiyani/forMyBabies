{
 "cells": [
  {
   "cell_type": "code",
   "execution_count": 5,
   "metadata": {},
   "outputs": [
    {
     "data": {
      "text/html": [
       "<script>\n",
       "code_show=true; \n",
       "function code_toggle() {\n",
       " if (code_show){\n",
       " $('div.input').hide();\n",
       " } else {\n",
       " $('div.input').show();\n",
       " }\n",
       " code_show = !code_show\n",
       "} \n",
       "$( document ).ready(code_toggle);\n",
       "</script>\n",
       "<form action=\"javascript:code_toggle()\"><input type=\"submit\" value=\"Click here to toggle on/off the raw code.\"></form>"
      ],
      "text/plain": [
       "<IPython.core.display.HTML object>"
      ]
     },
     "execution_count": 5,
     "metadata": {},
     "output_type": "execute_result"
    }
   ],
   "source": [
    "from IPython.display import HTML\n",
    "\n",
    "HTML('''<script>\n",
    "code_show=true; \n",
    "function code_toggle() {\n",
    " if (code_show){\n",
    " $('div.input').hide();\n",
    " } else {\n",
    " $('div.input').show();\n",
    " }\n",
    " code_show = !code_show\n",
    "} \n",
    "$( document ).ready(code_toggle);\n",
    "</script>\n",
    "<form action=\"javascript:code_toggle()\"><input type=\"submit\" value=\"Click here to toggle on/off the raw code.\"></form>''')"
   ]
  },
  {
   "cell_type": "markdown",
   "metadata": {},
   "source": [
    "## List Methods"
   ]
  },
  {
   "cell_type": "markdown",
   "metadata": {
    "collapsed": true
   },
   "source": [
    "### Add to List\n",
    "  - #### By index\n",
    "\n",
    "```python\n",
    "L.insert(index, obj)\n",
    "```\n",
    "  - #### append to the end\n",
    "\n",
    "```python\n",
    "L.append(obj)\n",
    "```\n",
    "\n",
    "  - #### Multiple objects\n",
    "\n",
    "```python\n",
    "L.extend(obj1, obj2, ...)\n",
    "```\n",
    "<br>"
   ]
  },
  {
   "cell_type": "markdown",
   "metadata": {},
   "source": [
    "### Remove from List\n",
    "\n",
    "- #### By Value\n",
    "```python\n",
    "L.remove(obj)\n",
    "```\n",
    "\n",
    "- #### By Index\n",
    "  - ##### [-1] by default\n",
    "```python\n",
    "L.pop(index)\n",
    "```\n",
    "<br>"
   ]
  },
  {
   "cell_type": "markdown",
   "metadata": {},
   "source": [
    "### Replace List Item\n",
    "\n",
    "```python\n",
    "L[index] = newObj\n",
    "```\n",
    "<br>"
   ]
  },
  {
   "cell_type": "markdown",
   "metadata": {},
   "source": [
    "### Querying Items\n",
    "- #### Present or Absent\n",
    "\n",
    "```python\n",
    "if obj in L:\n",
    "    code\n",
    "```\n",
    "\n",
    "- #### Find index\n",
    "\n",
    "```python\n",
    "L.index(obj)\n",
    "```\n",
    "<br>"
   ]
  },
  {
   "cell_type": "markdown",
   "metadata": {},
   "source": [
    "### Sorting a List\n",
    "- #### Debugging Purposes\n",
    "\n",
    "```python\n",
    "L.sorted()\n",
    "```\n",
    "\n",
    "- #### Permanently\n",
    "```python\n",
    "L = L.sorted()\n",
    "```\n",
    "  - #### Update existing and sort\n",
    "  ```python\n",
    "  from bisect import insort\n",
    "  insort(L, obj)\n",
    "```"
   ]
  },
  {
   "cell_type": "code",
   "execution_count": null,
   "metadata": {
    "collapsed": true
   },
   "outputs": [],
   "source": []
  }
 ],
 "metadata": {
  "kernelspec": {
   "display_name": "Python 3",
   "language": "python",
   "name": "python3"
  },
  "language_info": {
   "codemirror_mode": {
    "name": "ipython",
    "version": 3
   },
   "file_extension": ".py",
   "mimetype": "text/x-python",
   "name": "python",
   "nbconvert_exporter": "python",
   "pygments_lexer": "ipython3",
   "version": "3.6.2"
  }
 },
 "nbformat": 4,
 "nbformat_minor": 2
}
