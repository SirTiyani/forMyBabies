{
 "cells": [
  {
   "cell_type": "markdown",
   "metadata": {},
   "source": [
    "# Internet Layer: Routing "
   ]
  },
  {
   "cell_type": "markdown",
   "metadata": {},
   "source": [
    "[IP](#Packets) | [addresses](#IP-Addresses) | [subnets](#Subnetting) | [ARP](#Address-Resolution-Protocol) | [NAT](#Network-Translation-Protocol) | [PAT](#) | [enroute](#Routing) | [IPv6](#IPv6) "
   ]
  },
  {
   "cell_type": "markdown",
   "metadata": {},
   "source": [
    "## Packets\n",
    "<img src=\"pics/IPv4.png\" width=510 height=470 style=\"float: right;\">\n",
    "\n",
    "- Operates in the internet layer\n",
    "\n",
    "\n",
    "- Connectionless protocol working on Layer 3\n",
    "  - L3 Protocol Data Unit (PDU): Packet\n",
    "\n",
    "\n",
    "- No data recovery mechanisms\n",
    "\n",
    "\n",
    "- Individual packets are treated independently\n",
    "  - Routing is based on best-effort delivery\n",
    "\n",
    "\n",
    "- Media independent\n",
    "\n",
    "\n",
    "- Two variants: IPv4 and IPv6\n",
    "\n",
    "<br>"
   ]
  },
  {
   "cell_type": "markdown",
   "metadata": {},
   "source": [
    "## IP Addresses\n",
    "\n",
    "Public Addresses | | Private Addresses\n",
    ":--- | --- | :---\n",
    " | | \n",
    "Provider-dependent addresses from the ISP | | Assigned to host that do not connect to the internet directly\n",
    " | | Make use of a default gateway\n",
    " | | Both has a public and private address\n",
    "Global unique address assigned to internet hosts | | Restricted to LANs\n",
    "Translated to Private address upon public-to-private network transition | | cannot be routed on the internet backbone, immediately discarded on a public link\n",
    "<img src=\"pics/addressRange.png\" width=460 height=470 style=\"float: left;\"> | | <img src=\"pics/privateAddrs.jpg\" width=370 height=470 style=\"float: right;\">\n",
    "\n",
    "<br>"
   ]
  },
  {
   "cell_type": "markdown",
   "metadata": {},
   "source": [
    "## Subnetting "
   ]
  },
  {
   "cell_type": "code",
   "execution_count": 7,
   "metadata": {},
   "outputs": [
    {
     "data": {
      "text/html": [
       "<script>\n",
       "code_show=true; \n",
       "function code_toggle() {\n",
       " if (code_show){\n",
       " $('div.input').hide();\n",
       " } else {\n",
       " $('div.input').show();\n",
       " }\n",
       " code_show = !code_show\n",
       "} \n",
       "$( document ).ready(code_toggle);\n",
       "</script>\n",
       "<form action=\"javascript:code_toggle()\"><input type=\"submit\" value=\"Click here to toggle on/off the raw code.\"></form>"
      ],
      "text/plain": [
       "<IPython.core.display.HTML object>"
      ]
     },
     "execution_count": 7,
     "metadata": {},
     "output_type": "execute_result"
    }
   ],
   "source": [
    "from IPython.display import HTML\n",
    "\n",
    "HTML('''<script>\n",
    "code_show=true; \n",
    "function code_toggle() {\n",
    " if (code_show){\n",
    " $('div.input').hide();\n",
    " } else {\n",
    " $('div.input').show();\n",
    " }\n",
    " code_show = !code_show\n",
    "} \n",
    "$( document ).ready(code_toggle);\n",
    "</script>\n",
    "<form action=\"javascript:code_toggle()\"><input type=\"submit\" value=\"Click here to toggle on/off the raw code.\"></form>''')"
   ]
  },
  {
   "cell_type": "code",
   "execution_count": 8,
   "metadata": {},
   "outputs": [
    {
     "data": {
      "text/html": [
       "<div>\n",
       "<table border=\"1\" class=\"dataframe\">\n",
       "  <thead>\n",
       "    <tr style=\"text-align: right;\">\n",
       "      <th></th>\n",
       "      <th>16</th>\n",
       "      <th>15</th>\n",
       "      <th>14</th>\n",
       "      <th>13</th>\n",
       "      <th>12</th>\n",
       "      <th>11</th>\n",
       "      <th>10</th>\n",
       "      <th>9</th>\n",
       "      <th>8</th>\n",
       "      <th>7</th>\n",
       "      <th>6</th>\n",
       "      <th>5</th>\n",
       "      <th>4</th>\n",
       "      <th>3</th>\n",
       "      <th>2</th>\n",
       "      <th>1</th>\n",
       "      <th>0</th>\n",
       "    </tr>\n",
       "    <tr>\n",
       "      <th></th>\n",
       "      <th></th>\n",
       "      <th></th>\n",
       "      <th></th>\n",
       "      <th></th>\n",
       "      <th></th>\n",
       "      <th></th>\n",
       "      <th></th>\n",
       "      <th></th>\n",
       "      <th></th>\n",
       "      <th></th>\n",
       "      <th></th>\n",
       "      <th></th>\n",
       "      <th></th>\n",
       "      <th></th>\n",
       "      <th></th>\n",
       "      <th></th>\n",
       "      <th></th>\n",
       "    </tr>\n",
       "  </thead>\n",
       "  <tbody>\n",
       "    <tr>\n",
       "      <th>cidr</th>\n",
       "      <td>16.0</td>\n",
       "      <td>17.0</td>\n",
       "      <td>18.0</td>\n",
       "      <td>19.0</td>\n",
       "      <td>20.0</td>\n",
       "      <td>21.0</td>\n",
       "      <td>22.0</td>\n",
       "      <td>23.0</td>\n",
       "      <td>24.0</td>\n",
       "      <td>25.0</td>\n",
       "      <td>26.0</td>\n",
       "      <td>27.0</td>\n",
       "      <td>28.0</td>\n",
       "      <td>29.0</td>\n",
       "      <td>30.0</td>\n",
       "      <td>31.0</td>\n",
       "      <td>32.0</td>\n",
       "    </tr>\n",
       "    <tr>\n",
       "      <th>hosts</th>\n",
       "      <td>65536.0</td>\n",
       "      <td>32768.0</td>\n",
       "      <td>16384.0</td>\n",
       "      <td>8192.0</td>\n",
       "      <td>4096.0</td>\n",
       "      <td>2048.0</td>\n",
       "      <td>1024.0</td>\n",
       "      <td>512.0</td>\n",
       "      <td>256.0</td>\n",
       "      <td>128.0</td>\n",
       "      <td>64.0</td>\n",
       "      <td>32.0</td>\n",
       "      <td>16.0</td>\n",
       "      <td>8.0</td>\n",
       "      <td>4.0</td>\n",
       "      <td>2.0</td>\n",
       "      <td>1.0</td>\n",
       "    </tr>\n",
       "  </tbody>\n",
       "</table>\n",
       "</div>"
      ],
      "text/plain": [
       "            16       15       14      13      12      11      10     9   \\\n",
       "                                                                          \n",
       "cidr      16.0     17.0     18.0    19.0    20.0    21.0    22.0   23.0   \n",
       "hosts  65536.0  32768.0  16384.0  8192.0  4096.0  2048.0  1024.0  512.0   \n",
       "\n",
       "          8      7     6     5     4     3     2     1     0   \n",
       "                                                               \n",
       "cidr    24.0   25.0  26.0  27.0  28.0  29.0  30.0  31.0  32.0  \n",
       "hosts  256.0  128.0  64.0  32.0  16.0   8.0   4.0   2.0   1.0  "
      ]
     },
     "execution_count": 8,
     "metadata": {},
     "output_type": "execute_result"
    }
   ],
   "source": [
    "import pandas as pd\n",
    "\n",
    "cidr   = range(16,33)\n",
    "lsb   = range(16,-1,-1)\n",
    "bits = [i for i in lsb]\n",
    "hosts = [2**i for i in lsb]\n",
    "cidr = list(cidr)\n",
    "\n",
    "cidr.insert(0, 'cidr')\n",
    "hosts.insert(0, 'hosts')\n",
    "bits.insert(0, ' ')\n",
    "\n",
    "df = pd.DataFrame(columns=bits, dtype='l')\n",
    "df = df.append(pd.Series(cidr, bits), ignore_index=True)\n",
    "df = df.append(pd.Series(hosts, bits), ignore_index=True)\n",
    "df = df.set_index(' ')\n",
    "df"
   ]
  },
  {
   "cell_type": "code",
   "execution_count": 9,
   "metadata": {},
   "outputs": [
    {
     "name": "stdout",
     "output_type": "stream",
     "text": [
      "\n",
      "Remember\n",
      "\tTotal Hosts = Hosts - 2\n",
      "\t\n",
      "\n"
     ]
    }
   ],
   "source": [
    "print(\"\"\"\n",
    "Remember\n",
    "\\tTotal Hosts = Hosts - 2\n",
    "\\t\n",
    "\"\"\")"
   ]
  },
  {
   "cell_type": "markdown",
   "metadata": {},
   "source": [
    "## Address Resolution Protocol\n",
    "\n",
    "- Maps IP addresses to Mac Address\n",
    "  - **RARP**: works out the IP address from a MAC address\n",
    "  - MAC addresses on a packet change until the destination node is reached, whilst the IP address (target) remains the same\n",
    "\n",
    "\n",
    "- cache on stores learned addresses on an arp table\n",
    "\n",
    "\n",
    "- Hosts compare the dest ip with its subnet mask\n",
    "  - **If local**, makes use of arp table\n",
    "  - **If no entry**, sends arp broadcast \n",
    "  - **If remote**, sends packet to the default gateway. \n",
    "\n",
    "\n",
    "<br>"
   ]
  },
  {
   "cell_type": "markdown",
   "metadata": {},
   "source": [
    "## Network Address Translation \n",
    "\n",
    "- Private addresses are unroutable on the internet\n",
    "\n",
    "\n",
    "- NAT Translates private addresses on the edge of a LAN into a Public address and vice versa\n",
    "\n",
    "\n",
    "- At the edge of a LAN, router \n",
    "\n",
    "\n",
    "- Hosts share one/some public addresses to access the internet\n",
    "\n",
    "\n",
    "- can advertise a single address to the public\n",
    "  - Hides internal address, thus enhancing security\n",
    "  - Conserves addresses through the use of application port-level multiplexing\n",
    "\n",
    "\n",
    "- However, by modifying headers\n",
    "  - Complicates tunneling services (IPsec)\n",
    "  - Hinders some end-to-end functionality\n",
    "    - Digital signatures, source ip changes\n",
    "  - switching is delayed, each packet is processed"
   ]
  },
  {
   "cell_type": "markdown",
   "metadata": {},
   "source": [
    "\n",
    "Type of NAT | Features| Code\n",
    ":--- | :--- | :---\n",
    " | |\n",
    "Static | One-to-one IP mapping ||\n",
    " | Private ip to a public IP |\n",
    " | Best for global accessible hosts i.e. web server |\n",
    " | | \n",
    "Dynamic | Many-to-many |\n",
    " | Maps private IPs to public from a group of public addresses | \n",
    " | During merger, dynamic ip reassignments |\n",
    " | | \n",
    "NAT overload (PAT) | Many-to-one address mapping |\n",
    " | Through Port Address Translation |\n",
    " | Multiple private IPs to a single public IP |\n",
    " | Hosts attached to different ports |\n",
    " \n",
    "<br> "
   ]
  },
  {
   "cell_type": "markdown",
   "metadata": {},
   "source": [
    "## Routing \n",
    "\n",
    "<img src=\"pics/routingProtocols.png\"> \n",
    "\n",
    "<br>"
   ]
  },
  {
   "cell_type": "markdown",
   "metadata": {},
   "source": [
    "### Role of a Router\n",
    "\n",
    "- Path Determination <img src=\"pics/OSPF.png\" width=460 height=470 style=\"float: right;\">\n",
    "  - Uses routing table to determine the best path to send packets\n",
    "  - Builds the table using routing protocols and metric system\n",
    "    - Bandwidth and delay, cost by admin, and Hop count.\n",
    "    - Routing protocols feature an administrative distance\n",
    "      - Directly connected=0\n",
    "      - Static route = 1\n",
    "  - If not path entry is found, the router uses the default route\\* \n",
    "  - It drops packets if none exist\n",
    "\n",
    "\n",
    "- Path Forwarding\n",
    "  - Forwards the packet to an interface that leads to the destination\n",
    "<br>"
   ]
  },
  {
   "cell_type": "markdown",
   "metadata": {},
   "source": [
    "### Static Routing\n",
    "\n",
    "\n",
    " | Features| Code\n",
    ":--- | :--- | :---\n",
    "Static | Manually configured | **ip route net-mask next-hop**\n",
    " | requires manual changes when any part of the network changes | **next-hop:** exit interface or next node ip address\n",
    " | Ideal for small networks |\n",
    " | hub-and-spoke networks: single route to the network |\n",
    " | conserves Router resources |\n",
    " | Reliable security |\n",
    " | |\n",
    "Default route | Adds a default route for unknown destination addresses | **ip route 0.0.0.0 0.0.0.0 next-hop**\n",
    " | It matches all packets for routes not in the routing table |\n",
    "\n",
    "<br>"
   ]
  },
  {
   "cell_type": "markdown",
   "metadata": {},
   "source": [
    "### Dynamic Routing Protocols\n",
    "\n",
    "- Routing protocol learns and updates topology changes automatically\n",
    "- Router maintains routes to remote destinations through route update exchanges with other Routers\n",
    "\n",
    "App | Type | Protocol| Feature | Code\n",
    ":--- | :--- | :--- | :--- | \n",
    " | | | |\n",
    "**Internal Gateway Protocols (IGP)** |  | |\n",
    " | *Distance Vector Routing Protocols* | | |\n",
    " | | | Based on hops to destination |\n",
    " | | | The shorter the better |\n",
    " | | | |\n",
    " | |**RIPv2** by Cisco | |\n",
    " | | | Share entire tables every 30s | **router rip** \n",
    " | | | Limited to 15 hops | **version 2**\n",
    " | | | up to 4-path load balancing | **network x.x.x.x**\n",
    " | | | passive interfaces disable rip updates | **timers basic** send next invalid holddown flush\n",
    " | | | default route capability |\n",
    " | | |\n",
    " | *Link-State Rouing Protocol* | | |\n",
    " | | | Uses a link Metric |\n",
    " | | | Speed and Bandwidth |\n",
    " | | | The lower the Metric the better \n",
    " | | | |\n",
    " | | **OSPF** | |\n",
    " | | | Routing database table updates are only triggered by link changes using Link State Ads (LSA) |\n",
    " | | | Routers form neighbors by sending hello multicast packets to 224.0.0.5 every 10 seconds |\n",
    " | | | Runs a SPF algorithm, requires more CPU |\n",
    " | | | Separate areas of an Autonomous system |\n",
    " | | | Area 0 is the backbone network, all other networks connect to it |\n",
    " | | | Area Border Router (ABR): links areas |\n",
    " | | | Autonomous System Boundary Router (ASBR): connects to an area running a different routing protocol |\n",
    " | | | |\n",
    "**External Gateway Protocols (EGP)** | | |\n",
    "\n"
   ]
  }
 ],
 "metadata": {
  "kernelspec": {
   "display_name": "Python 3",
   "language": "python",
   "name": "python3"
  },
  "language_info": {
   "codemirror_mode": {
    "name": "ipython",
    "version": 3
   },
   "file_extension": ".py",
   "mimetype": "text/x-python",
   "name": "python",
   "nbconvert_exporter": "python",
   "pygments_lexer": "ipython3",
   "version": "3.6.2"
  }
 },
 "nbformat": 4,
 "nbformat_minor": 2
}
