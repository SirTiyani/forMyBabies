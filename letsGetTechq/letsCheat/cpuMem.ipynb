{
 "cells": [
  {
   "cell_type": "markdown",
   "metadata": {},
   "source": [
    "## Memory and Processes\n",
    "<br>\n",
    "- ### Size of Directory\n",
    "\n",
    "```linux\n",
    "du -hd <depth> <dir>\n",
    "                      -s              summarise director size recursively\n",
    "   \n",
    "```\n",
    "<br>\n",
    "- ### Processes\n",
    "  - #### Get Process ID\n",
    "  \n",
    "  ```linux\n",
    "  pidof <process>                     terminal preference\n",
    "  \n",
    "  pgrep <process>                     GUI preference\n",
    "  ```\n",
    "  \n",
    "  - #### List Background Processes\n",
    " \n",
    "   Not Attached to terminal or awaiting user input\n",
    "  ```linux\n",
    "  jobs\n",
    "  ```\n",
    "  - #### Send process to Foregound\n",
    "  \n",
    "  ```linux\n",
    "  fg %<job ID>\n",
    "  ```\n",
    "<br>\n",
    "\n",
    "- ### Querying running Processes \n",
    "  - #### Show running processes\n",
    "  \n",
    "  ```linux\n",
    "  ps -axjf\n",
    "  ```\n",
    "  \n",
    "  - #### filter by CPU usage\n",
    "  \n",
    "  ```linux\n",
    "  ps -aux --sort -pcpu [| grep ''] \n",
    "  ```\n",
    "  \n",
    "  - #### Filter by process name or PID\n",
    "  \n",
    "  ```linux\n",
    "  ps -fC <name or PID>\n",
    "  ```\n",
    "<br>\n",
    "\n",
    "- ### Stopping Processes\n",
    "```linux\n",
    "kill <SIG code> <PID or pName>\n",
    "                                       SIG       3 is quit\n",
    "                                                 9 is kill\n",
    "```\n"
   ]
  },
  {
   "cell_type": "code",
   "execution_count": null,
   "metadata": {
    "collapsed": true
   },
   "outputs": [],
   "source": []
  }
 ],
 "metadata": {
  "kernelspec": {
   "display_name": "Python 3",
   "language": "python",
   "name": "python3"
  },
  "language_info": {
   "codemirror_mode": {
    "name": "ipython",
    "version": 3
   },
   "file_extension": ".py",
   "mimetype": "text/x-python",
   "name": "python",
   "nbconvert_exporter": "python",
   "pygments_lexer": "ipython3",
   "version": "3.6.2"
  }
 },
 "nbformat": 4,
 "nbformat_minor": 2
}
