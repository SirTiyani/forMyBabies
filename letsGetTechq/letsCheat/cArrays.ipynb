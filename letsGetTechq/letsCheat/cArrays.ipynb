{
 "cells": [
  {
   "cell_type": "markdown",
   "metadata": {},
   "source": [
    "# Arrays "
   ]
  },
  {
   "cell_type": "markdown",
   "metadata": {},
   "source": [
    "[dimentions](#More-Dimensions) | [chars](#Character-Arrays) | [strings](#C++-Strings)"
   ]
  },
  {
   "cell_type": "markdown",
   "metadata": {},
   "source": [
    "- **Holds a series of elements of the same data type**\n",
    "  - *data type is declared first. Thus c++ arrays are homogenous*\n",
    "- **Squere brackets are included at the right of the variable name**\n",
    "- **May or may not have the array size or arguments at creating**\n",
    "- **Can only edit a single item at a time**\n",
    "- **Array size cannot change once set**\n"
   ]
  },
  {
   "cell_type": "markdown",
   "metadata": {},
   "source": [
    "```c++\n",
    "#include <iostream>\n",
    "\n",
    "using namespace std;\n",
    "\n",
    "int main()\n",
    "{\n",
    "    // declaring arrays\n",
    "    int my_array[3] = {1, 2, 3};\n",
    "    int my_array2[]  = {1. 2, 3};\n",
    "    \n",
    "    float float_array[4];\n",
    "    float_array[3] = 3.3;\n",
    " \n",
    "\n",
    "    // zero array\n",
    "    int my_zero_array = {};\n",
    "\n",
    "    // changing an element\n",
    "    cout << my_array[2] << endl;\n",
    "    my_array[2] = 4;\n",
    "    cout << '\\n' << my_array[2] << endl;\n",
    "}\n",
    "```\n"
   ]
  },
  {
   "cell_type": "markdown",
   "metadata": {},
   "source": [
    "## More Dimensions \n",
    "\n",
    "- **Arrays within arrays**\n",
    "- **array name is followed by two square brackets**.\n",
    "- **The brackets define the number of rows and columns. this is true for 2D arrays** \n",
    "\n",
    "```c++\n",
    "int main()\n",
    "{\n",
    "    int array_name[row size][col size] = { \n",
    "                                            {row elements}, \n",
    "                                            {column elements} \n",
    "                                         };\n",
    "\n",
    "    # retrieving a value\n",
    "    cout << array_name[row ind][col ind];\n",
    "}\n",
    "```\n",
    "\n",
    "<br>\n",
    "[HOME](#Arrays)"
   ]
  },
  {
   "cell_type": "markdown",
   "metadata": {},
   "source": [
    "## Character Arrays\n",
    "\n",
    "- **String implementation in *C programming***\n",
    "- **The null character is automatically added to the array**\n",
    "- **Array size should be incremented by one to accomodate the *'\\0'* termination character**\n",
    "\n",
    "```c++\n",
    "#include <string>\n",
    "\n",
    "using namespace std;\n",
    "\n",
    "\n",
    "{\n",
    "    // declaring a character array\n",
    "    char char_array[] = \"have you read my notes\";\n",
    "\n",
    "    cout << \"character array has \"<< sizeof(char_array) << \" characters\\n\";\n",
    "    cout << \"the char array reads:\\n    \" << char_array << endl;\n",
    "    \n",
    "    // we count from zero, not 1\n",
    "    cout << \"the last character is: \" << char_array[sizeof(char_array) - 2] << endl;\n",
    "    \n",
    "    char nul[] =\"\"; \n",
    "    cout << \"\\nthe size of the null character: '\\0' is: \" << sizeof(nul) << endl;\n",
    "    return 0;\n",
    "}\n",
    "\n",
    "```\n",
    "\n",
    "<br>\n",
    "[HOME](#Arrays)"
   ]
  },
  {
   "cell_type": "markdown",
   "metadata": {},
   "source": [
    "## C++ Strings\n",
    "\n",
    "- **Are not one of the stadard data types**\n",
    "- **Implemented by including the *string* library**\n",
    "- **strings are memory expensive. Up to 32 bytes depending on the compiler**\n",
    "  - *provide more functionality*\n",
    "  \n",
    "<br>\n",
    "[HOME](#Arrays)"
   ]
  }
 ],
 "metadata": {
  "kernelspec": {
   "display_name": "Python 3",
   "language": "python",
   "name": "python3"
  },
  "language_info": {
   "codemirror_mode": {
    "name": "ipython",
    "version": 3
   },
   "file_extension": ".py",
   "mimetype": "text/x-python",
   "name": "python",
   "nbconvert_exporter": "python",
   "pygments_lexer": "ipython3",
   "version": "3.6.3"
  }
 },
 "nbformat": 4,
 "nbformat_minor": 2
}
