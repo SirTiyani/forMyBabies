{
 "cells": [
  {
   "cell_type": "markdown",
   "metadata": {},
   "source": [
    "# Characters and Strings\n"
   ]
  },
  {
   "cell_type": "markdown",
   "metadata": {},
   "source": [
    "- Every IO object has a functionality to read single characters or multiple\n",
    "- Hence the distincttion between **characters** and **Stings**.\n",
    "- The former takes up more memory\n",
    "- Sometimes character arrays are prefered as opposed to strings"
   ]
  },
  {
   "cell_type": "markdown",
   "metadata": {},
   "source": [
    "## Single Characters\n",
    "\n",
    "- **get** and **put** IO object member functions **extract** or **insert** characters to IO objects, respectively.\n",
    "  - Thus every input stream object has **get** as a **member function** or method and\n",
    "  - every output stream object has **put** method\n",
    "- This includes **escape characters** as well. "
   ]
  },
  {
   "cell_type": "markdown",
   "metadata": {},
   "source": [
    "```c++\n",
    "#include <iostream>\n",
    "#include <string>\n",
    "\n",
    "#using namespace std;\n",
    "\n",
    "int main()\n",
    "{\n",
    "    char symbol\n",
    "    // read input\n",
    "    cin.get(char_var);\n",
    "    \n",
    "    // write output\n",
    "    cout.put(char_var);                      // file_write.put(char_var)\n",
    "}\n",
    "```"
   ]
  }
 ],
 "metadata": {
  "kernelspec": {
   "display_name": "Python 3",
   "language": "python",
   "name": "python3"
  },
  "language_info": {
   "codemirror_mode": {
    "name": "ipython",
    "version": 3
   },
   "file_extension": ".py",
   "mimetype": "text/x-python",
   "name": "python",
   "nbconvert_exporter": "python",
   "pygments_lexer": "ipython3",
   "version": "3.6.3"
  }
 },
 "nbformat": 4,
 "nbformat_minor": 2
}
