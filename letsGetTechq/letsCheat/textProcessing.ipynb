{
 "cells": [
  {
   "cell_type": "markdown",
   "metadata": {},
   "source": [
    "# Text Processing"
   ]
  },
  {
   "cell_type": "markdown",
   "metadata": {},
   "source": [
    "<br>\n",
    "## Regular Expressions "
   ]
  },
  {
   "cell_type": "markdown",
   "metadata": {},
   "source": [
    "[Metachars](#Metacharacters) | [Teasers](#Teasers) | [Groups](#Grouping-Characters) | [Exclude](#Exclude-Characters) | [Repeat](#Repeat-a-Match) | [once|more](#Any-vs-Precision) | [Optional](#Match-or-Ignore) \n",
    "\n",
    "[ExtractInfo](#Match-and-Extract) | [Numbers](#Digits)\n",
    "\n",
    "[terminal](#Regex-on-Linux)"
   ]
  },
  {
   "cell_type": "markdown",
   "metadata": {
    "collapsed": true
   },
   "source": [
    "<br>\n",
    "**Note: Every pattern matches a character**\n",
    "\n",
    "    ^[A-C].[a-c]$ is 3 chars long. Try to avoid *\n",
    "\n",
    "<br>\n",
    "\n",
    "### Metacharacters\n",
    "\n",
    "```bash\n",
    ".                 matches any character\n",
    "                      can repeat\n",
    "                      \n",
    "*                 zero or more characters until white space\n",
    "\n",
    "?                 optionally match previous character or (pattern)\n",
    "\n",
    "+                 one or more repetitions\n",
    "\n",
    "^                 start of line or string\n",
    "\n",
    "$                 end of line or string\n",
    "\n",
    "\\w                any alphanumeric char\n",
    "\n",
    "\\b                boundary between a word and non-word character\n",
    "\\w\\b              matches a word\n",
    "\n",
    "{n,m}             match previous char or (pattern) n to m times\n",
    "\n",
    "[start-finish]    character ranges\n",
    "\n",
    "(...)             match and group pattern\n",
    "\n",
    "(a|z)             match left or right or ... keep going\n",
    "```"
   ]
  },
  {
   "cell_type": "markdown",
   "metadata": {},
   "source": [
    "<br>\n",
    "\n",
    "### Teasers\n",
    "\n",
    "```bash\n",
    "\\d+\\s[a-z]*\\s[a-z]*\\?\n",
    "                      \\d+     : at least one digit\n",
    "                      \\s      : white space\n",
    "                      [a-z]*  : any until space\n",
    "                      \\?      : ? \n",
    "                      \n",
    "\\d\\.\\s+\\w+            \\s+     : single space or more\n",
    "                      \\w+     : any combination of letters and numbers\n",
    "                      \n",
    "^n.*m$                        : match any between n and m. try \n",
    ".+\n",
    "\n",
    "(\\w+\\s+(\\d+))                 : capture Date\n",
    "                     \\w+      : group and capture months\n",
    "                     \\d+      : subgroup and capture years\n",
    "```"
   ]
  },
  {
   "cell_type": "markdown",
   "metadata": {},
   "source": [
    "<br>\n",
    "### Grouping Characters\n",
    "\n",
    "```bash\n",
    "[a-z]             match character from range a-z\n",
    "\n",
    "[^n-m]            exclude patter from range\n",
    "\n",
    "[an]              match character starting with a or n\n",
    "\n",
    "(A|B)             match pattern A or pattern B\n",
    "```\n",
    "<br>\n",
    "[HOME](#Regular-Expressions)"
   ]
  },
  {
   "cell_type": "markdown",
   "metadata": {},
   "source": [
    "<br>\n",
    "### Exclude Characters\n",
    "\n",
    "```bash\n",
    "[^p]attern           exclude pattern starting with p\n",
    "```\n",
    "<br>\n",
    "[HOME](#Regular-Expressions)"
   ]
  },
  {
   "cell_type": "markdown",
   "metadata": {},
   "source": [
    "<br>\n",
    "### Repeat a Match\n",
    "\n",
    "```bash\n",
    "'pattern'{n}         match character or pattern n-times\n",
    "'pattern'{n,m}       match character or patter n to m times\n",
    "```\n",
    "<br>\n",
    "[HOME](#Regular-Expressions)"
   ]
  },
  {
   "cell_type": "markdown",
   "metadata": {},
   "source": [
    "<br>\n",
    "### Any vs Precision\n",
    "\n",
    "```bash\n",
    "\\d+                  at least one digit\n",
    "\n",
    "\\d*                  any number of digits\n",
    "\n",
    "*n                   match n zero or more times\n",
    "\n",
    "                     aa+b*c+             \n",
    "                            match 'a' at least twice\n",
    "                                  'b' zero or more times\n",
    "                                  'c' at least once\n",
    "```\n",
    "\n",
    "<br>\n",
    "[HOME](#Regular-Expressions)"
   ]
  },
  {
   "cell_type": "markdown",
   "metadata": {},
   "source": [
    "<br>\n",
    "### Match once or Ignore\n",
    "\n",
    "```bash\n",
    "?                    preceeding char is optional. match once if any\n",
    "ab?c                 matches abc or ac\n",
    "```\n",
    "\n",
    "<br>\n",
    "[HOME](#Regular-Expressions)"
   ]
  },
  {
   "cell_type": "markdown",
   "metadata": {},
   "source": [
    "<br>\n",
    "### Match and Extract\n",
    "\n",
    "```bash\n",
    "Extracting string inside parenthesis\n",
    "\n",
    "^(\\w.+)\\.             extracting filenames for whatever extension \n",
    "```\n",
    "\n",
    "<br>\n",
    "[HOME](#Regular-Expressions)"
   ]
  },
  {
   "cell_type": "markdown",
   "metadata": {},
   "source": [
    "<br>\n",
    "### Digits\n",
    "\n",
    "```bash\n",
    "/d                   any single digit\n",
    "[0-9]                 \n",
    "                    \n",
    "/D                   any non-diigit character\n",
    "                            \n",
    "```\n",
    "  \n",
    "  <br>\n",
    "[HOME](#Regular-Expressions)"
   ]
  },
  {
   "cell_type": "markdown",
   "metadata": {
    "collapsed": true
   },
   "source": [
    "<br>\n",
    "## Regex on Linux<br> \n",
    "[grep](#Grep-Stuff) | [sed](#Stream-Editor) | [gawk](#Gawk-eBRE)\n",
    "<br>"
   ]
  },
  {
   "cell_type": "markdown",
   "metadata": {},
   "source": [
    "### Grep Stuff"
   ]
  },
  {
   "cell_type": "markdown",
   "metadata": {},
   "source": [
    "#### Text from Screen\n",
    "\n",
    "```bash\n",
    "    grep -option regex source\n",
    "         - A    \n",
    "         - B\n",
    "         - c                 count matching lines\n",
    "         - i                 case insensitive\n",
    "         - n                 prefix line numbers\n",
    "         - v                 invert | nonmatching\n",
    "```"
   ]
  },
  {
   "cell_type": "markdown",
   "metadata": {},
   "source": [
    "### Stream Editor"
   ]
  },
  {
   "cell_type": "markdown",
   "metadata": {},
   "source": [
    "#### Text from Screen\n",
    "\n",
    "```bash\n",
    "    text | sed -n '\\regex\\p'\n",
    "\n",
    "    ls | sed -n '\\/.\\p'              for extended filenames\n",
    "```"
   ]
  },
  {
   "cell_type": "markdown",
   "metadata": {},
   "source": [
    "#### Text from File\n",
    "```bash\n",
    "    sed -n '\\regex\\p' file\n",
    "```"
   ]
  },
  {
   "cell_type": "markdown",
   "metadata": {},
   "source": [
    "### Gawk eBRE"
   ]
  },
  {
   "cell_type": "markdown",
   "metadata": {},
   "source": [
    "#### Screen Output\n",
    "\n",
    "```bash\n",
    "text result | gawk '/regex/{print $0}'\n",
    "    \n",
    "ls | gawk --re-interval '/regex/{print $0}' \n",
    "    \n",
    "# phone number\n",
    "gawk --re-interval \n",
    "    '/^\\(?[2-9][0-9]{2}\\)?(| |-|\\-[0-9]{3}( |-|\\.)[0-9]{4}/{print $0}'\n",
    "```"
   ]
  }
 ],
 "metadata": {
  "kernelspec": {
   "display_name": "Python 3",
   "language": "python",
   "name": "python3"
  },
  "language_info": {
   "codemirror_mode": {
    "name": "ipython",
    "version": 3
   },
   "file_extension": ".py",
   "mimetype": "text/x-python",
   "name": "python",
   "nbconvert_exporter": "python",
   "pygments_lexer": "ipython3",
   "version": "3.6.3"
  }
 },
 "nbformat": 4,
 "nbformat_minor": 2
}
