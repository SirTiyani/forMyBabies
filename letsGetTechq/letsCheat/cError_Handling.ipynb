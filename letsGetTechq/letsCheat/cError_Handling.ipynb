{
 "cells": [
  {
   "cell_type": "markdown",
   "metadata": {},
   "source": [
    "# Exception Handling\n"
   ]
  },
  {
   "cell_type": "markdown",
   "metadata": {},
   "source": [
    "```cpp\n",
    "\n",
    "try\n",
    "{\n",
    "    // possible culprit and condtion\n",
    "    if (culprit == x)\n",
    "        throw culprit;                  // goes to catch block\n",
    "        \n",
    "    // intention\n",
    "    statement(s)\n",
    "}\n",
    "catch (dType culprit?)\n",
    "{\n",
    "    cout << \"EXCEPTION: error massage\";\n",
    "}\n",
    "\n",
    "return 0;\n",
    "```"
   ]
  }
 ],
 "metadata": {
  "kernelspec": {
   "display_name": "Python 3",
   "language": "python",
   "name": "python3"
  },
  "language_info": {
   "codemirror_mode": {
    "name": "ipython",
    "version": 3
   },
   "file_extension": ".py",
   "mimetype": "text/x-python",
   "name": "python",
   "nbconvert_exporter": "python",
   "pygments_lexer": "ipython3",
   "version": "3.6.3"
  }
 },
 "nbformat": 4,
 "nbformat_minor": 2
}
