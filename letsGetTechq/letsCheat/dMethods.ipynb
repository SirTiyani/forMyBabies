{
 "cells": [
  {
   "cell_type": "code",
   "execution_count": 1,
   "metadata": {},
   "outputs": [
    {
     "data": {
      "text/html": [
       "<script>\n",
       "code_show=true; \n",
       "function code_toggle() {\n",
       " if (code_show){\n",
       " $('div.input').hide();\n",
       " } else {\n",
       " $('div.input').show();\n",
       " }\n",
       " code_show = !code_show\n",
       "} \n",
       "$( document ).ready(code_toggle);\n",
       "</script>\n",
       "<form action=\"javascript:code_toggle()\"><input type=\"submit\" value=\"Click here to toggle on/off the raw code.\"></form>"
      ],
      "text/plain": [
       "<IPython.core.display.HTML object>"
      ]
     },
     "execution_count": 1,
     "metadata": {},
     "output_type": "execute_result"
    }
   ],
   "source": [
    "from IPython.display import HTML\n",
    "\n",
    "HTML('''<script>\n",
    "code_show=true; \n",
    "function code_toggle() {\n",
    " if (code_show){\n",
    " $('div.input').hide();\n",
    " } else {\n",
    " $('div.input').show();\n",
    " }\n",
    " code_show = !code_show\n",
    "} \n",
    "$( document ).ready(code_toggle);\n",
    "</script>\n",
    "<form action=\"javascript:code_toggle()\"><input type=\"submit\" value=\"Click here to toggle on/off the raw code.\"></form>''')"
   ]
  },
  {
   "cell_type": "markdown",
   "metadata": {},
   "source": [
    "## Dictionary Methods"
   ]
  },
  {
   "cell_type": "markdown",
   "metadata": {},
   "source": [
    "### Inspect key and Value mapping\n",
    "- #### Keys\n",
    "```python\n",
    "D.keys()\n",
    "```\n",
    "\n",
    "- #### Values\n",
    "```python\n",
    "D.values()\n",
    "```\n",
    "- #### Key-value pair\n",
    "```python\n",
    "D.items()\n",
    "```\n",
    "  - ##### Looping\n",
    "  ```python\n",
    "  for k,v in D.items():\n",
    "      print(k, v)\n",
    "```\n",
    "<br>"
   ]
  },
  {
   "cell_type": "markdown",
   "metadata": {},
   "source": [
    "### Adding Items\n",
    "- #### Single Entry\n",
    "```python\n",
    "D[key] = Val\n",
    "```\n",
    "\n",
    "- #### Multiple Entries\n",
    "```python\n",
    "D.update(\n",
    "            {\n",
    "                'key' = v\n",
    "                 ...\n",
    "            }\n",
    "        )\n",
    "```\n",
    "<br>"
   ]
  },
  {
   "cell_type": "markdown",
   "metadata": {},
   "source": [
    "### Removing Items \n",
    "- #### Use key because D is unordered\n",
    "```python\n",
    "del D[key]\n",
    "```\n",
    "<br>"
   ]
  },
  {
   "cell_type": "markdown",
   "metadata": {},
   "source": [
    "### Sorting Dictionary  Keys\n",
    "```python\n",
    "for k,v in sorted(D.items()):\n",
    "```"
   ]
  },
  {
   "cell_type": "code",
   "execution_count": 48,
   "metadata": {},
   "outputs": [
    {
     "name": "stdout",
     "output_type": "stream",
     "text": [
      "Keys in Nested Dictionary are Indivual Dictionaries\n",
      "\n",
      "apparel\n",
      "  \t         :  business\n",
      "\t\t\t  clothing\n",
      "  \t         :  founded\n",
      "\t\t\t  2016\n",
      "\n",
      "\n",
      "management\n",
      "  \t         :  apparel\n",
      "\t\t\t  Soutre\n",
      "\t\t\t  Ribs\n",
      "  \t         :  CEO\n",
      "\t\t\t  Swurds\n",
      "\n",
      "\n",
      "spatcheMedia\n",
      "  \t         :  business\n",
      "\t\t\t  media and music\n",
      "  \t         :  established\n",
      "\t\t\t  2017\n",
      "  \t         :  artists\n",
      "\t\t\t  Swurds\n",
      "\t\t\t  Gauta\n",
      "\n",
      "\n",
      "twenty7bars\n",
      "  \t         :  business\n",
      "\t\t\t  hiphop events\n",
      "  \t         :  establed\n",
      "\t\t\t  2016\n",
      "\n",
      "\n"
     ]
    }
   ],
   "source": [
    "# Nested\n",
    "blackConglomerate = dict(\n",
    "                            management = {\n",
    "                                            'apparel':['Soutre', 'Ribs'],\n",
    "                                            'CEO':'Swurds'\n",
    "                                        },\n",
    "                            apparel   = {\n",
    "                                            'business':'clothing',\n",
    "                                            'founded':2016\n",
    "                                        },\n",
    "                            twenty7bars={\n",
    "                                            'business':'hiphop events',\n",
    "                                            'establed':2016\n",
    "                                        },\n",
    "                           spatcheMedia={\n",
    "                                            'business':'media and music',\n",
    "                                            'established':2017,\n",
    "                                            'artists':['Swurds', 'Gauta']\n",
    "                                        }\n",
    "                        )\n",
    "print('Keys in Nested Dictionary are Indivual Dictionaries\\n')\n",
    "for D, I in sorted(blackConglomerate.items()):\n",
    "    print(D)\n",
    "    for k, v in I.items():\n",
    "        print('  \\t         : ', k)\n",
    "        if isinstance(v, list):\n",
    "            for i in v:\n",
    "                print('\\t\\t\\t ', i)\n",
    "        else:\n",
    "            print( '\\t\\t\\t ', v)\n",
    "    print('\\n')\n"
   ]
  },
  {
   "cell_type": "code",
   "execution_count": null,
   "metadata": {
    "collapsed": true
   },
   "outputs": [],
   "source": []
  }
 ],
 "metadata": {
  "kernelspec": {
   "display_name": "Python 3",
   "language": "python",
   "name": "python3"
  },
  "language_info": {
   "codemirror_mode": {
    "name": "ipython",
    "version": 3
   },
   "file_extension": ".py",
   "mimetype": "text/x-python",
   "name": "python",
   "nbconvert_exporter": "python",
   "pygments_lexer": "ipython3",
   "version": "3.6.2"
  }
 },
 "nbformat": 4,
 "nbformat_minor": 2
}
