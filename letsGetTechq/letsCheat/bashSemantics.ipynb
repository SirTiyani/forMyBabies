{
 "cells": [
  {
   "cell_type": "markdown",
   "metadata": {},
   "source": [
    "# Bash Fundamentals"
   ]
  },
  {
   "cell_type": "markdown",
   "metadata": {},
   "source": [
    "### A. Bash Variables \n",
    "\n",
    "[constants](#Constants) |   [sequences](#sequences) |   [length](#Length-of-variable) |   [special](#Special-Variables) |   [environment](#Environment-Variables)   \n",
    "\n",
    "[Part II: The language](#B.-Semantics)\n",
    "\n",
    "<br>"
   ]
  },
  {
   "cell_type": "markdown",
   "metadata": {},
   "source": [
    "<br>\n",
    "- ### Read keyboard input\n",
    "\n",
    "```linux\n",
    "Normmally stored in $REPLY. Overwrite with own variables\n",
    "\n",
    "read -p \"prompt message\" var1 varn\n",
    "                                         -s  make secret\n",
    "                                         -n read n number of chars\n",
    "```\n",
    "<br>"
   ]
  },
  {
   "cell_type": "markdown",
   "metadata": {},
   "source": [
    "- ### Constants\n",
    "```linux\n",
    "declare -r var=val\n",
    "```\n",
    "<br>"
   ]
  },
  {
   "cell_type": "markdown",
   "metadata": {},
   "source": [
    "- ### Sequences\n",
    "  - #### Lists\n",
    "  ```linux\n",
    "  declare -a var=(var1 ... varn)\n",
    "  ```\n",
    "  - #### Range \n",
    "  \n",
    "  ```linux\n",
    "     $(seq start step stop)\n",
    "  \n",
    "     {start stop [step]}\n",
    "  ```\n",
    "<br>"
   ]
  },
  {
   "cell_type": "markdown",
   "metadata": {},
   "source": [
    "- ### length of variable\n",
    "```linux\n",
    "${#var}\n",
    "```\n",
    "<br>"
   ]
  },
  {
   "cell_type": "markdown",
   "metadata": {},
   "source": [
    "- ### Special Variables\n",
    " \n",
    "Variable | | Description\n",
    ":--- | --- | ---:\n",
    "\\$0 | | Filename of the current Script\n",
    "\\$n | | arguments invoked with the script. n starts from 1\n",
    "\\$# | | The number of arguments supplied to a script\n",
    "\\$@ | | list-like variable holding all supplied arguments each double quoted\n",
    "\\$? | | The exit status of the last command executed. value 0 is a clean exit status\n",
    "\\$_ | | The last argument of the previous command"
   ]
  },
  {
   "cell_type": "markdown",
   "metadata": {},
   "source": [
    "- ### Environment Variables\n",
    "\n",
    "Variable | | Description\n",
    ":--- | --- | ---:\n",
    "USER | | Current logged in user's name\n",
    "PATH | | Colon separated list of directories to search for binaries\n",
    "REPLY | | holds user input from a keyboard when read command is envoked\n",
    "\n",
    "<br>"
   ]
  },
  {
   "cell_type": "markdown",
   "metadata": {
    "collapsed": true
   },
   "source": [
    "\n",
    "### B. Semantics\n",
    "\n",
    "[sequences](#Handling-Sequences) |  [boolans](#Logical-Thinking)    | [functions](#Functions) |   [Case](#Unpacking-Argument) |\n",
    "\n",
    "[HOME](#Bash-Fundamentals)"
   ]
  },
  {
   "cell_type": "markdown",
   "metadata": {},
   "source": [
    "- ### Handling Sequences\n",
    "  - #### All array values\n",
    "  ```linux\n",
    "  echo $var[@]\n",
    "  ```\n",
    "  - #### Length of the array\n",
    "  \n",
    "  ```linux\n",
    "  echo $#{var[@]}\n",
    "  ```\n",
    "<br>\n",
    "\n",
    "  - #### Indexing \n",
    "    - ##### string\n",
    "    ```linux\n",
    "    ${var:start:stop-1}\n",
    "    ```\n",
    "<br>\n",
    "\n",
    "  - #### loop through given script arguments\n",
    "  ```linux\n",
    "  for var in $@; do\n",
    "      echo $var\n",
    "  done\n",
    "  ```\n",
    "\n",
    "<br>\n"
   ]
  },
  {
   "cell_type": "markdown",
   "metadata": {},
   "source": [
    "- ### Logical Thinking\n",
    "  - #### checking numbers\n",
    "  \n",
    "  ```linux\n",
    "  a=5; b=20\n",
    "  \n",
    "  if [[ $a -lt 10  &&  $b -eq 20 ]]; then\n",
    "      echo Good result\n",
    "  else\n",
    "      echo Bad result\n",
    "  fi\n",
    " \n",
    "  ```\n",
    "  <br>\n",
    "  \n",
    "  - #### checking strings\n",
    "  \n",
    "  ```linux\n",
    "  equality:               [[ $var=\"string\" ]]\n",
    "empty string            [[ -z $var ]]\n",
    "not empty               [[ -n $var ]]\n",
    "  \n",
    "  ```\n",
    "  <br>\n",
    "  - #### checking file properties\n",
    "  \n",
    "  ```linux\n",
    "      -e $file            Does file exist\n",
    "    -f $file            is it an ordinary file. not directory or one of the special file types\n",
    "                          -c character\n",
    "                          -b block\n",
    "                          -d directory\n",
    "      -s $file            is size greater than 0 bytes\n",
    "    -rwx $file          is the file readable, writable or executable\n",
    "                          \n",
    "  ```\n",
    "  <br>\n"
   ]
  },
  {
   "cell_type": "markdown",
   "metadata": {},
   "source": [
    "- ### Functions\n",
    "  - #### creating a function\n",
    "    ```linux\n",
    "    fname(){\n",
    "                       arg1 = $1\n",
    "                   arg2 = $2\n",
    "           }\n",
    "    ```\n",
    "  - #### using a function\n",
    "  ```linux\n",
    "  fname [arg1 ...]\n",
    "  ```"
   ]
  },
  {
   "cell_type": "markdown",
   "metadata": {},
   "source": [
    "- ### Unpacking Arguments"
   ]
  }
 ],
 "metadata": {
  "kernelspec": {
   "display_name": "Python 3",
   "language": "python",
   "name": "python3"
  },
  "language_info": {
   "codemirror_mode": {
    "name": "ipython",
    "version": 3
   },
   "file_extension": ".py",
   "mimetype": "text/x-python",
   "name": "python",
   "nbconvert_exporter": "python",
   "pygments_lexer": "ipython3",
   "version": "3.6.3"
  }
 },
 "nbformat": 4,
 "nbformat_minor": 2
}
