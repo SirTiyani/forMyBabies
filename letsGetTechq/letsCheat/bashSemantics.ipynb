{
 "cells": [
  {
   "cell_type": "markdown",
   "metadata": {},
   "source": [
    "# Bash Fundamentals"
   ]
  },
  {
   "cell_type": "markdown",
   "metadata": {},
   "source": [
    "## A. Bash Variables \n",
    "\n",
    "[constants](#Constants) |   [sequences](#Sequences) |   [length](#length-of-variable) |   [special](#Special-Variables) |   [environment](#Environment-Variables)   \n",
    "\n",
    "[Part II: The language](#B.-Semantics)\n",
    "\n",
    "<br>"
   ]
  },
  {
   "cell_type": "markdown",
   "metadata": {},
   "source": [
    "<br>\n",
    "### Read keyboard input\n",
    "\n",
    "```bash\n",
    "Normmally stored in $REPLY. Overwrite with own variables\n",
    "\n",
    "read -p \"prompt message\" var1 varn\n",
    "                                         -s  make secret\n",
    "                                         -n read n number of chars\n",
    "```\n",
    "<br>"
   ]
  },
  {
   "cell_type": "markdown",
   "metadata": {},
   "source": [
    "### Constants\n",
    "\n",
    "```bash\n",
    "declare                     -r var=val\n",
    "```\n",
    "<br>"
   ]
  },
  {
   "cell_type": "markdown",
   "metadata": {},
   "source": [
    "### Sequences\n",
    "   \n",
    "- **Lists**\n",
    "\n",
    "    ```bash\n",
    "    declare -a myList=(x1 x2 ... xn)\n",
    "    echo ${myList[i]}\n",
    "    ```\n",
    "\n",
    "- **Range**\n",
    "\n",
    "    ```bash\n",
    "    $(seq start step stop)                   # step is optional\n",
    "    ```\n",
    "- **length of variable**\n",
    "\n",
    "```bash\n",
    "${#var}\n",
    "```\n",
    "<br>"
   ]
  },
  {
   "cell_type": "markdown",
   "metadata": {},
   "source": [
    "### Special Variables\n",
    " \n",
    "Variable | | Description\n",
    ":--- | --- | ---:\n",
    "\\$0 | | Filename of the current Script\n",
    "\\$n | | arguments invoked with the script. n starts from 1\n",
    "\\$# | | The number of arguments supplied to a script\n",
    "\\$@ | | list-like variable holding all supplied arguments each double quoted\n",
    "\\$? | | The exit status of the last command executed. value 0 is a clean exit status\n",
    "\\$_ | | The last argument of the previous command"
   ]
  },
  {
   "cell_type": "markdown",
   "metadata": {},
   "source": [
    "### Environment Variables\n",
    "\n",
    "Variable | | Description\n",
    ":--- | --- | ---:\n",
    "USER | | Current logged in user's name\n",
    "PATH | | Colon separated list of directories to search for binaries\n",
    "REPLY | | holds user input from a keyboard when read command is envoked\n",
    "\n",
    "<br>"
   ]
  },
  {
   "cell_type": "markdown",
   "metadata": {
    "collapsed": true
   },
   "source": [
    "## B. Semantics\n",
    "\n",
    "[sequences](#Handling-Sequences) |  [boolans](#Logical-Thinking)    | [functions](#Functions) |   [Case](#Unpacking-Argument) |\n",
    "\n",
    "[HOME](#Bash-Fundamentals)"
   ]
  },
  {
   "cell_type": "markdown",
   "metadata": {},
   "source": [
    "### Handling Sequences\n",
    "  \n",
    "- **All array values**\n",
    "\n",
    "```linux\n",
    "echo $var[@]\n",
    "```\n",
    " \n",
    "- **Length of the array**\n",
    "  \n",
    "```bash\n",
    "echo $#{var[@]}\n",
    "```\n",
    "<br>\n",
    "\n",
    "- **Indexing** \n",
    "  - string\n",
    "```bash\n",
    "    ${var:start:stop-1}\n",
    "```\n",
    "<br>\n",
    "\n",
    "- **loop through given script arguments**\n",
    "```bash\n",
    "for var in $@; do\n",
    "    echo $var\n",
    "done\n",
    "```\n",
    "<br>\n",
    "[HOME](#Bash-Fundamentals)\n"
   ]
  },
  {
   "cell_type": "markdown",
   "metadata": {},
   "source": [
    "### Logical Thinking\n",
    " \n",
    "- **checking numbers**\n",
    "  \n",
    "```bash\n",
    "a=5; b=20\n",
    "  \n",
    "if [[ $a -lt 10  &&  $b -eq 20 ]]; then\n",
    "    echo Good result\n",
    "else\n",
    "    echo Bad result\n",
    "fi\n",
    " \n",
    "```\n",
    "  <br>\n",
    "  \n",
    "- **checking strings**\n",
    "  \n",
    "```bash\n",
    "equality:               [[ $var=\"string\" ]]\n",
    "empty string            [[ -z $var ]]\n",
    "not empty               [[ -n $var ]]\n",
    "  \n",
    "```\n",
    "<br>\n",
    "\n",
    "- **checking file properties**\n",
    "  \n",
    "```bash\n",
    "   -e $file            Does file exist\n",
    "   -f $file            is it an ordinary file. \n",
    "   -c character\n",
    "   -b block\n",
    "   \n",
    "   -d directory\n",
    "   -s $file            is size greater than 0 bytes\n",
    "   -rwx $file          is the file readable, writable or executable\n",
    "                          \n",
    "```\n",
    "<br>\n",
    "[HOME](#Bash-Fundamentals)"
   ]
  },
  {
   "cell_type": "markdown",
   "metadata": {},
   "source": [
    "### Functions\n",
    "\n",
    "- **Creation**\n",
    "\n",
    "```bash\n",
    "funcion_Name()\n",
    "{\n",
    "    arg1 = $1\n",
    "    arg2 = $2\n",
    "}\n",
    "```\n",
    "\n",
    "- **Using a function**\n",
    "\n",
    "```bash\n",
    "function_Name arg1 arg2             # arguments are optional\n",
    "```\n",
    "<br>\n",
    "[HOME](#Bash-Fundamentals)"
   ]
  },
  {
   "cell_type": "markdown",
   "metadata": {},
   "source": [
    "### Scripting Essential "
   ]
  },
  {
   "cell_type": "markdown",
   "metadata": {},
   "source": [
    "- **Verifying Passed Arguments**"
   ]
  },
  {
   "cell_type": "markdown",
   "metadata": {},
   "source": [
    "```bash\n",
    "\n",
    "# exit script on first error encountered\n",
    "set -e\n",
    "\n",
    "# quit if no arguments are passed\n",
    "if [[ $# -eq 0 ]]; then\n",
    "        echo -e \"please include arguments ...\"\n",
    "        echo -e \"   $0 --option1 value --option2 value\\n\"\n",
    "        exit 1\n",
    "fi\n",
    "\n",
    "\n",
    "# get command line arguments\n",
    "while (( \"$#\" )); do\n",
    "    case $1 in\n",
    "\t--option)\n",
    "\t    #assign value to variable\n",
    "\t    var1=$2                        # option is $1, value is $2\n",
    "\t    shift\n",
    "\t    # some logic\n",
    "\t    ;; \n",
    "        --other_option)\n",
    "\t    var2=$2\n",
    "     \t    shift\n",
    "            ;;\n",
    "\t*)\n",
    "\t    echo \"unknown option\"\n",
    "\t    exit 1\n",
    "\t    ;;\n",
    "    esac\n",
    "    shift\n",
    "done\n",
    "```"
   ]
  },
  {
   "cell_type": "markdown",
   "metadata": {},
   "source": [
    "[HOME](#Bash-Fundamentals)"
   ]
  }
 ],
 "metadata": {
  "kernelspec": {
   "display_name": "Python 3",
   "language": "python",
   "name": "python3"
  },
  "language_info": {
   "codemirror_mode": {
    "name": "ipython",
    "version": 3
   },
   "file_extension": ".py",
   "mimetype": "text/x-python",
   "name": "python",
   "nbconvert_exporter": "python",
   "pygments_lexer": "ipython3",
   "version": "3.6.3"
  }
 },
 "nbformat": 4,
 "nbformat_minor": 2
}
