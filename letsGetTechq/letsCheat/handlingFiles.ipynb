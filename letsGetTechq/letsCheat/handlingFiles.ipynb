{
 "cells": [
  {
   "cell_type": "markdown",
   "metadata": {
    "collapsed": true
   },
   "source": [
    "## Handling Files\n",
    "<br>\n",
    "\n",
    "- ### Concatenating Files\n",
    "  - #### text files\n",
    "  ```linux\n",
    "  cat file1 file2 ... > newFile3\n",
    "  ```\n",
    "  - #### PDF files\n",
    "  ```linux\n",
    "  pdftk file1 file2 ... cat output newFile.pdf\n",
    "  ```\n",
    "    - ##### extracting pages\n",
    "    \n",
    "    ```linux\n",
    "    pdftk file.pdf cat <page(s)> output newFile.pdf\n",
    "\n",
    "    ```\n",
    "<br>\n",
    "\n",
    "- ### Compare Files\n",
    "  - #### difference utility\n",
    "  ```linux\n",
    "  diff -i file1 file2\n",
    "       -q                         print if files differ\n",
    "       -y                         show in columns\n",
    "       -w                         ignore whitespace\n",
    "  ```\n",
    "<br>\n",
    "- ### Locating Files\n",
    "    - ##### Through system database\n",
    "    ```linux\n",
    "    locate -i filename\n",
    "    ```\n",
    "    - ##### Through File System\n",
    "    ```linux\n",
    "    find [dirs] -iname ‘filename’ -type f \n",
    "    ```"
   ]
  },
  {
   "cell_type": "code",
   "execution_count": null,
   "metadata": {
    "collapsed": true
   },
   "outputs": [],
   "source": []
  }
 ],
 "metadata": {
  "kernelspec": {
   "display_name": "Python 3",
   "language": "python",
   "name": "python3"
  },
  "language_info": {
   "codemirror_mode": {
    "name": "ipython",
    "version": 3
   },
   "file_extension": ".py",
   "mimetype": "text/x-python",
   "name": "python",
   "nbconvert_exporter": "python",
   "pygments_lexer": "ipython3",
   "version": "3.6.3"
  }
 },
 "nbformat": 4,
 "nbformat_minor": 2
}
