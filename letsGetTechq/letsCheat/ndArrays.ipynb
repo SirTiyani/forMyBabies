{
 "cells": [
  {
   "cell_type": "markdown",
   "metadata": {},
   "source": [
    "## Numpy Arrays \n",
    "<br>"
   ]
  },
  {
   "cell_type": "markdown",
   "metadata": {},
   "source": [
    "[create](#Creating-Arrays) | [properties](#Querying-Arrays) | [indexing](#Indexing) | [reshape](#Reshaping-Arrays) | [3D](#3D-Arrays)"
   ]
  },
  {
   "cell_type": "code",
   "execution_count": 1,
   "metadata": {},
   "outputs": [
    {
     "data": {
      "text/html": [
       "<script>\n",
       "code_show=true; \n",
       "function code_toggle() {\n",
       " if (code_show){\n",
       " $('div.input').hide();\n",
       " } else {\n",
       " $('div.input').show();\n",
       " }\n",
       " code_show = !code_show\n",
       "} \n",
       "$( document ).ready(code_toggle);\n",
       "</script>\n",
       "<form action=\"javascript:code_toggle()\"><input type=\"submit\" value=\"Click here to toggle on/off the raw code.\"></form>"
      ],
      "text/plain": [
       "<IPython.core.display.HTML object>"
      ]
     },
     "execution_count": 1,
     "metadata": {},
     "output_type": "execute_result"
    }
   ],
   "source": [
    "from IPython.display import HTML\n",
    "\n",
    "HTML('''<script>\n",
    "code_show=true; \n",
    "function code_toggle() {\n",
    " if (code_show){\n",
    " $('div.input').hide();\n",
    " } else {\n",
    " $('div.input').show();\n",
    " }\n",
    " code_show = !code_show\n",
    "} \n",
    "$( document ).ready(code_toggle);\n",
    "</script>\n",
    "<form action=\"javascript:code_toggle()\"><input type=\"submit\" value=\"Click here to toggle on/off the raw code.\"></form>''')"
   ]
  },
  {
   "cell_type": "code",
   "execution_count": 2,
   "metadata": {
    "collapsed": true
   },
   "outputs": [],
   "source": [
    "import numpy as np\n",
    "from matplotlib import pyplot as plt\n",
    "import random"
   ]
  },
  {
   "cell_type": "markdown",
   "metadata": {
    "collapsed": true
   },
   "source": [
    "<br>\n",
    "- ### Creating Arrays\n",
    "<br>\n",
    "\n",
    "- ##### Evenly Spaced Arrays\n",
    "\n",
    "```python\n",
    "np.linspace(start, end, size, endpoint = True)\n",
    "```\n",
    "\n",
    "```python\n",
    "np.arange(start, end, step)\n",
    "```\n",
    "<br>"
   ]
  },
  {
   "cell_type": "code",
   "execution_count": 3,
   "metadata": {
    "collapsed": true
   },
   "outputs": [],
   "source": [
    "r = np.random.rand(256)\n",
    "A  = r * np.random.randint(-3, 3, 256)"
   ]
  },
  {
   "cell_type": "markdown",
   "metadata": {},
   "source": [
    "- #### Single Value Arrays\n",
    "  - ##### Null\n",
    "  \n",
    "  ```python\n",
    "  np.zeros(n, [m])\n",
    "  ```\n",
    "  \n",
    "  - ##### One\n",
    "  \n",
    "  ```python\n",
    "  np.ones(n, [m])\n",
    "  ```\n",
    "  \n",
    "<br>"
   ]
  },
  {
   "cell_type": "markdown",
   "metadata": {
    "collapsed": true
   },
   "source": [
    "- #### From Files\n",
    "  - ##### CSV and text\n",
    "  \n",
    "  ```\n",
    "  np.genfromtxt(\n",
    "                  path_to_csv, \n",
    "                  dtype = None, \n",
    "                  delimiter = ',',\n",
    "                  \n",
    "                  names = True\n",
    "                  usecols = [],\n",
    "                  \n",
    "                  skip_header=n,\n",
    "                  skip_footer=n\n",
    "               )                \n",
    "  ```\n",
    "<br>"
   ]
  },
  {
   "cell_type": "markdown",
   "metadata": {},
   "source": [
    "- ### Querying Arrays\n",
    "<br>\n",
    "  - #### numeric array type\n",
    "  \n",
    "  ```python\n",
    "  A.dtype\n",
    "  ```\n",
    "  <br>\n",
    "  - #### array size\n",
    "  ```python\n",
    "  A.size\n",
    "  ```\n",
    "    - ##### element size\n",
    "    ```pythON\n",
    "    A.itemsize\n",
    "    ```\n",
    "    - ##### array size\n",
    "    ```python\n",
    "    A.nbytes\n",
    "    ```\n",
    "  <br>\n",
    "  \n",
    "  - #### array shape\n",
    "  \n",
    "  ```python\n",
    "  A.shape\n",
    "  \n",
    "  A.ndim\n",
    "  ```\n",
    "  \n",
    "  <br>"
   ]
  },
  {
   "cell_type": "markdown",
   "metadata": {},
   "source": [
    "- ### Indexing "
   ]
  },
  {
   "cell_type": "markdown",
   "metadata": {},
   "source": [
    "- #### Single Dimension\n",
    "```python\n",
    "A[row, column]\n",
    "```"
   ]
  },
  {
   "cell_type": "markdown",
   "metadata": {},
   "source": [
    " - #### Multi-dimensional Arrays\n",
    "\n",
    "  ```python\n",
    "  A[row, column]\n",
    "  \n",
    "  A[nrow:mrow, ncol:mcol]\n",
    "  \n",
    "  ```"
   ]
  },
  {
   "cell_type": "code",
   "execution_count": 4,
   "metadata": {},
   "outputs": [
    {
     "name": "stdout",
     "output_type": "stream",
     "text": [
      "ARRAY:\n",
      "\n",
      " [[ 0  1  2  3  4  5]\n",
      " [10 11 12 13 14 15]]\n"
     ]
    }
   ],
   "source": [
    "A = np.array([\n",
    "                range(0,6),\n",
    "                range(10,16)\n",
    "            ])\n",
    "print('ARRAY:\\n\\n', A)\n",
    "B = A[:, 2:4]\n",
    "#B\n"
   ]
  },
  {
   "cell_type": "markdown",
   "metadata": {},
   "source": [
    "\n",
    "- #### Fancy Indexing\n",
    "  - ##### by boolan\n",
    "  \n",
    "  ```python\n",
    "  mask = A <some conditional statement>\n",
    "      e.g mask = A > 12\n",
    "  \n",
    "  A[mask]\n",
    "  ```\n",
    "     - ##### find index and value \n",
    "\n",
    "     ```python\n",
    "     loc = np.where(logic on array)\n",
    "     A[loc]\n",
    "     ```\n",
    "\n",
    "  - ##### using indices\n",
    "\n",
    "  ```python\n",
    "  indices = [ind1, ind2, ...]\n",
    "  A[indices]\n",
    "  ```"
   ]
  },
  {
   "cell_type": "code",
   "execution_count": 5,
   "metadata": {
    "collapsed": true
   },
   "outputs": [],
   "source": [
    "A = np.arange(10,100,10)\n",
    "indices = [0, -1]\n",
    "#A[indices]"
   ]
  },
  {
   "cell_type": "markdown",
   "metadata": {},
   "source": [
    "- ##### 3D\n",
    "\n",
    "  ```python\n",
    "  A[rows, column, pages]\n",
    "  ```"
   ]
  },
  {
   "cell_type": "code",
   "execution_count": null,
   "metadata": {
    "collapsed": true
   },
   "outputs": [],
   "source": []
  }
 ],
 "metadata": {
  "kernelspec": {
   "display_name": "Python 3",
   "language": "python",
   "name": "python3"
  },
  "language_info": {
   "codemirror_mode": {
    "name": "ipython",
    "version": 3
   },
   "file_extension": ".py",
   "mimetype": "text/x-python",
   "name": "python",
   "nbconvert_exporter": "python",
   "pygments_lexer": "ipython3",
   "version": "3.6.2"
  }
 },
 "nbformat": 4,
 "nbformat_minor": 2
}
