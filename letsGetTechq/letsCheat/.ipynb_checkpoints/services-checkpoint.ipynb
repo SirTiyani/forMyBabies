{
 "cells": [
  {
   "cell_type": "markdown",
   "metadata": {},
   "source": [
    "# Network Services "
   ]
  },
  {
   "cell_type": "markdown",
   "metadata": {},
   "source": [
    "[passwords](#Passwords) | [telnet](#Telnet) | [SSH](#Secure-Shell) | [ACLs](#Access-Control-Lists) | [portSecurity](#Port-Security) | [APIs](#Commonly-Known-Ports) [vLANs](#Virtual-LANs) | [stick(R)](#InterVLAN-Routing) | [DHCP]() | [NTP]() | [sysLog]()\n",
    "<br>"
   ]
  },
  {
   "cell_type": "markdown",
   "metadata": {},
   "source": [
    "## Passwords\n",
    "\n",
    "<br>"
   ]
  },
  {
   "cell_type": "markdown",
   "metadata": {},
   "source": [
    "level | Features| Code\n",
    ":--- | :--- | :---\n",
    "User exec | console first level | **line console** 0\n",
    " | | **passwork/secret** PASSWD\n",
    " | | **login**\n",
    " | | \n",
    "privilege exec | privilege and config level | **enable secret** SECRET PASSWD\n",
    " | MD5 encryption, hard to break | \n",
    " | recommended over plain text password |\n",
    " \n",
    "<br>"
   ]
  },
  {
   "cell_type": "markdown",
   "metadata": {},
   "source": [
    "## Telnet\n",
    "\n",
    "access | | Code\n",
    ":--- | :--- | :---\n",
    "general | | **line vty** 0 [max number of users]\n",
    " | | **login**\n",
    " | | **password** PASSWD\n",
    " | |\n",
    "user specific | | **username** USER **secret** SECRET\n",
    " | | **line vty** 0 15\n",
    " | | **login local**\n",
    "\n",
    "<br>"
   ]
  },
  {
   "cell_type": "markdown",
   "metadata": {},
   "source": [
    "## Secure Shell\n",
    "\n",
    "block | | Code\n",
    ":--- | :--- | :---\n",
    " user and machine| | **username** USER **secret** PASSWD\n",
    " | | **ip domain-name** domain.com\n",
    "ssh | |  **crypto key generate rsa modulus** 1024\n",
    " | | **[ip ssh version 2]**\n",
    "apply | | **line vty** 0 5\n",
    " | | **login local**\n",
    " | | **transport input** ssh\n",
    " \n",
    "<br>"
   ]
  },
  {
   "cell_type": "markdown",
   "metadata": {},
   "source": [
    "<img src=\"pics/ACLs.png\" width=450 height=430 style=\"float: right;\">\n",
    "## Access Control Lists\n",
    "\n",
    "- Permit or deny specific traffic in and/or out of the network\n",
    "  - Inbound\n",
    "    - Tested on arrival\n",
    "    - saves routing overhead lookup\n",
    "  - Outbound\n",
    "    - Before leaving device\n",
    "    - Unnecessary overhead lookup if discarded eventually \n",
    "\n",
    "\n",
    "- wildcard implementation\n",
    "  - 0 match all bits\n",
    "  - 1 ignore bits\n",
    "\n",
    "\n",
    "- Used on switches and routers\n",
    "\n",
    "\n",
    "- Escapes statements below once a match is made \n",
    "\n",
    "ACL | Control| code\n",
    ":--- | :--- | :---\n",
    "Standard | Checks the source IP only |\n",
    " | 1-99 and 1300-1999 |\n",
    " | Applies to the entire protocol suite |\n",
    "Extended | validates both the  source and destination |\n",
    " | 100-199 and 2000-2699 |\n",
    " | allows for identification of IPs and Ports |\n",
    "\n",
    "<br>"
   ]
  },
  {
   "cell_type": "markdown",
   "metadata": {},
   "source": [
    "## Port Security \n",
    "\n",
    "- Restricts access to the network to clients with unknown MAC address\n",
    "  - Layer 2 security feature, for plug and play devices\n",
    "\n",
    "- security features are written on switch ports. Network access or denial is as follows:\n",
    "\n",
    "Violation | | Status\n",
    ":--- | --- | :---\n",
    "Shutdown (default) | | Administratively disabled\n",
    " | | Sends a trap log to SNMP\n",
    " | | port power cycle to enable again\n",
    "Protect | | Drops packets\n",
    " | | Reovers when the violating host is removed\n",
    "Restrict | | Similar to Protect, added benefit of event logging \n",
    "\n",
    "\n",
    "- Port security is as follows:\n",
    "\n",
    "Security | Feature | Code\n",
    ":--- | :--- | :---\n",
    "Static Learning | Define the Mac address for the port |\n",
    "Dynamin Learning | Define the max number of MACs to access the port |\n",
    "Combo? | Define the maximum number of MACs with some preferred mac  addresses |\n",
    "Sticky | Dynamic learned address is converted to sticky secured addresses |\n",
    " | Addresses do not age out | \n",
    " \n",
    "<br>"
   ]
  },
  {
   "cell_type": "markdown",
   "metadata": {},
   "source": [
    "## Commonly Known Ports "
   ]
  },
  {
   "cell_type": "code",
   "execution_count": 25,
   "metadata": {},
   "outputs": [
    {
     "data": {
      "text/html": [
       "<script>\n",
       "code_show=true; \n",
       "function code_toggle() {\n",
       " if (code_show){\n",
       " $('div.input').hide();\n",
       " } else {\n",
       " $('div.input').show();\n",
       " }\n",
       " code_show = !code_show\n",
       "} \n",
       "$( document ).ready(code_toggle);\n",
       "</script>\n",
       "<form action=\"javascript:code_toggle()\"><input type=\"submit\" value=\"Click here to toggle on/off the raw code.\"></form>"
      ],
      "text/plain": [
       "<IPython.core.display.HTML object>"
      ]
     },
     "execution_count": 25,
     "metadata": {},
     "output_type": "execute_result"
    }
   ],
   "source": [
    "from IPython.display import HTML\n",
    "\n",
    "HTML('''<script>\n",
    "code_show=true; \n",
    "function code_toggle() {\n",
    " if (code_show){\n",
    " $('div.input').hide();\n",
    " } else {\n",
    " $('div.input').show();\n",
    " }\n",
    " code_show = !code_show\n",
    "} \n",
    "$( document ).ready(code_toggle);\n",
    "</script>\n",
    "<form action=\"javascript:code_toggle()\"><input type=\"submit\" value=\"Click here to toggle on/off the raw code.\"></form>''')"
   ]
  },
  {
   "cell_type": "code",
   "execution_count": 27,
   "metadata": {},
   "outputs": [
    {
     "data": {
      "text/html": [
       "<div>\n",
       "<table border=\"1\" class=\"dataframe\">\n",
       "  <thead>\n",
       "    <tr style=\"text-align: right;\">\n",
       "      <th></th>\n",
       "      <th>Description</th>\n",
       "      <th>Tx Protocol</th>\n",
       "      <th>process name</th>\n",
       "    </tr>\n",
       "    <tr>\n",
       "      <th>port number</th>\n",
       "      <th></th>\n",
       "      <th></th>\n",
       "      <th></th>\n",
       "    </tr>\n",
       "  </thead>\n",
       "  <tbody>\n",
       "    <tr>\n",
       "      <th>20</th>\n",
       "      <td>File Transfer-Data</td>\n",
       "      <td>TCP</td>\n",
       "      <td>FTP-Data</td>\n",
       "    </tr>\n",
       "    <tr>\n",
       "      <th>21</th>\n",
       "      <td>File Transfer-Control</td>\n",
       "      <td>TCP</td>\n",
       "      <td>FTP</td>\n",
       "    </tr>\n",
       "    <tr>\n",
       "      <th>22</th>\n",
       "      <td>Secure Shell</td>\n",
       "      <td>TCP</td>\n",
       "      <td>SSH</td>\n",
       "    </tr>\n",
       "    <tr>\n",
       "      <th>23</th>\n",
       "      <td>Telnet</td>\n",
       "      <td>TCP</td>\n",
       "      <td>Telnet</td>\n",
       "    </tr>\n",
       "    <tr>\n",
       "      <th>25</th>\n",
       "      <td>Simple Mail Transfer Protocol</td>\n",
       "      <td>TCP</td>\n",
       "      <td>SMTP</td>\n",
       "    </tr>\n",
       "    <tr>\n",
       "      <th>53</th>\n",
       "      <td>Domain Name System</td>\n",
       "      <td>TCP and UDP</td>\n",
       "      <td>DNS</td>\n",
       "    </tr>\n",
       "    <tr>\n",
       "      <th>67</th>\n",
       "      <td>Dynamic Host Configuration Protocol v4</td>\n",
       "      <td>UDP</td>\n",
       "      <td>DHCPv4</td>\n",
       "    </tr>\n",
       "    <tr>\n",
       "      <th>68</th>\n",
       "      <td>Dynamic Host Configuration Protocol v4</td>\n",
       "      <td>UDP</td>\n",
       "      <td>DHCPv4</td>\n",
       "    </tr>\n",
       "    <tr>\n",
       "      <th>69</th>\n",
       "      <td>Trivial File Transfer Procol</td>\n",
       "      <td>UDP</td>\n",
       "      <td>TFTP</td>\n",
       "    </tr>\n",
       "    <tr>\n",
       "      <th>80</th>\n",
       "      <td>Hypertext Transfer Protocol</td>\n",
       "      <td>TCP and UDP</td>\n",
       "      <td>HTTP</td>\n",
       "    </tr>\n",
       "    <tr>\n",
       "      <th>110</th>\n",
       "      <td>Post Office Protocol 3</td>\n",
       "      <td>TCP</td>\n",
       "      <td>POP3</td>\n",
       "    </tr>\n",
       "    <tr>\n",
       "      <th>123</th>\n",
       "      <td>Network Time Protocol</td>\n",
       "      <td>TCP</td>\n",
       "      <td>NTP</td>\n",
       "    </tr>\n",
       "    <tr>\n",
       "      <th>143</th>\n",
       "      <td>Internet Message Access Protocol</td>\n",
       "      <td>TCP</td>\n",
       "      <td>IMAP</td>\n",
       "    </tr>\n",
       "    <tr>\n",
       "      <th>443</th>\n",
       "      <td>Secure HTTP</td>\n",
       "      <td>TCP</td>\n",
       "      <td>HTTPS</td>\n",
       "    </tr>\n",
       "    <tr>\n",
       "      <th>546</th>\n",
       "      <td>Dynamic Host Configuration Protocol v6</td>\n",
       "      <td>UDP</td>\n",
       "      <td>DHCPv6</td>\n",
       "    </tr>\n",
       "    <tr>\n",
       "      <th>547</th>\n",
       "      <td>Dynamic Host Configuration Protocol v4</td>\n",
       "      <td>UDP</td>\n",
       "      <td>DHCPv6</td>\n",
       "    </tr>\n",
       "    <tr>\n",
       "      <th>3389</th>\n",
       "      <td>Remote Desktop Protocol</td>\n",
       "      <td>TCP</td>\n",
       "      <td>RDP</td>\n",
       "    </tr>\n",
       "  </tbody>\n",
       "</table>\n",
       "</div>"
      ],
      "text/plain": [
       "                                        Description  Tx Protocol process name\n",
       "port number                                                                  \n",
       "20                               File Transfer-Data          TCP     FTP-Data\n",
       "21                            File Transfer-Control          TCP          FTP\n",
       "22                                     Secure Shell          TCP          SSH\n",
       "23                                           Telnet          TCP       Telnet\n",
       "25                    Simple Mail Transfer Protocol          TCP         SMTP\n",
       "53                               Domain Name System  TCP and UDP          DNS\n",
       "67           Dynamic Host Configuration Protocol v4          UDP       DHCPv4\n",
       "68           Dynamic Host Configuration Protocol v4          UDP       DHCPv4\n",
       "69                     Trivial File Transfer Procol          UDP         TFTP\n",
       "80                      Hypertext Transfer Protocol  TCP and UDP         HTTP\n",
       "110                          Post Office Protocol 3          TCP         POP3\n",
       "123                           Network Time Protocol          TCP          NTP\n",
       "143                Internet Message Access Protocol          TCP         IMAP\n",
       "443                                     Secure HTTP          TCP        HTTPS\n",
       "546          Dynamic Host Configuration Protocol v6          UDP       DHCPv6\n",
       "547          Dynamic Host Configuration Protocol v4          UDP       DHCPv6\n",
       "3389                        Remote Desktop Protocol          TCP          RDP"
      ]
     },
     "execution_count": 27,
     "metadata": {},
     "output_type": "execute_result"
    }
   ],
   "source": [
    "import pandas as pd\n",
    "ports =      {\n",
    "                'port number' : [20, 21, 22, 23, 25, 53, 67, 68, 69, 80, 110, 123, 143, 443, 546, 547, 3389],\n",
    "                'process name': ['FTP-Data', 'FTP', 'SSH', 'Telnet', 'SMTP', 'DNS', 'DHCPv4', 'DHCPv4', \n",
    "                                  'TFTP', 'HTTP', 'POP3', 'NTP', 'IMAP', 'HTTPS', 'DHCPv6', 'DHCPv6', 'RDP'],\n",
    "                'Tx Protocol' : ['TCP', 'TCP', 'TCP', 'TCP', 'TCP', 'TCP and UDP', 'UDP', 'UDP', 'UDP', \n",
    "                                 'TCP and UDP', 'TCP', 'TCP', 'TCP', 'TCP', 'UDP', 'UDP', 'TCP'],\n",
    "                'Description' : ['File Transfer-Data', 'File Transfer-Control', 'Secure Shell', 'Telnet',\n",
    "                                 'Simple Mail Transfer Protocol', 'Domain Name System', 'Dynamic Host Configuration Protocol v4',\n",
    "                                 'Dynamic Host Configuration Protocol v4', 'Trivial File Transfer Procol', 'Hypertext Transfer Protocol',\n",
    "                                 'Post Office Protocol 3', 'Network Time Protocol', 'Internet Message Access Protocol', 'Secure HTTP',\n",
    "                                 'Dynamic Host Configuration Protocol v6', 'Dynamic Host Configuration Protocol v4', 'Remote Desktop Protocol']\n",
    "               }\n",
    "sockets = pd.DataFrame(ports); sockets = sockets.set_index('port number') \n",
    "sockets"
   ]
  },
  {
   "cell_type": "code",
   "execution_count": null,
   "metadata": {
    "collapsed": true
   },
   "outputs": [],
   "source": []
  },
  {
   "cell_type": "markdown",
   "metadata": {},
   "source": [
    "[HOME](#Network-Services)\n",
    "\n",
    "<br>"
   ]
  },
  {
   "cell_type": "markdown",
   "metadata": {},
   "source": [
    "<img src=\"pics/vLANs.png\" width=450 height=430 style=\"float: right;\">\n",
    "## Virtual LANs \n",
    "\n",
    "- Remember a LAN is group of devices in a single broadcast domain \n",
    "\n",
    "\n",
    "- Virtual LANs (VLANs) are individual broadcast domains created by a switch\n",
    "  - become separate broadcast domains\n",
    "  -\tlogical subnets\n",
    "\n",
    "\n",
    "- **The need for VLANs is** \n",
    "  - Segmentation\n",
    "    - Increased performance\n",
    "  - Flexibility\n",
    "    - Span across wans; inter-VLAN routing\n",
    "    - Associated with ip subnet addresses\n",
    "  - Security\n",
    "    - Access and policies to group <img src=\"pics/vlans.png\" width=400 height=430 style=\"float: right;\">\n",
    "\n",
    "vlan | | code | Debug\n",
    "---: | ---: | :--- | :---\n",
    " | | |\n",
    "create | | **vlan** vlanID | **show vlan brief**\n",
    " | | **name** NAME | **show vlan id** vlanID\n",
    " | | |\n",
    "Host | | **interface** INT SLOT/PORT | **show interface** INT **switchport**\n",
    " | | **switchport mode access** | **show interfaces switchport**\n",
    " | | **switchport access vlan** VLAN |\n",
    " | | |\n",
    ".1Q Trunking | | **interface** INT SLOT/PORT | **show interfaces switchport**\n",
    " | | **switchport mode trunk** |\n",
    " | | **switchport trunk native vlan** vlanID |\n",
    "\n",
    "<br>"
   ]
  },
  {
   "cell_type": "markdown",
   "metadata": {},
   "source": [
    "- **TRUNKING with 802.1Q**\n",
    "  - Traditionally, all vlans would need to be individually connected between switches. <img src=\"pics/vlanTrunk.png\" width=450 height=500 style=\"float: right;\">\n",
    "  - Trunking\n",
    "    - vLANS between switches are switched on a single Trunk link\n",
    "      - vLANs share the same native logical LAN\n",
    "      - Link carries frames from different vlans\n",
    "      - vLAN traffice is Identified by a *TAG* inserted in the frame header \n",
    "    - vLANS need to be in identical native vlans <img src=\"pics/dot1Q.png\" height=450 style=\"float: right;\">"
   ]
  },
  {
   "cell_type": "markdown",
   "metadata": {},
   "source": [
    "[HOME](#Network-Services)\n",
    "\n",
    "<br>"
   ]
  },
  {
   "cell_type": "markdown",
   "metadata": {},
   "source": [
    "<img src=\"pics/routerOnStick.png\" width=450 height=500 style=\"float: right;\">\n",
    "## InterVLAN Routing\n",
    "\n",
    "- Vlans create a separate switching segment\n",
    "  - Traffic cannot be switched between vlans\n",
    "  - Each vlan has a different IP subnet description\n",
    "  - thus Routing is needed\n",
    "\n",
    "\n",
    "- for layer 2 switches a Router is needed\n",
    "\n",
    "\n",
    "- Router on a stick\n",
    "  - switches switch vlan frames\n",
    "  - the Router routes traffic between vlans\n",
    "    - route \n",
    " \n",
    "\n"
   ]
  },
  {
   "cell_type": "code",
   "execution_count": null,
   "metadata": {
    "collapsed": true
   },
   "outputs": [],
   "source": []
  }
 ],
 "metadata": {
  "kernelspec": {
   "display_name": "Python 3",
   "language": "python",
   "name": "python3"
  },
  "language_info": {
   "codemirror_mode": {
    "name": "ipython",
    "version": 3
   },
   "file_extension": ".py",
   "mimetype": "text/x-python",
   "name": "python",
   "nbconvert_exporter": "python",
   "pygments_lexer": "ipython3",
   "version": "3.6.2"
  }
 },
 "nbformat": 4,
 "nbformat_minor": 2
}
