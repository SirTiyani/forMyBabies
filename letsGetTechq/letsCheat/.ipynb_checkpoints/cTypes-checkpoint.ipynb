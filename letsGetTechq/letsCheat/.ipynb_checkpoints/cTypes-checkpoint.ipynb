{
 "cells": [
  {
   "cell_type": "markdown",
   "metadata": {},
   "source": [
    "## C++ Data Types "
   ]
  },
  {
   "cell_type": "markdown",
   "metadata": {},
   "source": [
    "```cpp\n",
    "// cpp data types and sizes\n",
    "\n",
    "#include <iostream>\n",
    "#include <string>\n",
    "#include <typeinfo>\n",
    "\n",
    "using namespace std;\n",
    "\n",
    "int main()\n",
    "{\n",
    "    // 1\n",
    "    cout << \"Size of char : \" \n",
    "         << sizeof(char) << \" byte\" << endl;\n",
    "    cout << \"Size of a boolean : \"\n",
    "         << sizeof(true) << \" bytes\" << endl;\n",
    "    // 2\n",
    "    out << \"Size of short int : \" \n",
    "         << sizeof(short int) << \" bytes\" << endl;\n",
    " \n",
    "    // 4\n",
    "    cout << \"Size of int : \" \n",
    "         << sizeof(int) << \" bytes\" << endl;\n",
    "    cout << \"Size of float : \" \n",
    "         << sizeof(float) << \" bytes\" <<endl;   \n",
    "    cout << \"Size of wchar_t : \" \n",
    "         << sizeof(wchar_t) << \" bytes\" <<endl;\n",
    " \n",
    "    // 8\n",
    "    cout << \"Size of long int : \" \n",
    "         << sizeof(long int) << \" bytes\" << endl;\n",
    "    cout << \"Size of signed long int : \" \n",
    "         << sizeof(signed long int) << \" bytes\" << endl;\n",
    "    cout << \"Size of unsigned long int : \" \n",
    "         << sizeof(unsigned long int) << \" bytes\" << endl;\n",
    "    cout << \"Size of double : \" \n",
    "         << sizeof(double) << \" bytes\" << endl;\n",
    "\n",
    "    // 32 bytes:  strings are expensive\n",
    "    cout << \"Size of strings : \" \n",
    "         << sizeof(string) << \" bytes\" << endl;\n",
    "\n",
    " \n",
    "// data type detector\n",
    " \n",
    "    auto who_am_i = 5;\n",
    "    cout << \"\\ndynamic variable: who_am_i is : \"\n",
    "         << typeid(who_am_i).name() << \"\\n\" << endl;\n",
    "\n",
    "// Ranges\n",
    " \n",
    "    // 0 -> 255\n",
    "    cout << \"unsigned short int: 0 to \"\n",
    "         << pow(sizeof(unsigned short int), 8) - 1 << endl;\n",
    "\n",
    "    // -128 -> -127\n",
    "    cout << \"short int: -\" << pow(sizeof(short int), 8) / 2\n",
    "         << \" to \"\n",
    "         << pow(sizeof(short int), 8) /2 - 1 << endl;\n",
    "\n",
    "    // -32768 -> 32767\n",
    "    cout << \"int: -\" << pow(sizeof(int), 8) / 2\n",
    "         << \" to \"\n",
    "         << pow(sizeof(int), 8) /2 - 1 << endl;\n",
    "    return 0;\n",
    "}     \n",
    "```"
   ]
  },
  {
   "cell_type": "markdown",
   "metadata": {},
   "source": [
    "<br>\n",
    "\n",
    "![datatype sizes](pics/cpp_datatype_sizes.png)"
   ]
  }
 ],
 "metadata": {
  "kernelspec": {
   "display_name": "Python 3",
   "language": "python",
   "name": "python3"
  },
  "language_info": {
   "codemirror_mode": {
    "name": "ipython",
    "version": 3
   },
   "file_extension": ".py",
   "mimetype": "text/x-python",
   "name": "python",
   "nbconvert_exporter": "python",
   "pygments_lexer": "ipython3",
   "version": "3.6.3"
  }
 },
 "nbformat": 4,
 "nbformat_minor": 2
}
