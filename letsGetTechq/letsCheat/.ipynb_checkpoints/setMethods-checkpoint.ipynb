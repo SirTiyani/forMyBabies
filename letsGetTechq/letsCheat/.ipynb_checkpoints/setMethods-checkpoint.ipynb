{
 "cells": [
  {
   "cell_type": "code",
   "execution_count": 2,
   "metadata": {},
   "outputs": [
    {
     "data": {
      "text/html": [
       "<script>\n",
       "code_show=true; \n",
       "function code_toggle() {\n",
       " if (code_show){\n",
       " $('div.input').hide();\n",
       " } else {\n",
       " $('div.input').show();\n",
       " }\n",
       " code_show = !code_show\n",
       "} \n",
       "$( document ).ready(code_toggle);\n",
       "</script>\n",
       "<form action=\"javascript:code_toggle()\"><input type=\"submit\" value=\"Click here to toggle on/off the raw code.\"></form>"
      ],
      "text/plain": [
       "<IPython.core.display.HTML object>"
      ]
     },
     "execution_count": 2,
     "metadata": {},
     "output_type": "execute_result"
    }
   ],
   "source": [
    "from IPython.display import HTML\n",
    "\n",
    "HTML('''<script>\n",
    "code_show=true; \n",
    "function code_toggle() {\n",
    " if (code_show){\n",
    " $('div.input').hide();\n",
    " } else {\n",
    " $('div.input').show();\n",
    " }\n",
    " code_show = !code_show\n",
    "} \n",
    "$( document ).ready(code_toggle);\n",
    "</script>\n",
    "<form action=\"javascript:code_toggle()\"><input type=\"submit\" value=\"Click here to toggle on/off the raw code.\"></form>''')"
   ]
  },
  {
   "cell_type": "code",
   "execution_count": 3,
   "metadata": {},
   "outputs": [],
   "source": [
    "import random"
   ]
  },
  {
   "cell_type": "markdown",
   "metadata": {},
   "source": [
    "# Sets \n",
    "\n",
    "- **Collection of unordered, non-repeating values**\n",
    "- **All elements of a subject of interest (integers, real numbers, cars, etc) are referred to as the *Universal* Set**"
   ]
  },
  {
   "cell_type": "markdown",
   "metadata": {},
   "source": [
    "## Union (|)\n",
    "\n",
    "The set of all elements which belong to A or to B $$A\\cup{B} = \\lbrace x : x \\in A or x \\in B \\rbrace$$"
   ]
  },
  {
   "cell_type": "code",
   "execution_count": 4,
   "metadata": {},
   "outputs": [
    {
     "name": "stdout",
     "output_type": "stream",
     "text": [
      "\n",
      "set A:     {0, 2, 4, 6, 8, 10}\n",
      "set B:     {1, 3, 5, 7, 9}\n",
      "A union C: {0, 1, 2, 3, 4, 5, 6, 7, 8, 9, 10}\n"
     ]
    }
   ],
   "source": [
    "A = set(range(0,12,2))\n",
    "B = set(range(1,11,2))\n",
    "C = A | B                        # print(A.union(B))\n",
    "print(\"\"\"\n",
    "set A:     {}\n",
    "set B:     {}\n",
    "A union C: {}\"\"\".format(A, B, C))\n",
    "\n"
   ]
  },
  {
   "cell_type": "markdown",
   "metadata": {},
   "source": [
    "<br>\n",
    "\n",
    "## Intersection (&)\n",
    "\n",
    "The set of all elements which belong to both set A and set B $$A\\cap{B} = \\lbrace x : x \\in A and x \\in B \\rbrace$$"
   ]
  },
  {
   "cell_type": "code",
   "execution_count": 5,
   "metadata": {},
   "outputs": [
    {
     "name": "stdout",
     "output_type": "stream",
     "text": [
      "\n",
      "set A:            {0, 1, 2, 3, 4, 5, 6, 7, 8}\n",
      "set B:            {5, 6, 7}\n",
      "A intersection B: {5, 6, 7}\n"
     ]
    }
   ],
   "source": [
    "A = set(range(0,9)); B = set([5,6,7])\n",
    "C = A & B                       # print(A.intersection(B))\n",
    "print(\"\"\"\n",
    "set A:            {}\n",
    "set B:            {}\n",
    "A intersection B: {}\"\"\".format(A, B, C))"
   ]
  },
  {
   "cell_type": "markdown",
   "metadata": {},
   "source": [
    "<br>\n",
    "\n",
    "##  Set Compliment (A')\n",
    "\n",
    "The set of all elements not in A i.e. the universe\n",
    "$$ A' = \\lbrace x : x \\in U and x \\notin A \\rbrace $$"
   ]
  },
  {
   "cell_type": "code",
   "execution_count": 6,
   "metadata": {},
   "outputs": [
    {
     "name": "stdout",
     "output_type": "stream",
     "text": [
      "\n",
      "set U:        \n",
      "{'E', 'G', 'N', 'C', 'P', 'L', 'A', 'F', 'I', 'Z', 'X', 'R', 'H', 'S', 'M', 'Q', 'J', 'V', 'T', 'U', 'O', 'W', 'D', 'Y', 'B', 'K'}\n",
      "set A:        \n",
      "{'E', 'Q', 'F', 'Z', 'I', 'V', 'X', 'T', 'U', 'R'}\n",
      "A Complement: \n",
      "{'K', 'W', 'S', 'G', 'N', 'D', 'M', 'Y', 'C', 'P', 'A', 'J', 'B', 'O', 'L', 'H'}\n"
     ]
    }
   ],
   "source": [
    "U = \"ABCDEFG\\\n",
    "HIJKLMNOP\\\n",
    "QRSTUVWXYZ\"\n",
    "U = set(U)\n",
    "A = set()\n",
    "for i in range(10):\n",
    "    A.add(chr(random.randint(66, 90)))\n",
    "\n",
    "print(\"\"\"\n",
    "set U:        \n",
    "{}\n",
    "set A:        \n",
    "{}\n",
    "A Complement: \n",
    "{}\"\"\".format(U, A, U - A))"
   ]
  },
  {
   "cell_type": "markdown",
   "metadata": {},
   "source": [
    "<br>\n",
    "\n",
    "## Difference (-) or Relative Complement\n",
    "\n",
    "The set of elements in A, but not in B $$A - {B} = \\lbrace x : x \\in A and x \\notin B \\rbrace$$\n",
    "$$ A - B = A \\cap B' $$"
   ]
  },
  {
   "cell_type": "code",
   "execution_count": 7,
   "metadata": {},
   "outputs": [
    {
     "name": "stdout",
     "output_type": "stream",
     "text": [
      "\n",
      "set A:          {0, 1, 2, 3, 4, 5, 6, 7, 8, 9, 10}\n",
      "set B:          {1, 2, 3, 4, 5, 6, 7, 8, 9, 10}\n",
      "A Difference B: {0}\n"
     ]
    }
   ],
   "source": [
    "A = set(range(0,11))\n",
    "B = set(range(1,11))\n",
    "C = A - B                       # print(A.difference(B))\n",
    "print(\"\"\"\n",
    "set A:          {}\n",
    "set B:          {}\n",
    "A Difference B: {}\"\"\".format(A, B, C))"
   ]
  }
 ],
 "metadata": {
  "kernelspec": {
   "display_name": "Python 3",
   "language": "python",
   "name": "python3"
  },
  "language_info": {
   "codemirror_mode": {
    "name": "ipython",
    "version": 3
   },
   "file_extension": ".py",
   "mimetype": "text/x-python",
   "name": "python",
   "nbconvert_exporter": "python",
   "pygments_lexer": "ipython3",
   "version": "3.6.3"
  }
 },
 "nbformat": 4,
 "nbformat_minor": 2
}
