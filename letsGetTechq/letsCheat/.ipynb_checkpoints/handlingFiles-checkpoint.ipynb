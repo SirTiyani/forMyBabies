{
 "cells": [
  {
   "cell_type": "markdown",
   "metadata": {
    "collapsed": true
   },
   "source": [
    "# Handling Files\n"
   ]
  },
  {
   "cell_type": "markdown",
   "metadata": {},
   "source": [
    "[merging](#Concatenation-Files) | [comparing](#Compare-File) | [searching](#Locating-Files)"
   ]
  },
  {
   "cell_type": "markdown",
   "metadata": {},
   "source": [
    "### Concatenating Files\n",
    "\n",
    "- **text files**\n",
    "```bash\n",
    "cat file1 file2 ... > newFile3\n",
    "```\n",
    "- **PDF files**\n",
    "```bash\n",
    "pdftk file1 file2 ... cat output newFile.pdf\n",
    "```\n",
    "- **extracting pages**\n",
    "```bash\n",
    "pdftk file.pdf cat <page(s)> output newFile.pdf\n",
    "```\n",
    "<br>"
   ]
  },
  {
   "cell_type": "markdown",
   "metadata": {},
   "source": [
    "### Compare Files\n",
    "\n",
    "- **difference utility**\n",
    "```bash\n",
    "diff -i file1 file2\n",
    "                       -q    print if files differ\n",
    "                       -y    show in columns\n",
    "                       -w    ignore whitespace\n",
    "```\n",
    "<br>"
   ]
  },
  {
   "cell_type": "markdown",
   "metadata": {},
   "source": [
    "### Locating Files\n",
    "\n",
    "- **Through system database**\n",
    "```bash\n",
    "locate -i filename\n",
    "```\n",
    "\n",
    "- **Through File System**\n",
    "```bash\n",
    "find [dirs] -iname ‘filename’ -type f \n",
    "```"
   ]
  }
 ],
 "metadata": {
  "kernelspec": {
   "display_name": "Python 3",
   "language": "python",
   "name": "python3"
  },
  "language_info": {
   "codemirror_mode": {
    "name": "ipython",
    "version": 3
   },
   "file_extension": ".py",
   "mimetype": "text/x-python",
   "name": "python",
   "nbconvert_exporter": "python",
   "pygments_lexer": "ipython3",
   "version": "3.6.3"
  }
 },
 "nbformat": 4,
 "nbformat_minor": 2
}
