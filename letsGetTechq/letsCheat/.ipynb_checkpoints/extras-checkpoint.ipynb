{
 "cells": [
  {
   "cell_type": "markdown",
   "metadata": {},
   "source": [
    "# Miscellaneous Functions\n",
    "\n",
    "[Lambda](#Lambda) | [Filter](#Filter) | [Recursion](#Recursion) | [Iterators](#Iterators) | [Generators](#Generators)"
   ]
  },
  {
   "cell_type": "markdown",
   "metadata": {},
   "source": [
    "## Lambda\n",
    "\n",
    "- **One line expression funtion intended to be used once.**\n",
    "- **It is anonymous i.e. has no name**\n",
    "\n",
    "```python\n",
    "def adder(a, b):\n",
    "    retuurn a + b\n",
    "    \n",
    "lambda args*: expr\n",
    "\n",
    "```"
   ]
  },
  {
   "cell_type": "markdown",
   "metadata": {},
   "source": [
    "```python\n",
    "# usage 1\n",
    "my_sum = lambda a, b: a + b\n",
    "my_sum(5,4)\n",
    "```"
   ]
  },
  {
   "cell_type": "markdown",
   "metadata": {},
   "source": [
    "```python\n",
    "# usage 2\n",
    "my_sum = (lambda a, b: a + b) (4, 5)\n",
    "print(my_sum)\n",
    "```"
   ]
  },
  {
   "cell_type": "markdown",
   "metadata": {},
   "source": [
    "<br>\n",
    "## Sequence Functions "
   ]
  },
  {
   "cell_type": "markdown",
   "metadata": {},
   "source": [
    "### Filter\n",
    "\n",
    "- **Returns Values that satisfy the given function**\n",
    "- **Hence used as a filter**\n",
    "\n",
    "```python\n",
    "filter(func, sequence)\n",
    "```"
   ]
  },
  {
   "cell_type": "markdown",
   "metadata": {},
   "source": [
    "```python\n",
    "# return odd\n",
    "def oddValues(x):\n",
    "    if x % 2:\n",
    "        return x\n",
    "    \n",
    "my_odds = filter(oddValues, range(1,10))\n",
    "list(my_odds)\n",
    "```"
   ]
  },
  {
   "cell_type": "markdown",
   "metadata": {},
   "source": [
    "<br>\n",
    "\n",
    "### Map\n",
    "\n",
    "- **Calls the given function for every value in the sequence**\n",
    "- **Can include more than one sequence**\n",
    "- **Ideal for applying a function on all values in the sequence**\n",
    "\n",
    "```python\n",
    "map(func, sequence)\n",
    "```"
   ]
  },
  {
   "cell_type": "markdown",
   "metadata": {},
   "source": [
    "```python\n",
    "def makeCVS(x):\n",
    "    return x+','\n",
    "    \n",
    "csv = map(makeCVS, \"csv\")\n",
    "list(csv)\n",
    "```"
   ]
  },
  {
   "cell_type": "markdown",
   "metadata": {},
   "source": [
    "<br>\n",
    "## Recursion\n",
    "\n",
    "- **Occurs when a function calls itself**\n",
    "  - one needs to define a return statement else the loop will run infinitely\n",
    "- compute and increment/decrement the recursion call"
   ]
  },
  {
   "cell_type": "markdown",
   "metadata": {},
   "source": [
    "```python\n",
    "from functools import lru_cache\n",
    "\n",
    "def f(x):\n",
    "    if x == 1:\n",
    "        return 1\n",
    "    else:\n",
    "        return x + addseq(x-1)\n",
    "```"
   ]
  },
  {
   "cell_type": "code",
   "execution_count": 34,
   "metadata": {},
   "outputs": [],
   "source": [
    "from functools import lru_cache\n",
    "\n",
    "def addseq(x):\n",
    "    if x == 1:\n",
    "        return 1\n",
    "    else:\n",
    "        return x + addseq(x-1)"
   ]
  },
  {
   "cell_type": "code",
   "execution_count": 35,
   "metadata": {},
   "outputs": [
    {
     "name": "stdout",
     "output_type": "stream",
     "text": [
      "the sum of the first 10 numbers is 55\n"
     ]
    }
   ],
   "source": [
    "lru_cache(1000)\n",
    "print(\"the sum of the first 10 numbers is %d\" % (addseq(10)))"
   ]
  },
  {
   "cell_type": "markdown",
   "metadata": {},
   "source": [
    "<br>\n",
    "\n",
    "### Iterators\n",
    "\n",
    "- **A collection of values**\n",
    "- **Values are retrieved using the next method until the last one**\n",
    "\n",
    "```python\n",
    "iter(object)\n",
    "object.__next__()\n",
    "```"
   ]
  },
  {
   "cell_type": "code",
   "execution_count": 36,
   "metadata": {},
   "outputs": [
    {
     "data": {
      "text/plain": [
       "'c'"
      ]
     },
     "execution_count": 36,
     "metadata": {},
     "output_type": "execute_result"
    }
   ],
   "source": [
    "o = iter(['c', 's', 'v'])\n",
    "o.__next__()"
   ]
  },
  {
   "cell_type": "code",
   "execution_count": 37,
   "metadata": {},
   "outputs": [
    {
     "data": {
      "text/plain": [
       "'s'"
      ]
     },
     "execution_count": 37,
     "metadata": {},
     "output_type": "execute_result"
    }
   ],
   "source": [
    "o.__next__()"
   ]
  },
  {
   "cell_type": "code",
   "execution_count": 38,
   "metadata": {},
   "outputs": [
    {
     "data": {
      "text/plain": [
       "'v'"
      ]
     },
     "execution_count": 38,
     "metadata": {},
     "output_type": "execute_result"
    }
   ],
   "source": [
    "o.__next__()"
   ]
  },
  {
   "cell_type": "code",
   "execution_count": 39,
   "metadata": {},
   "outputs": [
    {
     "ename": "StopIteration",
     "evalue": "",
     "output_type": "error",
     "traceback": [
      "\u001b[0;31m---------------------------------------------------------------------------\u001b[0m",
      "\u001b[0;31mStopIteration\u001b[0m                             Traceback (most recent call last)",
      "\u001b[0;32m<ipython-input-39-ee953fc8613e>\u001b[0m in \u001b[0;36m<module>\u001b[0;34m()\u001b[0m\n\u001b[0;32m----> 1\u001b[0;31m \u001b[0mo\u001b[0m\u001b[0;34m.\u001b[0m\u001b[0m__next__\u001b[0m\u001b[0;34m(\u001b[0m\u001b[0;34m)\u001b[0m\u001b[0;34m\u001b[0m\u001b[0m\n\u001b[0m",
      "\u001b[0;31mStopIteration\u001b[0m: "
     ]
    }
   ],
   "source": [
    "o.__next__()"
   ]
  },
  {
   "cell_type": "markdown",
   "metadata": {},
   "source": [
    "### Generators\n",
    "\n",
    "- **Functions that create iterators**\n",
    "- **Function value returned using the *yield* keyword**\n",
    "\n",
    "```python\n",
    "def genIter(seq):\n",
    "    for i in seq:\n",
    "        yield i\n",
    "```"
   ]
  },
  {
   "cell_type": "code",
   "execution_count": null,
   "metadata": {},
   "outputs": [],
   "source": [
    "def cars(models):\n",
    "    for model in models:\n",
    "        yield model"
   ]
  },
  {
   "cell_type": "code",
   "execution_count": null,
   "metadata": {},
   "outputs": [],
   "source": [
    "my_fav_cars = cars(['Audi', 'Mac', 'BIMA'])"
   ]
  },
  {
   "cell_type": "code",
   "execution_count": null,
   "metadata": {},
   "outputs": [],
   "source": [
    "my_fav_cars.__next__()"
   ]
  },
  {
   "cell_type": "code",
   "execution_count": null,
   "metadata": {},
   "outputs": [],
   "source": [
    "for car in my_fav_cars:\n",
    "    print(car)"
   ]
  },
  {
   "cell_type": "code",
   "execution_count": null,
   "metadata": {},
   "outputs": [],
   "source": [
    "my_fav_cars.__next__()"
   ]
  },
  {
   "cell_type": "markdown",
   "metadata": {},
   "source": [
    "```python\n",
    "# generator comprehension\n",
    "odds = (i for i in range(1,15) if i%2)\n",
    "```"
   ]
  }
 ],
 "metadata": {
  "kernelspec": {
   "display_name": "Python 3",
   "language": "python",
   "name": "python3"
  },
  "language_info": {
   "codemirror_mode": {
    "name": "ipython",
    "version": 3
   },
   "file_extension": ".py",
   "mimetype": "text/x-python",
   "name": "python",
   "nbconvert_exporter": "python",
   "pygments_lexer": "ipython3",
   "version": "3.6.3"
  }
 },
 "nbformat": 4,
 "nbformat_minor": 2
}
