{
 "cells": [
  {
   "cell_type": "markdown",
   "metadata": {},
   "source": [
    "## Package Management\n",
    "<br>\n",
    "[Hostnames](#Hostnames) | [Upgrade Operating System](#Updating-OS) | [Packages to Have](#Must-Have)\n",
    "\n",
    "[Installing Docker](#Installing-Docker) | [stopAllContainers](#Stop-All-Containers) | [Add Packages](#Adding-Packages) | [greatImages](#Must-Have-Images)\n",
    "\n",
    "<br>"
   ]
  },
  {
   "cell_type": "markdown",
   "metadata": {},
   "source": [
    "- ### Hostnames\n",
    "\n",
    "```linux\n",
    "edit /etc/hostname\n",
    "\n",
    "edit /etc/hosts\n",
    "     127.0.0.1    localhost.localdomain localhost\n",
    "     127.0.1.1    my-machine\n",
    "```\n",
    "<br>"
   ]
  },
  {
   "cell_type": "markdown",
   "metadata": {},
   "source": [
    "- ### Updating OS\n",
    "\n",
    "```linux\n",
    "ensure prompt is set to \"normal\" in /etc/update-manager/releases-upgrades\n",
    "\n",
    "    sudo apt-get update && sudo apt-get upgrade -y\n",
    "    sudo do-release\n",
    "```\n",
    "<br>"
   ]
  },
  {
   "cell_type": "markdown",
   "metadata": {},
   "source": [
    "- ### Must Have\n",
    "    - python packs\n",
    "      ```linux\n",
    "      sudo apt-get install python-pip python-dev build-essential\n",
    "      ```\n",
    "      \n",
    "    - net-tools\n",
    "    \n",
    "    - youtube-dl\n",
    "      - use pip\n",
    "    \n",
    "    - shutter\n",
    "    \n",
    "    - irssi\n",
    "    \n",
    "    - cmus\n",
    "    \n",
    "    - Adobe Reader\n",
    "    ```linux\n",
    "    sudo add-apt-repository \"deb http://archive.canonical.com/ precise partner\"\n",
    "sudo apt-get update \n",
    "sudo apt install adobereader-enu\n",
    "    ```\n",
    "    - docker-compose     \n",
    "<br>"
   ]
  },
  {
   "cell_type": "markdown",
   "metadata": {
    "collapsed": true
   },
   "source": [
    "<br>\n",
    "- ### Installing Docker\n",
    "<br>\n",
    "    - #### Update Packages\n",
    "    ```linux\n",
    "    sudo apt-get update && apt-get upgrade -y\n",
    "    ```\n",
    "    - #### Install Latest version of Docker\n",
    "    ```linux\n",
    "    sudo apt-key adv --keyserver hkp://p80.pool.sks-keyservers.net:80 --recv-keys 58118E89F3A912897C070ADBF76221572C52609D\n",
    "    \n",
    "    sudo apt-add-repository 'deb https://apt.dockerproject.org/repo ubuntu-xenial main'\n",
    "    \n",
    "    sudo apt-get update\n",
    "    apt-cache policy docker-engine\n",
    "\t\n",
    "    sudo apt-get install docker-engine  -y\n",
    "    ```\n",
    "    - #### Verify Installation\n",
    "    ```linux\n",
    "    sudo systemctl status docker\n",
    "    ```\n",
    "    <br>\n",
    "    \n",
    "    - #### Need help?\n",
    "    ```linux\n",
    "    docker run --help\n",
    "        --rm        remove container after exiting\n",
    "        -it         connent container to terminal\n",
    "        --name      name the container\n",
    "        -v          /local/path:/container/path\n",
    "        -p          local:local or local:tcp\n",
    "     \n",
    "    docker run -it --rm -v ~/Containers/notebooks:/home/jovyan/work --name nbcon -p 8888:8888 jupyter/datascience-notebook \n",
    "    ```"
   ]
  },
  {
   "cell_type": "markdown",
   "metadata": {},
   "source": [
    "<br>\n",
    "- ### Stop All Containers\n",
    "\n",
    "```linux\n",
    "docker stop $(docker ps -a -q)\n",
    "docker rm $(docker ps -a -q)\n",
    "```\n"
   ]
  },
  {
   "cell_type": "markdown",
   "metadata": {},
   "source": [
    "<br>\n",
    "- ### Adding Packages\n",
    "  - #### Connect to a running container \n",
    "  \n",
    "  ```linux\n",
    "  docker exec -it containerName /bin/bash\n",
    " \n",
    "  ```\n",
    "  \n",
    "  - #### commit changes to an image. creates a new image \n",
    "  \n",
    "  ```linux\n",
    "  docker commit runningContainerID nameOfImage\n",
    "  ```  "
   ]
  },
  {
   "cell_type": "markdown",
   "metadata": {},
   "source": [
    "[HOME](#Package-Management)"
   ]
  },
  {
   "cell_type": "markdown",
   "metadata": {},
   "source": [
    "<br>\n",
    "- ### Must have Images\n",
    "  - #### mySQL and Wordpress \n",
    "  \n",
    "```linux\n",
    "version: '2'\n",
    "\n",
    "services:\n",
    "\n",
    "  wordpress:\n",
    "    image: wordpress\n",
    "    container_name: wordpress\n",
    "    restart: always\n",
    "    ports:\n",
    "      - 8080:80\n",
    "    environment:\n",
    "      WORDPRESS_DB_PASSWORD: password\n",
    "    volumes: \n",
    "      - /home/userName/path:/var/www/html/wp-content\n",
    "\n",
    "  mysql:\n",
    "    image: mysql:5.7\n",
    "    container_name: name_db\n",
    "    restart: always\n",
    "    environment:\n",
    "      MYSQL_ROOT_PASSWORD: password\n",
    "    volumes: \n",
    "      - /home/userName/path/:/var/lib/mysql  \n",
    "```"
   ]
  },
  {
   "cell_type": "code",
   "execution_count": null,
   "metadata": {
    "collapsed": true
   },
   "outputs": [],
   "source": []
  }
 ],
 "metadata": {
  "kernelspec": {
   "display_name": "Python 3",
   "language": "python",
   "name": "python3"
  },
  "language_info": {
   "codemirror_mode": {
    "name": "ipython",
    "version": 3
   },
   "file_extension": ".py",
   "mimetype": "text/x-python",
   "name": "python",
   "nbconvert_exporter": "python",
   "pygments_lexer": "ipython3",
   "version": "3.6.3"
  }
 },
 "nbformat": 4,
 "nbformat_minor": 2
}
