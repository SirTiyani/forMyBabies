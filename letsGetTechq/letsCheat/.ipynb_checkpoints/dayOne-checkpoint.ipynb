{
 "cells": [
  {
   "cell_type": "markdown",
   "metadata": {},
   "source": [
    "# Network Systems: Day One "
   ]
  },
  {
   "cell_type": "markdown",
   "metadata": {},
   "source": [
    "[netChars](#Network-Characteristics) | [copper](#Copper-Cables) | [fiber](#Fiber-Cables) | [Topologies](#Topologies) | [OSI](#OSI-Model) | [TCPIP](#TCP/IP-Model) | [Encapsulation](#Encapsulation) | [LAN](#Local-Area-Network) | [Addresses](#Internet-Addresses) \n",
    "\n",
    "<br>"
   ]
  },
  {
   "cell_type": "markdown",
   "metadata": {},
   "source": [
    "## Network Characteristics"
   ]
  },
  {
   "cell_type": "markdown",
   "metadata": {},
   "source": [
    "- *Design*\n",
    "  - **Topology**\n",
    "    - Physical\n",
    "      - Physical layout of the devices and the cabling arrangement.\n",
    "    - Logical\n",
    "      - Path transversed by signal \n",
    "\n",
    "  - **Speed**\n",
    "    - Data rate of a network link\n",
    "    - In bits per second (bps)\n",
    "  - **Cost**\n",
    "     - Units expenses, installations and maintenance\n",
    "     \n",
    "     \n",
    "- *Performance*\n",
    "  - **Scalability**\n",
    "    - Ability to grow, adding more users and data requirements\n",
    "    - consider future changes\n",
    "    \n",
    "    \n",
    "  - **Reliability**\n",
    "    - Dependability of components in the network\n",
    "    - Probability of failure (MTBF - meantime between failures)\n",
    "    \n",
    "    \n",
    "  - **Availability**\n",
    "    - Probability of the network being available for use when needed\n",
    "    - Availability % = (ym - dtm) /  ym [*100]\n",
    "      - Where\n",
    "        - Ym:  number of year minutes\n",
    "          - 365day *24hr * 60min\n",
    "        - dtm: downtime minutes\n",
    "        \n",
    "        \n",
    "  - **Security**\n",
    "    - Protecting the network and data traffic\n",
    "<br>"
   ]
  },
  {
   "cell_type": "markdown",
   "metadata": {},
   "source": [
    "## Copper Cables"
   ]
  },
  {
   "cell_type": "markdown",
   "metadata": {},
   "source": [
    "  - Transmission via electricity <img src=\"pics/utpCable.png\" style=\"float: right;\">\n",
    "  - Affected by Interference (RFI)\n",
    "  - Cheap and easy to make\n",
    "  - Limited Range\n",
    "  \n",
    "  \n",
    "  - Media issues and reduced quality\n",
    "    - reported as noise and excessive collisions\n",
    "    - damaged wires\n",
    "    - new EMI sources introduced\n",
    "    - changes in traffic patterns\n",
    "    - new equipment is installed\n",
    "\n",
    "\n",
    "\n",
    "<br>  \n",
    "- **Unshielded Twisted Pair (UTP)**\n",
    "  - Layer2 technology:     running on Ethernet\n",
    "  - xBaseT specified :     Speed Baseband Cable\n",
    "  - Baseband signaling implies the media carries ethernet \n",
    "  - Twisted copper pairs reduces EMI\n",
    "  - Terminated by RJ45 connectors\n",
    "\n",
    "  ```python\n",
    "  speed={\n",
    "         cat3: 10    mbps, \n",
    "         cat5: 100   mbps, \n",
    "         cat5e: 1000 mbps (1Gb)\n",
    "         }\n",
    "  ```\n",
    "<img src=\"pics/utpSpecs.png\" width=600 height=480>  \n",
    "\n",
    "\n",
    "<br>\n",
    "- **Straight-through or Crossover Cable?** <img src=\"pics/straightVSx.png\" width=560 height=590 style=\"float: right;\">  \n",
    "  \n",
    "  - **Straight-through**\n",
    "    - connects Unlike devices\n",
    "      - switch - Roother\n",
    "      - switch - PC / Server\n",
    "      - switch - Printer\n",
    "    \n",
    "  - **Crossover cable**\n",
    "    - like devices\n",
    "      - switch - switch\n",
    "      - Router - Router\n",
    "      - Router - PC / Server*\n",
    "      - PC     - PC\n",
    "   \n",
    "<br>\n",
    "[HOME](#Network-Systems:-Day-One)"
   ]
  },
  {
   "cell_type": "markdown",
   "metadata": {},
   "source": [
    "<br>\n",
    "## Fiber Cables"
   ]
  },
  {
   "cell_type": "markdown",
   "metadata": {},
   "source": [
    "### Characteristics \n",
    "<img src=\"pics/fiberCable.png\" style=\"float: right;\">\n",
    "\n",
    "- Very thin (250e-6) flexible transparent fiber \n",
    "  - made up of very pure glass(silica)\n",
    "    - Core guides the light\n",
    "    -  9 micrometers vs 50 (human hair)\n",
    " \n",
    "      \n",
    "- Cladding confines the light   \n",
    "  - Light travels much longer distance with less loss\n",
    "    - immune to EMI\n",
    "    - However\n",
    "      - signal loss is introduced by:\n",
    "        - uncentered core splices\n",
    "        - fiber microbends leak out light signal\n",
    "  \n",
    "  \n",
    "- Transmission is either in:  \n",
    "  - Single mode fiber\n",
    "    - Small core\n",
    "    - Uses Laser as pulse source\n",
    "    - Less dispersion\n",
    "    - Long distance applications (-100 Km)\n",
    "      \n",
    "\n",
    "  - Multimode fiber\n",
    "    - Lager core (>= 50 microns) \n",
    "    - Inject with LED as source of light\n",
    "    - Allows greater dispersion, greater attenuation\n",
    "    - Shorter application distance ( - 2 Km)\n",
    "\n",
    "\n",
    "<img src=\"pics/smfVSmmf.png\">\n",
    "<br>"
   ]
  },
  {
   "cell_type": "markdown",
   "metadata": {},
   "source": [
    "[HOME](#Network-Systems:-Day-One)"
   ]
  },
  {
   "cell_type": "markdown",
   "metadata": {
    "collapsed": true
   },
   "source": [
    "## Topologies\n",
    "\n",
    "From 2 perspectives:\n",
    "- Physical\n",
    "  - devices and cabling arrangement\n",
    "  \n",
    "  \n",
    "- Logical\n",
    "  - how information transverses"
   ]
  },
  {
   "cell_type": "markdown",
   "metadata": {},
   "source": [
    "\n",
    "### BUS\n",
    "\n",
    "\n",
    "- Devices connect to a common cable \n",
    "  - Usually a coax cable with terminations on either end<img src=\"pics/busTopology.png\" style=\"float: right;\" width=500>\n",
    "\n",
    "\n",
    "- Pros\n",
    "  - Inexpensive and Easy to implement\n",
    "  - Requires less cable\n",
    "  - No need for specialised network devices\n",
    "\n",
    "\n",
    "- Cons\n",
    "  - Causes network disruption if changes are made to the network\n",
    "  - Entire network shuts down in case of a fault\n",
    "  - Nightmare to troubleshoot\n",
    "<br>"
   ]
  },
  {
   "cell_type": "markdown",
   "metadata": {},
   "source": [
    "### Ring: Tokens\n",
    "\n",
    "<img src=\"pics/ringTopology.png\" style=\"float: right;\" width=500>\n",
    "- Devices cabled to form a closed ring\n",
    "  - Fiber mostly used on switching stations \n",
    "\n",
    "\n",
    "- The last device connects to the first\n",
    "  - Has only 2 neighbors\n",
    "\n",
    "\n",
    "- Fast data transfer rate \n",
    "  - Simple, follows one direction\n",
    "  - no bottleneck\n",
    "\n",
    "\n",
    "- packets pass through each node before reaching the destination, makes it slower\n",
    "  - If a node fails, the entire ring collapses\n",
    "    - Difficult to troubleshoot\n",
    "<br>"
   ]
  },
  {
   "cell_type": "markdown",
   "metadata": {},
   "source": [
    "## Star"
   ]
  },
  {
   "cell_type": "markdown",
   "metadata": {},
   "source": [
    "<img src=\"pics/starTopology.png\" style=\"float: right;\" width=480>\n",
    "- Most common topology \n",
    "  - Nodes use ethernet standard\n",
    "  - cat5/6 cabling mostly deployed\n",
    "  - Unfortunate requires more cabling\n",
    "\n",
    "\n",
    "- Network devices(hosts) connect to a central device\n",
    "  - Faulty node does not affect entire network\n",
    "\n",
    "\n",
    "- Here’s a nerve wrecker\n",
    "  - Ethernet is logical bus in a bus/star layout\n",
    "<br>"
   ]
  },
  {
   "cell_type": "markdown",
   "metadata": {},
   "source": [
    "## Mesh"
   ]
  },
  {
   "cell_type": "markdown",
   "metadata": {},
   "source": [
    "<img src=\"pics/meshTopology.png\" style=\"float: right;\" width=480>\n",
    "- A node connects to one/more nodes\n",
    "  - True for a full mesh \n",
    "  - In case of Partial mesh, access points are of priority\n",
    "\n",
    "\n",
    "- Redundant links increase reliability and self-healing\n",
    "  - UTP and fiber is used\n",
    "\n",
    "\n",
    "- Network expansion/change does not interrupt the network\n",
    "\n",
    "\n",
    "- Requires more cabling than other topologies\n",
    "  - Complicated \n",
    "<br>"
   ]
  },
  {
   "cell_type": "markdown",
   "metadata": {},
   "source": [
    "## OSI Model\n",
    "\n",
    "\n",
    "Open Standard Model\n",
    "- Define hardware and software protocols\n",
    "  - Encompass rules governing network communications\n",
    "  - Simplifies collaboration between networking vendors and suppliers\n"
   ]
  },
  {
   "cell_type": "markdown",
   "metadata": {},
   "source": [
    "![OSI Model](pics/osiFull.png)\n",
    "<br>\n",
    "[HOME](#Network-Systems:-Day-One)"
   ]
  },
  {
   "cell_type": "markdown",
   "metadata": {},
   "source": [
    "<img src='pics/OSImodel.png' height=950>\n",
    "<br>\n",
    "[HOME](#Network-Systems:-Day-One)"
   ]
  },
  {
   "cell_type": "markdown",
   "metadata": {},
   "source": [
    "## TCP/IP Model"
   ]
  },
  {
   "cell_type": "markdown",
   "metadata": {},
   "source": [
    "![](pics/tcpIP.png)\n",
    "<br>\n",
    "[HOME](#Network-Systems:-Day-One)"
   ]
  },
  {
   "cell_type": "markdown",
   "metadata": {},
   "source": [
    "## Encapsulation"
   ]
  },
  {
   "cell_type": "markdown",
   "metadata": {},
   "source": [
    "![](pics/encapsulation.png)"
   ]
  },
  {
   "cell_type": "markdown",
   "metadata": {},
   "source": [
    "[HOME](#Network-Systems:-Day-One)"
   ]
  },
  {
   "cell_type": "markdown",
   "metadata": {},
   "source": [
    "## Local Area Network"
   ]
  },
  {
   "cell_type": "markdown",
   "metadata": {},
   "source": [
    "<img src=\"pics/internet.png\" style=\"float: right;\" width=590 height=550>\n",
    "- Networks spanning a small geographic area\n",
    "  - Small business or campus\n",
    "\n",
    "\n",
    "- Higher data transfer rates\n",
    "\n",
    "\n",
    "- Does not require a telecommunications lease line\n",
    "\n",
    "\n",
    "- Components\n",
    "  - End devices\n",
    "    - PCs, Printers, Servers, Sensors\n",
    "  - Switches and at least one router\n",
    "\n",
    "- Protocols\n",
    "  - Ethernet technology: IEEE 802.2/3\n",
    "<br>"
   ]
  },
  {
   "cell_type": "markdown",
   "metadata": {},
   "source": [
    "[HOME](#Network-Systems:-Day-One)"
   ]
  },
  {
   "cell_type": "markdown",
   "metadata": {},
   "source": [
    "## Internet Addresses"
   ]
  },
  {
   "cell_type": "markdown",
   "metadata": {},
   "source": [
    "<img src=\"pics/ipAddresses.png\" style=\"float: right\">\n",
    "- Private\n",
    "  - Assigned to host that do not connect to the internet directly\n",
    "    - Make use of a default gateway\n",
    "    - Both has a public and private address\n",
    "\n",
    "\n",
    "  - LAN\n",
    "\n",
    "\n",
    "  - Addresses aren’t routable on the internet backbone, immediately discarded on a public link\n",
    "\n",
    "- public\n",
    "  - Provider-dependent addresses from the ISP\n",
    "\n",
    "\n",
    "  - Global unique address assigned to internet hosts\n",
    "\n",
    "\n",
    "  - Translated to Private address upon public-private network transition\n",
    "<br>"
   ]
  },
  {
   "cell_type": "markdown",
   "metadata": {},
   "source": [
    "[HOME](#Network-Systems:-Day-One)"
   ]
  }
 ],
 "metadata": {
  "kernelspec": {
   "display_name": "Python 3",
   "language": "python",
   "name": "python3"
  },
  "language_info": {
   "codemirror_mode": {
    "name": "ipython",
    "version": 3
   },
   "file_extension": ".py",
   "mimetype": "text/x-python",
   "name": "python",
   "nbconvert_exporter": "python",
   "pygments_lexer": "ipython3",
   "version": "3.6.3"
  }
 },
 "nbformat": 4,
 "nbformat_minor": 2
}
