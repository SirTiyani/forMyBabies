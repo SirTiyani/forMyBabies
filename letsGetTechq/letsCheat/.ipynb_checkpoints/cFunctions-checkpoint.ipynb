{
 "cells": [
  {
   "cell_type": "markdown",
   "metadata": {},
   "source": [
    "# C Functions \n",
    "\n",
    "[array arguments](#Passing-Array-Arguments) | [overloading](#Overloading-Functions)"
   ]
  },
  {
   "cell_type": "markdown",
   "metadata": {},
   "source": [
    "\n",
    "- Block of code to carryout a specific task\n",
    "- Return types (data to return from the function) are:\n",
    "  - **void, int, float, string, auto, char, arrays, references, pointers, classes, etc.**\n",
    "- passed arguments are made copies within a function\n",
    "  - **Thus their scope is within the function**\n",
    "  - **not the case with references and pointers**\n",
    "\n",
    "```c++\n",
    "\n",
    "return_type function_Name(arguments){\n",
    "    statements\n",
    "}\n",
    "\n",
    "int main(){\n",
    "\n",
    "    function_Name(args);\n",
    "    \n",
    "    return 0;\n",
    "\n",
    "}\n",
    "\n",
    "```"
   ]
  },
  {
   "cell_type": "markdown",
   "metadata": {},
   "source": [
    "## Passing Array Arguments\n",
    "\n",
    "```c++\n",
    "\n",
    "          \n",
    "void get_Array(double* arr, int array_size)\n",
    "{\n",
    "    for (int i=0; i < array_size; i++)\n",
    "        arr[i]++;\n",
    "}\n",
    "\n",
    "int main(){\n",
    "\n",
    "    double my_array[] = {\n",
    "                            0,\n",
    "                            3.141592,\n",
    "                            2.718281,\n",
    "                            0.577215,\n",
    "                            1.414213,\n",
    "                            1.618033\n",
    "                        };\n",
    "                        \n",
    "    get_Array(my_array, 5);\n",
    "    \n",
    "    for (int i=0; i < 5; i++)\n",
    "        cout << my_array[i] << '\\t';\n",
    "\n",
    "    return 0;}\n",
    "\n",
    "\n",
    "/* int get_Array(int arr[], int array_size)\n",
    "works just fine. difference is the array will be copied\n",
    "onto the function scope\n",
    "*/\n",
    "```\n",
    "\n",
    "<br>\n",
    "[HOME](#C-Functions)"
   ]
  },
  {
   "cell_type": "markdown",
   "metadata": {},
   "source": [
    "## Overloading Functions\n",
    "\n",
    "- **Basically 2 or more functions sharing the same name, but different parameters**\n",
    "- **rather use default parameters for more options when passing arguments**\n",
    "\n",
    "```c++\n",
    "\n",
    "int add(int a, int b, int c= 0)\n",
    "{\n",
    "    return a + b + c;\n",
    "}\n",
    "\n",
    "float add(float a, float b, float c= 0)\n",
    "{\n",
    "    return a + b + c;\n",
    "}\n",
    "\n",
    "\n",
    "int main(){\n",
    "    int a;\n",
    "    a = add(5, 5);\n",
    "\n",
    "    float f;\n",
    "    f = add(5.4, 5.6, 20);\n",
    "    //add(5.0 + 5.0);\n",
    "\n",
    "    cout << \"add int = \" << a\n",
    "         << \"\\nadd float = \" << f << endl;\n",
    "    return 0;}\n",
    "```\n",
    "\n",
    "<br>\n",
    "[HOME](#C-Functions)"
   ]
  }
 ],
 "metadata": {
  "kernelspec": {
   "display_name": "Python 3",
   "language": "python",
   "name": "python3"
  },
  "language_info": {
   "codemirror_mode": {
    "name": "ipython",
    "version": 3
   },
   "file_extension": ".py",
   "mimetype": "text/x-python",
   "name": "python",
   "nbconvert_exporter": "python",
   "pygments_lexer": "ipython3",
   "version": "3.6.3"
  }
 },
 "nbformat": 4,
 "nbformat_minor": 2
}
