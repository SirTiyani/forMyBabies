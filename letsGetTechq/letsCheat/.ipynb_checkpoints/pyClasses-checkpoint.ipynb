{
 "cells": [
  {
   "cell_type": "markdown",
   "metadata": {},
   "source": [
    "# Classes "
   ]
  },
  {
   "cell_type": "markdown",
   "metadata": {},
   "source": [
    "- Object-Oriented Programming style\n",
    "- Analogous to a template of making new objects\n",
    "- The template defines all possible attributes and actions\n",
    "- The variables are called **data members** and \n",
    "  the actions or method are **member functions**\n",
    "- From the template, objects can be create.\n",
    "  These are **instances** of the class, one unique to the other.\n",
    "- **Instances** have access to the data members and functions of the instance class\n",
    "- A class can be **derived** from another class, called the **Super Class** or **Base Class** \n",
    "  - in this case, the **inheriting** class is coined the **sub-class**"
   ]
  },
  {
   "cell_type": "markdown",
   "metadata": {},
   "source": [
    "### Creating a Class\n",
    "\n",
    "- **independent class**\n",
    "\n",
    "```python\n",
    "class ClassName(object):\n",
    "    class variable                           # Can be seen by other instances?\n",
    "    def method(self, [arg(s)]):\n",
    "        instance variable(s)                 # \n",
    "```\n",
    "\n",
    "- **Sub class**\n",
    "\n",
    "```python\n",
    "class ClassName(base-classes):\n",
    "    statement(s)\n",
    "```"
   ]
  },
  {
   "cell_type": "markdown",
   "metadata": {},
   "source": [
    "<br>\n",
    "### Making Objects Unique\n",
    "\n",
    "- First argument in any class method is a reference to the instance the created it\n",
    "- Say hi to **\"self\"**, whom refers to the newly created instance/oject"
   ]
  },
  {
   "cell_type": "code",
   "execution_count": 11,
   "metadata": {},
   "outputs": [],
   "source": [
    "# weak, lookup\n",
    "class MyCompass(object):\n",
    "    def __init__(self, direction='north'):\n",
    "        self.direction = direction\n",
    "\n",
    "    "
   ]
  },
  {
   "cell_type": "markdown",
   "metadata": {},
   "source": [
    "### Class Method\n",
    "\n",
    "- Receives a class as its first argument, not self.\n",
    "- the argument is **clc**\n",
    "\n",
    "```python\n",
    "@classmethod\n",
    "def function_Name(cls, arg1, arg2, ...):\n",
    "    statements\n",
    "```"
   ]
  },
  {
   "cell_type": "code",
   "execution_count": 12,
   "metadata": {},
   "outputs": [],
   "source": [
    "class Ph(object):\n",
    "    # constructor: initial settings\n",
    "    def __init__(self, y = 5):\n",
    "        self.y = y\n",
    "    def printHam(self):\n",
    "        print('Ham')\n",
    "    def getY(self):\n",
    "        print(self.y)"
   ]
  },
  {
   "cell_type": "code",
   "execution_count": 13,
   "metadata": {},
   "outputs": [],
   "source": [
    "# try a network class"
   ]
  },
  {
   "cell_type": "code",
   "execution_count": null,
   "metadata": {},
   "outputs": [],
   "source": []
  }
 ],
 "metadata": {
  "kernelspec": {
   "display_name": "Python 3",
   "language": "python",
   "name": "python3"
  },
  "language_info": {
   "codemirror_mode": {
    "name": "ipython",
    "version": 3
   },
   "file_extension": ".py",
   "mimetype": "text/x-python",
   "name": "python",
   "nbconvert_exporter": "python",
   "pygments_lexer": "ipython3",
   "version": "3.6.3"
  }
 },
 "nbformat": 4,
 "nbformat_minor": 2
}
