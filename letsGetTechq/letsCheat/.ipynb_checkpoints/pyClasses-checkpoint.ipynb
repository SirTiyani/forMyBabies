{
 "cells": [
  {
   "cell_type": "code",
   "execution_count": 26,
   "metadata": {},
   "outputs": [
    {
     "data": {
      "text/html": [
       "<script>\n",
       "code_show=true; \n",
       "function code_toggle() {\n",
       " if (code_show){\n",
       " $('div.input').hide();\n",
       " } else {\n",
       " $('div.input').show();\n",
       " }\n",
       " code_show = !code_show\n",
       "} \n",
       "$( document ).ready(code_toggle);\n",
       "</script>\n",
       "<form action=\"javascript:code_toggle()\"><input type=\"submit\" value=\"Click here to toggle on/off the raw code.\"></form>"
      ],
      "text/plain": [
       "<IPython.core.display.HTML object>"
      ]
     },
     "execution_count": 26,
     "metadata": {},
     "output_type": "execute_result"
    }
   ],
   "source": [
    "from IPython.display import HTML\n",
    "\n",
    "HTML('''<script>\n",
    "code_show=true; \n",
    "function code_toggle() {\n",
    " if (code_show){\n",
    " $('div.input').hide();\n",
    " } else {\n",
    " $('div.input').show();\n",
    " }\n",
    " code_show = !code_show\n",
    "} \n",
    "$( document ).ready(code_toggle);\n",
    "</script>\n",
    "<form action=\"javascript:code_toggle()\"><input type=\"submit\" value=\"Click here to toggle on/off the raw code.\"></form>''')"
   ]
  },
  {
   "cell_type": "markdown",
   "metadata": {},
   "source": [
    "# Classes \n",
    "\n",
    "[self](#Making-Objects-Unique) | [@class](#Class-Methods) | [@static](#Static-Methods) | [inheritance](#Inheritance) | [op-overloading](#Operator-Overloading) | [descriptors](#Descriptors)\n",
    "\n",
    "<br>"
   ]
  },
  {
   "cell_type": "markdown",
   "metadata": {},
   "source": [
    "- Object-Oriented Programming style\n",
    "- Analogous to a template of making new objects\n",
    "- The template defines all possible attributes and actions\n",
    "- The variables are called **data members** and \n",
    "  the actions or method are **member functions**\n",
    "- From the template, objects can be create.\n",
    "  These are **instances** of the class, one unique to the other.\n",
    "- **Instances** have access to the data members and functions of the instance class\n",
    "- A class can be **derived** from another class, called the **Super Class** or **Base Class** \n",
    "  - in this case, the **inheriting** class is coined the **sub-class**"
   ]
  },
  {
   "cell_type": "markdown",
   "metadata": {},
   "source": [
    "## Creating a Class\n",
    "\n",
    "- **independent class**\n",
    "\n",
    "```python\n",
    "class ClassName(object):\n",
    "    class variable                           # Can be seen by other instances\n",
    "    def method(self, [arg(s)]):\n",
    "        instance variable(s)                 \n",
    "```\n",
    "\n",
    "- **Sub class**\n",
    "\n",
    "```python\n",
    "class ClassName(base-classes):\n",
    "    statement(s)\n",
    "```"
   ]
  },
  {
   "cell_type": "code",
   "execution_count": 27,
   "metadata": {},
   "outputs": [
    {
     "name": "stdout",
     "output_type": "stream",
     "text": [
      "Name on A is Super Class\n",
      "Name on B is just class\n",
      "\n",
      "Double Checking A.name is Super Class \n",
      "\n",
      "Because name is a Class variable. Let's change it with class.name\n",
      "Name on A is Class Variable\n",
      "Name on B is just class\n"
     ]
    }
   ],
   "source": [
    "class SimpleClass(object):\n",
    "    name = 'Super Class'\n",
    "    \n",
    "A = SimpleClass()\n",
    "print(\"Name on A is %s\" % A.name)\n",
    "\n",
    "B = SimpleClass()\n",
    "B.name = \"just class\"\n",
    "print(\"Name on B is %s\" % B.name)\n",
    "print(\"\\nDouble Checking A.name is %s \" % A.name)\n",
    "print(\"\\nBecause name is a Class variable. Let's change it with class.name\")\n",
    "\n",
    "# class variable\n",
    "SimpleClass.name = 'Class Variable'\n",
    "print(\"Name on A is %s\" % A.name)\n",
    "print(\"Name on B is %s\" % B.name)"
   ]
  },
  {
   "cell_type": "markdown",
   "metadata": {},
   "source": [
    "<br>\n",
    "## Making Objects Unique\n",
    "\n",
    "- First argument in any class method is a reference to the instance the created it\n",
    "- Say hi to **\"self\"**, whom refers to the newly created instance/oject\n",
    "- the **__init__** method is called after an **instance** of a class is created\n",
    "  - it initializes the attributes or data members of the instance\n",
    "  - it **return no values**\n",
    "  - formal parameters are optional\n",
    "- with it, data members are unique to the instance"
   ]
  },
  {
   "cell_type": "markdown",
   "metadata": {},
   "source": [
    "```python\n",
    "class ClassName(object):\n",
    "    def __init__(self, param1, param2, ...):             # parameters are optional\n",
    "        self.para1 = param1\n",
    "        self.para2 = param2\n",
    "        .... \n",
    "```        \n",
    "\n",
    "[HOME](#Classes)"
   ]
  },
  {
   "cell_type": "markdown",
   "metadata": {},
   "source": [
    "## Class Methods\n",
    "\n",
    "- Functions that affect the whole class.\n",
    "  - thus, it can be called from the class itself, or the class instance\n",
    "    - It is common for all instances of the same class\n",
    "  - useful for keeping track of class variables and states\n",
    "- Receives a class as its first argument, not self.\n",
    "  - the argument is **clc** by convension"
   ]
  },
  {
   "cell_type": "markdown",
   "metadata": {},
   "source": [
    "```python\n",
    "class ClassName:\n",
    "    @classmethod\n",
    "    def function_Name(cls, arg1, arg2, ...):\n",
    "        statement(s)\n",
    "        return obj\n",
    "        \n",
    "ClassName.class_method()\n",
    "obj.class_method()\n",
    "```\n",
    "\n",
    "[HOME](#Classes)"
   ]
  },
  {
   "cell_type": "markdown",
   "metadata": {},
   "source": [
    "## Static Methods\n",
    "\n",
    "- No different that an **ordinary function**\n",
    "  - It just binds its result to the class attribute (instance perhap?)\n",
    "- Different from that class method\n",
    "  - it takes **no arguments**\n",
    "    - not *self* nor *cls*\n",
    "    - not **inherited** by subclasses. class methods are.\n",
    "- Can be accessed throught the class object or instances of the class"
   ]
  },
  {
   "cell_type": "markdown",
   "metadata": {},
   "source": [
    "```python\n",
    "class ClassName(object):\n",
    "    @staticmethod\n",
    "    def static_function_name(params):\n",
    "        statement(s)\n",
    "        return obj\n",
    "```\n",
    "\n",
    "[HOME](#Classes)"
   ]
  },
  {
   "cell_type": "code",
   "execution_count": 28,
   "metadata": {},
   "outputs": [],
   "source": [
    "class Person:\n",
    "    people = 0\n",
    "    \n",
    "    @classmethod\n",
    "    def get_objects(cls):\n",
    "        return \"number of %s objects is %d\" % (Person.__name__, Person.people)\n",
    "    \n",
    "    @staticmethod\n",
    "    def get_objects():\n",
    "        return \"number of %s objects is %d\" % (Person.__name__, Person.people)\n",
    "    \n",
    "    def __init__(self, name, surname, gender, \n",
    "                 age=0, height=0, shoe_size=0,\n",
    "                language='Tsonga', ID = None):\n",
    "        # class or static\n",
    "        Person.people += 1\n",
    "        self.name = name\n",
    "        self.surname = surname\n",
    "        self.gender = gender\n",
    "        self.age = age\n",
    "        self.height = height\n",
    "        self.shoe_size = shoe_size\n",
    "        self.language = language\n",
    "        self.id = ID\n",
    "        \n",
    "    def getName(self):\n",
    "        return self.name\n",
    "    \n",
    "    def getSurname(self):\n",
    "        return self.surname\n",
    "    \n",
    "    def getGender(self):\n",
    "        return self.gender\n",
    "    \n",
    "    def getAge(self):\n",
    "        return self.age\n",
    "    \n",
    "    # operator overloading: must align with the constructor\n",
    "    # (name, surname, gender, age=0, height=0, shoe_size=0, language='Tsonga', ID = None)\n",
    "    def __add__(self, other):\n",
    "        return Person(self.age + other.age)\n",
    "    \n",
    "    def getHeight(self):\n",
    "        return self.height\n",
    "    \n",
    "    def getShoeSize(self):\n",
    "        return self.shoe_size\n",
    "    \n",
    "    def getLanguage(self):\n",
    "        return self.language\n",
    "    \n",
    "    def getID(self):\n",
    "        return self.id\n",
    "    \n",
    "    def setName(self, name):\n",
    "        self.name = name\n",
    "    \n",
    "    def setSurname(self, surname):\n",
    "        self.surname = surname\n",
    "    \n",
    "    def setGender(self, gender):\n",
    "        self.gender = gender\n",
    "    \n",
    "    def setAge(self, age):\n",
    "        self.age = age\n",
    "    \n",
    "    def getHeight(self, height):\n",
    "        self.height = height\n",
    "    \n",
    "    def setShoeSize(self, shoe_size):\n",
    "        self.shoe_size = shoe_size\n",
    "    \n",
    "    def setLanguage(self, language):\n",
    "        self.language = language\n",
    "    \n",
    "    def setID(self, id):\n",
    "        self.id = id\n",
    "        \n",
    "    def __str__(self):\n",
    "        return \"\"\"___________________________________\n",
    "        Person object info\n",
    "        name:       {}\n",
    "        surname:    {}\n",
    "        gender:     {}\n",
    "        age:        {}\n",
    "        height:     {}\n",
    "        shoe size:  {}\n",
    "        language:   {}\n",
    "        ID:         {}\n",
    "___________________________________\n",
    "        \"\"\".format(self.name, self.surname, self.gender, self.age,\n",
    "                   self.height, self.shoe_size, self.language, self.id)"
   ]
  },
  {
   "cell_type": "code",
   "execution_count": 29,
   "metadata": {},
   "outputs": [],
   "source": [
    "boy =  Person('Khal', 'Blue_Iron', 'male', 314, 1.8, 11, ID='1100')\n",
    "girl = Person('Khalisee', 'Red_Sponge', 'female', 241, 1.5, 6, ID='1123')"
   ]
  },
  {
   "cell_type": "code",
   "execution_count": 30,
   "metadata": {},
   "outputs": [
    {
     "data": {
      "text/plain": [
       "'number of Person objects is 2'"
      ]
     },
     "execution_count": 30,
     "metadata": {},
     "output_type": "execute_result"
    }
   ],
   "source": [
    "Person.get_objects()"
   ]
  },
  {
   "cell_type": "code",
   "execution_count": 31,
   "metadata": {},
   "outputs": [
    {
     "name": "stdout",
     "output_type": "stream",
     "text": [
      "___________________________________\n",
      "        Person object info\n",
      "        name:       Khalisee\n",
      "        surname:    Red_Sponge\n",
      "        gender:     female\n",
      "        age:        241\n",
      "        height:     1.5\n",
      "        shoe size:  6\n",
      "        language:   Tswana\n",
      "        ID:         1123\n",
      "___________________________________\n",
      "        \n"
     ]
    }
   ],
   "source": [
    "girl.setLanguage('Tswana')\n",
    "print(girl)"
   ]
  },
  {
   "cell_type": "markdown",
   "metadata": {},
   "source": [
    "## Inheritance\n",
    "\n",
    "copying the data members and member\n",
    "functions of an existing class into another class. <br>\n",
    "**single** - one class is derived from\n",
    "another single class<br>\n",
    "**Multilevel** - When a class inherits a class that in turn is inherited by some another class<br>\n",
    "**multiple** - If a class is derived from more than one base class <br>\n",
    "\n",
    "```python\n",
    "class A:\n",
    "    def __init__(self, a, b = 0, c = None):\n",
    "        \n",
    "        \n",
    "class B(A):\n",
    "    def __init__(self, x, y, z, \n",
    "                 a, b = 0, c = None):\n",
    "        A.__init__(self, a, b = 0, c = None)\n",
    "        ...\n",
    "```\n",
    "\n",
    "[HOME](#Classes)"
   ]
  },
  {
   "cell_type": "code",
   "execution_count": 32,
   "metadata": {},
   "outputs": [],
   "source": [
    "class Student(Person):\n",
    "    def __init__(self, course, level, student_id, fees, majors,\n",
    "                name, surname, gender, age=0, height=0, \n",
    "                shoe_size=0,language='Tsonga', ID = None):\n",
    "        Person.__init__(self, name, surname, gender, age=0, height=0, \n",
    "                        shoe_size=0,language='Tsonga', ID = None)\n",
    "        if majors:\n",
    "            if isinstance(majors, list):\n",
    "                self.majors = majors\n",
    "            if isinstance(majors, str):\n",
    "                if ',' in majors:\n",
    "                    self.majors = majors.split(',')\n",
    "                else:\n",
    "                    self.majors = majors.split(' ')\n",
    "        else:\n",
    "            self.majors = \"None\"\n",
    "        \n",
    "        self.fees = fees\n",
    "        self.level = level\n",
    "        self.course = course\n",
    "        self.student_id = student_id\n",
    "        \n",
    "    def __str__(self):\n",
    "        return \"\"\"___________________________________\n",
    "        {} object info\n",
    "        name:       {}\n",
    "        surname:    {}\n",
    "        gender:     {}\n",
    "        age:        {}\n",
    "        st_ID:      {}\n",
    "        shoe size:  {}\n",
    "        language:   {}\n",
    "        ID:         {}\n",
    "        course:     {}\n",
    "        level:      {}\n",
    "        fees:       {}\n",
    "        majors:     {}\n",
    "___________________________________\n",
    "        \"\"\".format(Student.__name__, self.name, self.surname, self.gender, self.age,\n",
    "                   self.student_id, self.shoe_size, self.language, self.id,\n",
    "                   self.course, self.level, self.fees, self.majors)\n",
    "        \n",
    "        "
   ]
  },
  {
   "cell_type": "code",
   "execution_count": 33,
   "metadata": {},
   "outputs": [],
   "source": [
    "sheldon = Student('ethical hacking', 'masters', '200815506', -812315, \n",
    "                  ['get in and out, mr robot, make them pay'],\n",
    "                  'puzzle', 'solver', 'bot'\n",
    "                 )"
   ]
  },
  {
   "cell_type": "code",
   "execution_count": 34,
   "metadata": {},
   "outputs": [
    {
     "name": "stdout",
     "output_type": "stream",
     "text": [
      "___________________________________\n",
      "        Student object info\n",
      "        name:       puzzle\n",
      "        surname:    solver\n",
      "        gender:     bot\n",
      "        age:        0\n",
      "        st_ID:      200815506\n",
      "        shoe size:  0\n",
      "        language:   Tsonga\n",
      "        ID:         None\n",
      "        course:     ethical hacking\n",
      "        level:      masters\n",
      "        fees:       -812315\n",
      "        majors:     ['get in and out, mr robot, make them pay']\n",
      "___________________________________\n",
      "        \n"
     ]
    }
   ],
   "source": [
    "print(sheldon)"
   ]
  },
  {
   "cell_type": "markdown",
   "metadata": {},
   "source": [
    "## Operator overloading\n",
    "\n",
    "```python\n",
    "class ThisClass:\n",
    "    def __init__(self):\n",
    "        self.f = \"operator overloading\"\n",
    "        \n",
    "    def __add__(self, other):\n",
    "        return ThisClass(self.var1 + other.var1)\n",
    "    \n",
    "    def __eq__(self, other):\n",
    "        return ThisClass(self.var1 == other.var1)\n",
    "    \n",
    "    def __mul__(self, other):\n",
    "        return ThisClass(self.var1 * other.var1)\n",
    "```\n",
    "\n",
    "[HOME](#Classes)"
   ]
  },
  {
   "cell_type": "markdown",
   "metadata": {},
   "source": [
    "## Properties\n",
    "\n",
    "```python\n",
    "class product(object):\n",
    "    def __init__(self, name):\n",
    "        self._name = name\n",
    "\n",
    "    def set_name(self, name):\n",
    "        print ('Setting product name: %s' % name)\n",
    "        self._name = name\n",
    "\n",
    "    def get_name(self):\n",
    "        return self._name\n",
    "\n",
    "    def del_name(self):\n",
    "        del self._name\n",
    "```\n",
    "\n",
    "[HOME](#Classes)"
   ]
  },
  {
   "cell_type": "markdown",
   "metadata": {},
   "source": [
    "## Descriptors\n",
    "\n",
    "- Data descriptors\n",
    "  - ```__set__ and __delete__```\n",
    "- Non-data Descriptors\n",
    "  - ```__get__```\n",
    "  \n",
    "classes that enable us to manage instance attributes <br>\n",
    "An attribute's value is obtained through calling ```__get__``` and set through ```__set__``` <br>\n",
    "python does it underneath the hood\n",
    "\n",
    "```python\n",
    "class Descriptor:\n",
    "    def __get__(self, instance, owner):\n",
    "        ...\n",
    "    def __set__(self, instance, value):\n",
    "        ...\n",
    "    def __delete__(self, instance):\n",
    "        ...\n",
    "```\n",
    "\n",
    "[HOME](#Classes)"
   ]
  },
  {
   "cell_type": "markdown",
   "metadata": {},
   "source": [
    "## reading and writing class attributes\n",
    "\n",
    "- ```___setattr___```\n",
    "  - is called whenever you try to assign a value to an instance variable\n",
    "  - also used to perform type checking on values before assigning them to instance variables.\n",
    "  \n",
    "- ``` __getattr__ ```\n",
    "  - fetches an attribute of an instance using a string object and is called when attribute lookup fails\n",
    "  - should either return the value (of any type) of the instance variable or raise an Exception\n",
    "- ``` __delattr__```\n",
    "  - is called when an attribute of an instance is deleted via the del statement.\n",
    "  \n",
    "\n",
    "[HOME](#Classes)"
   ]
  },
  {
   "cell_type": "code",
   "execution_count": 35,
   "metadata": {},
   "outputs": [
    {
     "name": "stdout",
     "output_type": "stream",
     "text": [
      "25\n",
      "Camera\n",
      "\n",
      "\n",
      "Cell\n",
      "15\n"
     ]
    }
   ],
   "source": [
    "class product:\n",
    "    price=25\n",
    "    def __init__(self, name):\n",
    "        self.name=name\n",
    "    def __setattr__(self,name,value):\n",
    "        self.__dict__[name]=value\n",
    "    def __getattr__(self,name):\n",
    "        return self.name\n",
    "\n",
    "p=product('Camera')\n",
    "print (p.price)\n",
    "print (p.name)\n",
    "print('\\n')\n",
    "p.price=15\n",
    "p.name=\"Cell\"\n",
    "print (p.name)\n",
    "print(p.price)"
   ]
  }
 ],
 "metadata": {
  "kernelspec": {
   "display_name": "Python 3",
   "language": "python",
   "name": "python3"
  },
  "language_info": {
   "codemirror_mode": {
    "name": "ipython",
    "version": 3
   },
   "file_extension": ".py",
   "mimetype": "text/x-python",
   "name": "python",
   "nbconvert_exporter": "python",
   "pygments_lexer": "ipython3",
   "version": "3.6.3"
  }
 },
 "nbformat": 4,
 "nbformat_minor": 2
}
