{
 "cells": [
  {
   "cell_type": "markdown",
   "metadata": {},
   "source": [
    "## File and Resource Sharing\n",
    "<br>"
   ]
  },
  {
   "cell_type": "markdown",
   "metadata": {},
   "source": [
    "- ### File Sharing\n",
    "  - #### SCP: on reliable connections\n",
    "  ```linux\n",
    "  scp file USER@DEST:PATH\n",
    "  ```\n",
    "  \n",
    "  - #### rSync: continue where you left off\n",
    "  ```linux\n",
    "  rsync -v -e ssh [-p port] file USER@DEST:PATH\n",
    "                     -r          recursively if dir\n",
    "                     -z          compress\n",
    "                     -P          show progress\n",
    "                    --delete     delete files on Destination if not in tx session\n",
    "  ```\n",
    "  <br>"
   ]
  },
  {
   "cell_type": "markdown",
   "metadata": {},
   "source": [
    "- ### Mounting Disk Files\n",
    "\n",
    "```linux\n",
    "mount [-t fsType] fileSystem mountPoint\n",
    "\n",
    "umount mountPoint\n",
    "```\n",
    "\n",
    "<br>\n",
    "\n",
    "| File System Type   |      File System      |  Common Points |\n",
    "|:----------|:-------------:|------:|\n",
    "|iso9660     |       /dev/cdrom        |/mnt/cdrom|\n",
    "|          |   /dev/usb      |   /mnt/usb |"
   ]
  },
  {
   "cell_type": "code",
   "execution_count": null,
   "metadata": {
    "collapsed": true
   },
   "outputs": [],
   "source": []
  }
 ],
 "metadata": {
  "kernelspec": {
   "display_name": "Python 3",
   "language": "python",
   "name": "python3"
  },
  "language_info": {
   "codemirror_mode": {
    "name": "ipython",
    "version": 3
   },
   "file_extension": ".py",
   "mimetype": "text/x-python",
   "name": "python",
   "nbconvert_exporter": "python",
   "pygments_lexer": "ipython3",
   "version": "3.6.2"
  }
 },
 "nbformat": 4,
 "nbformat_minor": 2
}
