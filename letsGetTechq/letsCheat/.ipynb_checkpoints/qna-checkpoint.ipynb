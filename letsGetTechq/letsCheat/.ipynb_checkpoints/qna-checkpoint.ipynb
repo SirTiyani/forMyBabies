{
 "cells": [
  {
   "cell_type": "markdown",
   "metadata": {},
   "source": [
    "## Questions and Answers \n",
    "\n",
    "[Intro](#Simple-Network)\n",
    "\n",
    "<br>"
   ]
  },
  {
   "cell_type": "markdown",
   "metadata": {},
   "source": [
    "### Simple Network "
   ]
  },
  {
   "cell_type": "markdown",
   "metadata": {},
   "source": [
    "![hey](pics/0branch.png)\n",
    "\n",
    "![firewall](pics/0firewall.png)\n",
    "\n",
    "![interactions](pics/0interactions.png)\n",
    "\n",
    "![firewall](pics/0reliability.png)\n",
    "\n",
    "![wireless](pics/0wireless.png)"
   ]
  }
 ],
 "metadata": {
  "kernelspec": {
   "display_name": "Python 3",
   "language": "python",
   "name": "python3"
  },
  "language_info": {
   "codemirror_mode": {
    "name": "ipython",
    "version": 3
   },
   "file_extension": ".py",
   "mimetype": "text/x-python",
   "name": "python",
   "nbconvert_exporter": "python",
   "pygments_lexer": "ipython3",
   "version": "3.6.3"
  }
 },
 "nbformat": 4,
 "nbformat_minor": 2
}
