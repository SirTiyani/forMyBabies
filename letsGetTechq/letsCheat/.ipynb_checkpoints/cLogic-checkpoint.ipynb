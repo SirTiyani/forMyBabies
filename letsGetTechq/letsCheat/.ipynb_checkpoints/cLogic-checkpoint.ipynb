{
 "cells": [
  {
   "cell_type": "markdown",
   "metadata": {},
   "source": [
    "# Logic In C "
   ]
  },
  {
   "cell_type": "markdown",
   "metadata": {},
   "source": [
    "[decisions](#Decision-Making) | [switches](#Switch-Cases)"
   ]
  },
  {
   "cell_type": "markdown",
   "metadata": {},
   "source": [
    "## Decision Making \n",
    "\n",
    "- **Boolean values are either *0* or *1***\n",
    "- **Single line statements need not have *{}***\n",
    "  - **a must for a block of code**"
   ]
  },
  {
   "cell_type": "markdown",
   "metadata": {},
   "source": [
    "```c++\n",
    "\n",
    "int main()    \n",
    "{\n",
    "    float grade;\n",
    "    cout << \"What's your final grade: \";\n",
    "    cin >> grade;\n",
    "    \n",
    "    if (grade < 40)\n",
    "        cout << \"\\nWatch more lecture vids and read more notebooks\\n\";\n",
    "    \n",
    "    // AND: &&        OR: ||\n",
    "    else if (grade >=40 && grade < 50){\n",
    "        cout << \"\\nIf you are happy proceed\" << endl;\n",
    "        cout << \"If not, Try again and be happy. Try focusing on business too\\n\";\n",
    "    }\n",
    "\n",
    "    else\n",
    "        cout << \"\\nHave you started a business plan\\n\";\n",
    " \n",
    "    \n",
    "    // LOGIC operator\n",
    "    // expr ? True value : False value\n",
    "    string decision;\n",
    "    decision = 1 > -10 ? \"True\" : \"False\";\n",
    "    cout << decision << endl;\n",
    "\n",
    "```\n",
    "\n",
    "<br>\n",
    "[HOME](#Logic-In-C)"
   ]
  },
  {
   "cell_type": "markdown",
   "metadata": {},
   "source": [
    "## Switch Cases\n",
    "\n",
    "- **Limited data types. works on characters and intergers**\n",
    "- **Ideal for minimizing compounded *if else* statements**\n",
    "\n",
    "```c++\n",
    "int var;                // or char var\n",
    "\n",
    "// evaluate var\n",
    "switch (var)\n",
    "{\n",
    "    case scenario1:\n",
    "        statements ...\n",
    "        break;\n",
    "        \n",
    "    case scenario N-1:\n",
    "        statements ...\n",
    "        break;\n",
    "        \n",
    "    // finally\n",
    "    default:\n",
    "        statements\n",
    "}\n",
    "```\n"
   ]
  },
  {
   "cell_type": "markdown",
   "metadata": {},
   "source": [
    "```c++\n",
    "\n",
    "int main()\n",
    "{\n",
    "    int grade;\n",
    "    cin >> grade;\n",
    "    \n",
    "    switch (grade)\n",
    "    {\n",
    "        case 0 ... 39:\n",
    "            cout << \"\\nWatch more lecture vids and read more notebooks\\n\";\n",
    "            break;\n",
    "     \n",
    "        case 40 ... 49:\n",
    "            cout << \"\\nIf you are happy proceed\" << endl;\n",
    "            cout << \"If not, Try again and be happy. Try focusing on business too\\n\";\n",
    "            break;\n",
    "     \n",
    "        default:\n",
    "            cout << \"\\nBuild an empire\\n\";\n",
    "    }\n",
    "}\n",
    "\n",
    "```\n",
    "\n",
    "[HOME](#Logic-In-C)"
   ]
  }
 ],
 "metadata": {
  "kernelspec": {
   "display_name": "Python 3",
   "language": "python",
   "name": "python3"
  },
  "language_info": {
   "codemirror_mode": {
    "name": "ipython",
    "version": 3
   },
   "file_extension": ".py",
   "mimetype": "text/x-python",
   "name": "python",
   "nbconvert_exporter": "python",
   "pygments_lexer": "ipython3",
   "version": "3.6.3"
  }
 },
 "nbformat": 4,
 "nbformat_minor": 2
}
