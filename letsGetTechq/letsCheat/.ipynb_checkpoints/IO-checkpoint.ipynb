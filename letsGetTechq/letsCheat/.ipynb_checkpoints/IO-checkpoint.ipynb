{
 "cells": [
  {
   "cell_type": "markdown",
   "metadata": {},
   "source": [
    "# Input and Output"
   ]
  },
  {
   "cell_type": "markdown",
   "metadata": {},
   "source": [
    "[I/O redirection](#Redirection) | [Print file contents](#Print) | [Filter output with grep](#Print) | [Cut output](#Manipulate-text) | \n",
    "[Change printed ouput](#Manipulate-text) | [Print text in different Color](#echo-string-in-different-color)\n",
    "<br> "
   ]
  },
  {
   "cell_type": "markdown",
   "metadata": {},
   "source": [
    "<br>\n",
    "### Redirection\n",
    "\n",
    "- **Input**\n",
    "  - **supply file as input to a command or process instead of the keyboard**\n",
    "```bash\n",
    "command < file\n",
    "```\n",
    "- **Output**\n",
    "    \n",
    "  - **print results to file defined output instead of the screen**\n",
    "```bash\n",
    "operation > file\n",
    "```\n",
    "    \n",
    "- **Append result to file**\n",
    "```bash\n",
    "operation >> file\n",
    "```\n",
    "  - **Error**\n",
    "    - log errors on a file instead of monitor screen. \n",
    "    - 2>&1 sends logs errors to the screen and file\n",
    "```bash\n",
    "operation 2> file\n",
    "```"
   ]
  },
  {
   "cell_type": "markdown",
   "metadata": {
    "collapsed": true
   },
   "source": [
    "### Print\n",
    "\n",
    "- **Print file Contents**\n",
    "```bash\n",
    "cat file\n",
    "          -n line numbers\n",
    "```\n",
    "<br>\n",
    "\n",
    "- **Filter printed output**\n",
    "```bash\n",
    "grep -in 'expression' < file\n",
    "                     -v             inverse: exclude lines matching expression\n",
    "                     -r    <dir>    match in all files in directoris\n",
    "                     -B|A  <int>    show n-number of lines Before and/or After match\n",
    "```  "
   ]
  },
  {
   "cell_type": "markdown",
   "metadata": {},
   "source": [
    "### Manipulate text\n",
    "\n",
    "- **Cutting text output**\n",
    "\n",
    "```bash\n",
    "ls -l ~ | tr -s ' ' | cut -f <m-n> -d ' '\n",
    "                                              -f column(s)    \n",
    "                                              -d delimitor    \n",
    "                                              -c selected chars    \n",
    "                                              -s skip lines without delimitor                                             \n",
    "  ```\n",
    "<br>\n",
    "\n",
    "- **Translate, Squeeze and Delete Characters**\n",
    "  \n",
    "```bash\n",
    "tr -s ' '\n",
    "                                               -d <delete chars>    \n",
    "                                               -s <squeeze repeating chars> \n",
    "  ```"
   ]
  },
  {
   "cell_type": "markdown",
   "metadata": {},
   "source": [
    "<br>  \n",
    "\n",
    "### echo string in different color\n",
    "\n",
    "```bash\n",
    "echo -e \"  \\x1B[<code>m text \\x1B[0m  \"\n",
    "```\n",
    "\n",
    "![Bash Color Codes](pics/bashColorCodes.png)"
   ]
  },
  {
   "cell_type": "markdown",
   "metadata": {},
   "source": [
    "[HOME](#Input-and-Output)"
   ]
  }
 ],
 "metadata": {
  "kernelspec": {
   "display_name": "Python 3",
   "language": "python",
   "name": "python3"
  },
  "language_info": {
   "codemirror_mode": {
    "name": "ipython",
    "version": 3
   },
   "file_extension": ".py",
   "mimetype": "text/x-python",
   "name": "python",
   "nbconvert_exporter": "python",
   "pygments_lexer": "ipython3",
   "version": "3.6.3"
  }
 },
 "nbformat": 4,
 "nbformat_minor": 2
}
