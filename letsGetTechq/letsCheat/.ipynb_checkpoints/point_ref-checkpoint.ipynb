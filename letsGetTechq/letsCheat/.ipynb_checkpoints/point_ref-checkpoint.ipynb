{
 "cells": [
  {
   "cell_type": "markdown",
   "metadata": {},
   "source": [
    "#  Directions And Addresses\n",
    "\n",
    "- both provide access to their binded variables\n",
    "- **Reference operator &**\n",
    "  - Gets the memory **address of** a Variable\n",
    "- **Dereference operator \\***\n",
    "  - gets the **value at** the memory location"
   ]
  },
  {
   "cell_type": "markdown",
   "metadata": {},
   "source": [
    "[ref](#&References) | [pointers](#*Pointers) | [new](#The-New_Operator) | [dynamic](#Dynamic-Arrays)"
   ]
  },
  {
   "cell_type": "markdown",
   "metadata": {},
   "source": [
    "```c++\n",
    "\n",
    "int main(){\n",
    "\n",
    "    long signed int var;\n",
    "\n",
    "    cout << \"value at address \" << &var\n",
    "         << \" is \" << *&var<< endl;\n",
    "\n",
    "    return 0;}\n",
    "\n",
    "```"
   ]
  },
  {
   "cell_type": "markdown",
   "metadata": {},
   "source": [
    "\n",
    "## &References \n",
    "\n",
    "- A reference variable is an **Alias**. Secondary name to an existing object.\n",
    "- The reference variable links itself to the referenced object. \n",
    "  - changes made to it are reflected on the referenced object.\n",
    "- Thus, it **shares the same memory** with the object it is referencing\n",
    "- once initialized, it cannot reference another variable.\n",
    "  \n",
    "**Best implemented in Functions**. Passed arguments are not copied to new ones. "
   ]
  },
  {
   "cell_type": "markdown",
   "metadata": {},
   "source": [
    "```c++\n",
    "void changer(int& var){\n",
    "    var -= 10;\n",
    "}\n",
    "\n",
    "int main(){\n",
    "    int a = 10, \n",
    "        b = 10;\n",
    "    \n",
    "    // var references b. therefore b = orig - 10 = 0\n",
    "    changer(b);       \n",
    "    \n",
    "    cout <<   \"a = \" << a\n",
    "         << \"\\nb = \" << b        \n",
    "         << endl;\n",
    "           \n",
    "    return 0;}\n",
    "\n",
    "```\n",
    "\n",
    "<br>\n",
    "[HOME](#Directions-And-Addresses)"
   ]
  },
  {
   "cell_type": "markdown",
   "metadata": {},
   "source": [
    "## \\*Pointers \n",
    "\n",
    "- A variable that holds an **address** of another variable\n",
    "  - makes it possible to manipulate data on a specific memory location\n",
    "- Accesses the variable it points to by using the **Derefence** operator: **\\*pointer**\n",
    "- can be **re-assigned** \n",
    "- Has it's own memory location\n",
    "  - thus it is an independent variable. it can hold new addresses\n",
    "\n",
    "**Best implemented on data structures i.e. linked lists, trees, etc.**"
   ]
  },
  {
   "cell_type": "markdown",
   "metadata": {},
   "source": [
    "```c++\n",
    "\n",
    "int main(){  \n",
    "    \n",
    "    // declare a pointer\n",
    "    float* f;\n",
    "           \n",
    "    float savings = 1205.155;\n",
    "    f = &savings;\n",
    "    \n",
    "    // where are they stored\n",
    "    cout << \"address of savings is \" \n",
    "         << &savings << endl;\n",
    "    cout << \"address of savings pointer is \" \n",
    "         << &f << endl;\n",
    "    \n",
    "    // data in memory\n",
    "    cout << \"data in savings is \" \n",
    "         << savings << endl;\n",
    "    cout << \"data in savings pointer is \" \n",
    "         << f << endl;\n",
    "           \n",
    "    cout << \"\\nHowever, we can get to the bank\"\n",
    "         << \" by derefencing the savings pointer i.e. *f\"\n",
    "         << \"\\nHence data in savings using a pointer is \"\n",
    "         << *f << endl;\n",
    "    \n",
    "    // take it all\n",
    "    *f = 0;\n",
    "    cout << \"\\nSavings left with: \" << savings << \" :(\" << endl;\n",
    "           \n",
    "    return 0;}\n",
    "```\n"
   ]
  },
  {
   "cell_type": "markdown",
   "metadata": {},
   "source": [
    "![sample output](pics/savings.png)\n",
    "\n",
    "<br>\n",
    "[HOME](#Directions-And-Addresses)"
   ]
  },
  {
   "cell_type": "markdown",
   "metadata": {},
   "source": [
    "## The New Operator\n",
    "\n",
    "- Creates a dynamic variable of a specific data type without an identifier referring to it and returns a pointer that points to it.\n",
    "- dynamic implies that the variable is created whilst the programming is running\n",
    "- dynamic variables are stored in the \"storefree\" part of memory\n",
    "- recycled using the delete opr\\erator\n",
    "  - freestore memory is freed up\n",
    "  - ensure that there is no dangling pointer. \n",
    "    - pointing to an unknown value once the new nameless variable is deleted\n",
    "    - another pointer might have pointed to the same location"
   ]
  },
  {
   "cell_type": "markdown",
   "metadata": {},
   "source": [
    "```c+++\n",
    "type *pointer;\n",
    "pointer = new type;\n",
    "delete pointer\n",
    "```\n",
    "\n",
    "<br>\n",
    "[HOME](#Directions-And-Addresses)"
   ]
  },
  {
   "cell_type": "markdown",
   "metadata": {},
   "source": [
    "![pointers](pics/pointers.png)"
   ]
  },
  {
   "cell_type": "markdown",
   "metadata": {},
   "source": [
    "\n",
    "## Dynamic Arrays\n",
    "\n",
    "- Arrays whose size is allocted during runtime\n",
    "  - uses precise memory\n",
    "  - ideal for inconsistent arrays\n",
    "- created with the new operator. \n",
    "  - Thus, can be deleted to recover the freestore memory"
   ]
  },
  {
   "cell_type": "markdown",
   "metadata": {},
   "source": [
    "```c++\n",
    "// declaring a Dynamic Array\n",
    "typedef *int IntPtr;\n",
    "\n",
    "int main()\n",
    "{\n",
    "    int array_size;\n",
    "  \n",
    "    IntPtr p\n",
    "    p = new int [array_size];        // allocate memory\n",
    "    \n",
    "    delete [] p;                     // restore memory after\n",
    "}\n",
    "```\n",
    "\n",
    "<br>\n",
    "[HOME](#Directions-And-Addresses)"
   ]
  }
 ],
 "metadata": {
  "kernelspec": {
   "display_name": "Python 3",
   "language": "python",
   "name": "python3"
  },
  "language_info": {
   "codemirror_mode": {
    "name": "ipython",
    "version": 3
   },
   "file_extension": ".py",
   "mimetype": "text/x-python",
   "name": "python",
   "nbconvert_exporter": "python",
   "pygments_lexer": "ipython3",
   "version": "3.6.3"
  }
 },
 "nbformat": 4,
 "nbformat_minor": 2
}
