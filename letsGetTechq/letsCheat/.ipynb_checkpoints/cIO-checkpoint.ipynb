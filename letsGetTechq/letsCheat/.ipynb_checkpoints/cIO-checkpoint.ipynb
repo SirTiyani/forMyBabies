{
 "cells": [
  {
   "cell_type": "markdown",
   "metadata": {},
   "source": [
    "# IO"
   ]
  },
  {
   "cell_type": "markdown",
   "metadata": {},
   "source": [
    "[keyboard input](#Input) | [display output](#Output) | [strings](#cString) | [files](#Files)"
   ]
  },
  {
   "cell_type": "markdown",
   "metadata": {},
   "source": [
    "## Input "
   ]
  },
  {
   "cell_type": "markdown",
   "metadata": {},
   "source": [
    "- **Standard cin function extracts the input with the extraction operator *>>* **\n",
    "- **stardard commands are:**\n",
    "  - **cin** which is followed by >>\n",
    "  - getline function getline(cin, varname)\n",
    "- **cin.get only retrieves the first character of the input**\n",
    "\n",
    "```c++\n",
    "# input up to whitespace or newline\n",
    "cin >> var\n",
    "\n",
    "# input up to the newline character\n",
    "getline(cin, var)\n",
    "\n",
    "# nice way of terminating debug mode\n",
    "string c\n",
    "getline(cin, c)\n",
    "```"
   ]
  },
  {
   "cell_type": "markdown",
   "metadata": {},
   "source": [
    "### Contrasting between cin vs getline"
   ]
  },
  {
   "cell_type": "markdown",
   "metadata": {},
   "source": [
    "<br>\n",
    "## Output\n",
    "\n",
    "- **Data taken from the output device using the insertion *<<* operator**\n",
    "- **standard output commands:**\n",
    "  - cout <<\n",
    "  \n",
    "```c++\n",
    "cout << \"some string or <<\n",
    "     << var \n",
    "```\n",
    "<br>\n",
    "[HOME](#IO)"
   ]
  },
  {
   "cell_type": "markdown",
   "metadata": {},
   "source": [
    "<br>\n",
    "## cString \n",
    "\n",
    "- **Strings are not c++ native variables**\n",
    "- **include the *string* library to use string functions and their methods**\n",
    "\n",
    "```c++\n",
    "#include <iostream>\n",
    "#include <string>\n",
    "using namespace std;\n",
    "\n",
    "int main()\n",
    "{\n",
    "    cout << \"enter some random string\" << endl;\n",
    "    string my_string, close_term;\n",
    "    getline(cin, my_string);\n",
    "    cout << my_string;\n",
    "\n",
    "    cout << \"\\nHit enter to quit...\";\n",
    "    getline(cin, close_term);\n",
    "}\n",
    "\n",
    "```\n",
    "\n",
    "<br>\n",
    "[HOME](#IO)"
   ]
  },
  {
   "cell_type": "markdown",
   "metadata": {},
   "source": [
    "## Files\n",
    "\n",
    "- include the file stream directive\n",
    "  - **ifstream**: reads input files\n",
    "    - uses the **extraction** operator >>\n",
    "  - **ofstream**: writes output to files\n",
    "    - through the use of the **insertion** operator <<\n",
    "- Files generally have two names:\n",
    "  - The **file name** in some directory in the **file system**\n",
    "  - the *program* **object name** that refers and/or manipulates the file  "
   ]
  },
  {
   "cell_type": "markdown",
   "metadata": {},
   "source": [
    "## Writing to a file\n",
    "\n",
    "```c++\n",
    "\n",
    "#include <iostream>                             // cin, cout     \n",
    "#include <fstream                               // file stream\n",
    "#include <cstdlib>                              // exit function (test this)\n",
    "using namespace std;                            // prerequisite for file stream\n",
    "\n",
    "int main()\n",
    "{\n",
    "    ofstream file_out;\n",
    "    file_out.open(\"output file\", ios::app);     // append to file\n",
    "    if (file_out.fail())\n",
    "    {\n",
    "        cout << \"file creation failed\\n;\n",
    "        exit(1);\n",
    "    }\n",
    "    \n",
    "    // writing\n",
    "    file_out << text or data;\n",
    "    file_out.close();\n",
    "    \n",
    "    return 0;\n",
    "}\n",
    "```\n",
    "\n",
    "<br>\n",
    "[HOME](#IO)"
   ]
  },
  {
   "cell_type": "markdown",
   "metadata": {},
   "source": [
    "## Formatting output\n",
    "\n",
    "```c++\n",
    "\n",
    "cout.setf(ios::fixed);                     // no exponential notation\n",
    "ios::scientific                            // show numbers in scientic notation\n",
    "\n",
    "cout.setf(ios::showpoint);                 // always show floating digits\n",
    "cout.precision(2);                         // width after decimal point\n",
    "\n",
    "cout.width(int value)                      // width blank space before priting output\n",
    "\n",
    "```\n",
    "\n",
    "<br>\n",
    "[HOME](#IO)"
   ]
  },
  {
   "cell_type": "markdown",
   "metadata": {},
   "source": [
    "## Manipulators\n",
    "\n",
    "- manipulates or formats the variable before its call\n",
    "- placed after the **insertion** operator\n",
    "- include the **iomanip**, io manipulator directive to use manipulators\n",
    "\n",
    "**note: square brackets, in programming and/or scripting domain denote optional arguments or values**\n",
    "\n",
    "```c++\n",
    "#include <iomanip>\n",
    "\n",
    "// setting the format\n",
    "cout.setf(ios::fixed);\n",
    "cout.setf(ios::showpoint);\n",
    "\n",
    "// manipulating output\n",
    "cout << manipulator[.member_function()] << variable_to_be_manipulated;\n",
    "\n",
    "cout << \"R \" << setprecision(2) << 440.59 << endl;\n",
    "cout << \"R \" << setwidth(5) << 440.59 << endl;\n",
    "\n",
    "```\n",
    "\n",
    "<br>\n",
    "[HOME](#IO)"
   ]
  }
 ],
 "metadata": {
  "kernelspec": {
   "display_name": "Python 3",
   "language": "python",
   "name": "python3"
  },
  "language_info": {
   "codemirror_mode": {
    "name": "ipython",
    "version": 3
   },
   "file_extension": ".py",
   "mimetype": "text/x-python",
   "name": "python",
   "nbconvert_exporter": "python",
   "pygments_lexer": "ipython3",
   "version": "3.6.3"
  }
 },
 "nbformat": 4,
 "nbformat_minor": 2
}
