{
 "cells": [
  {
   "cell_type": "markdown",
   "metadata": {},
   "source": [
    "# Quick Hacks "
   ]
  },
  {
   "cell_type": "markdown",
   "metadata": {},
   "source": [
    "[template](#Template) | [type conversion](#Type-Casting) | [dynamic output](#STD-Output-or-File) | [namespace](#Namespaces) | [ADT](#Abstract-Data-Type)"
   ]
  },
  {
   "cell_type": "markdown",
   "metadata": {},
   "source": [
    "## Template\n",
    "\n",
    "```cpp\n",
    "#include <iostream>\n",
    "#include <iomanip>\n",
    "#include <string>\n",
    "#include <fstream>\n",
    "\n",
    "using namespace std;\n",
    "\n",
    "// class Definitions\n",
    "class cName\n",
    "{\n",
    "private:\n",
    "    dType data_member\n",
    "    \n",
    "public:    \n",
    "    cName();\n",
    "    cName(dType var);\n",
    "    void accessor();\n",
    "    void mutator(dType var);\n",
    "}\n",
    "\n",
    "\n",
    "int main()\n",
    "{\n",
    "    cName x, y(arg*);\n",
    "    return 0;\n",
    "}\n",
    "\n",
    "\n",
    "// Function definitions\n",
    "cName::cName() : data_member(0)\n",
    "{}\n",
    "\n",
    "cName::cName() : data_member(var)\n",
    "{}\n",
    "\n",
    "void accesor()\n",
    "{\n",
    "    return data_member;\n",
    "}\n",
    "\n",
    "void mutator(var)\n",
    "{\n",
    "    data_member = var;\n",
    "}\n",
    "```\n",
    "\n",
    "[HOME](#Quick-Hacks)"
   ]
  },
  {
   "cell_type": "markdown",
   "metadata": {},
   "source": [
    "## Type Casting\n",
    "\n",
    "```c++\n",
    "static_cast<double>(expr or type_int object)\n",
    "    \n",
    "// the old style may be discontinued, depending on the version\n",
    "double(expr or int object)\n",
    "```\n",
    "\n",
    "[HOME](#Quick-Hacks)"
   ]
  },
  {
   "cell_type": "markdown",
   "metadata": {},
   "source": [
    "## STD Output or File\n",
    "\n",
    "```cpp\n",
    "void writeOutput(ostream& outs)\n",
    "{\n",
    "outs.setf(ios::fixed);\n",
    "outs.setf(ios::showpoint);\n",
    "outs.precision(2);\n",
    "outs << ...;\n",
    "}\n",
    "\n",
    "// connect to file first for ofstream\n",
    "writeOutput(cout);\n",
    "writeOutput(fout);\n",
    "```\n",
    "\n",
    "[HOME](#Quick-Hacks)"
   ]
  },
  {
   "cell_type": "markdown",
   "metadata": {},
   "source": [
    "## Namespaces\n",
    "\n",
    "- collection of name definitions of Functions, classes and variables\n",
    "- usually kept in seperate files\n",
    "  - aleviates that conflict of same name definitions\n",
    "- the **global namespace** holds all objects declared on the main program\n",
    "- \n",
    "\n",
    "\n",
    "\n",
    "[HOME](#Quick-Hacks)"
   ]
  },
  {
   "cell_type": "markdown",
   "metadata": {},
   "source": [
    "## Abstract Data Type\n",
    "\n",
    "- a class that has been defined so as to separate the interface and the implementation of the class\n",
    "- does not state or show HOW data is organized\n",
    "- It provides only what is needed to execute its operations\n",
    "- efficient framework for data abstraction. It provides\n",
    "  - protecting information from other parts of the program\n",
    "  - encapsulation (combining elements into a single unit, such as a class)\n",
    "  \n",
    "- In c++, it is composed of the\n",
    "  - **Header, and the Application file**\n",
    "  \n",
    "  \n",
    "- Steps to make a ADT class\n",
    "  - Make all the member variables private members of the class.\n",
    "  - declare basic operation of the class\n",
    "    - i.e public member function, a friend function, an ordinary function, or an overloaded operator\n",
    "  - make the implementation of the basic operations unavailable to the programmer who uses the ADT.\n",
    "    - consists of function definitions and overloaded operator definitions (along with any helping functions or other additional items"
   ]
  },
  {
   "cell_type": "markdown",
   "metadata": {},
   "source": [
    "### Header file: classname.h "
   ]
  },
  {
   "cell_type": "markdown",
   "metadata": {},
   "source": [
    "```cpp\n",
    "#ifndef ESTATES_H\n",
    "#define ESTATES_H\n",
    "\n",
    "using namespace std;\n",
    "\n",
    "class Estates\n",
    "{\n",
    "private:\n",
    "    string id;\n",
    "    string name;\n",
    "    int houses;\n",
    "    \n",
    "public:\n",
    "    // constructors\n",
    "    Estates();\n",
    "    Estates(string name, string id);\n",
    "    \n",
    "    // mutators\n",
    "    void set_member(string name, string id);\n",
    "    void set_houses(int houses);\n",
    " \n",
    "    // \n",
    "    string get_member();\n",
    "    int get_houses();\n",
    "};\n",
    "\n",
    "#endif  // ESTATES_H\n",
    "\n",
    "```"
   ]
  },
  {
   "cell_type": "markdown",
   "metadata": {},
   "source": [
    "### Implementation: estates.cpp"
   ]
  },
  {
   "cell_type": "markdown",
   "metadata": {},
   "source": [
    "```cpp\n",
    "#include <iostream>\n",
    "#include <fstream>\n",
    "#include <string>\n",
    "#include \"voter.h\"\n",
    "\n",
    "using namespace std;\n",
    "\n",
    "// default constructor\n",
    "Estates::Estates()\n",
    "{\n",
    "    name = '';\n",
    "    id = '';\n",
    "    houses = 0;\n",
    "}\n",
    "\n",
    "// overloadede constructor\n",
    "Estates::Estates(string member_name, string ID)\n",
    "{\n",
    "    name = member_name;\n",
    "    id = ID;\n",
    "    houses = 0;\n",
    "}\n",
    "// Estates::Estates(string member_name, string ID) : name(member_name), id(ID) {}\n",
    "\n",
    "\n",
    "// setters\n",
    "void Estate::set_member(string member_name, string ID){\n",
    "    name = name;\n",
    "    id = ID;\n",
    "}\n",
    "\n",
    "void Estate::set_houses(int num_house){\n",
    "    houses = num_houses;\n",
    "}\n",
    "\n",
    "// getters\n",
    "int Estate::get_houses(){\n",
    "    return houses;\n",
    "}\n",
    "```"
   ]
  },
  {
   "cell_type": "markdown",
   "metadata": {},
   "source": [
    "### The Application: main.cpp "
   ]
  },
  {
   "cell_type": "markdown",
   "metadata": {},
   "source": [
    "```cpp\n",
    "#include <iostream>\n",
    "#include <fstream>\n",
    "#include <string>\n",
    "    \n",
    "#include \"estates.h\"\n",
    "\n",
    "using namespace std;\n",
    "\n",
    "int main()\n",
    "{\n",
    "    Estates my_cribs;\n",
    "    my_cribs.set_member(\"Xzibit\", \"123\")\n",
    "}\n",
    "\n",
    "```"
   ]
  }
 ],
 "metadata": {
  "kernelspec": {
   "display_name": "Python 3",
   "language": "python",
   "name": "python3"
  },
  "language_info": {
   "codemirror_mode": {
    "name": "ipython",
    "version": 3
   },
   "file_extension": ".py",
   "mimetype": "text/x-python",
   "name": "python",
   "nbconvert_exporter": "python",
   "pygments_lexer": "ipython3",
   "version": "3.6.3"
  }
 },
 "nbformat": 4,
 "nbformat_minor": 2
}
