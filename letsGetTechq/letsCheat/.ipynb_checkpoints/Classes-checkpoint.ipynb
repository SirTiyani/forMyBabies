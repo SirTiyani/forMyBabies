{
 "cells": [
  {
   "cell_type": "markdown",
   "metadata": {},
   "source": [
    "## Classes\n",
    "\n",
    "[template](#Blueprint) | [myObject](#Create-a-new-Object)"
   ]
  },
  {
   "cell_type": "markdown",
   "metadata": {},
   "source": [
    "### Blueprint\n",
    "\n",
    "```python\n",
    "class ObjName(object):\n",
    "    \"\"\" description \"\"\"\n",
    "    # contructor: set values to calling instance\n",
    "    def __init__(self, attr_1, attr_2):\n",
    "        self.attribute_1 = attr_1\n",
    "        self.attribute_2 = attr_2\n",
    "        \n",
    "    # set other attributes or methods. i.e properties and actions\n",
    "    def do_method(self):\n",
    "        return method\n",
    "        \n",
    "    def set_attribute(self):\n",
    "        return attribute\n",
    "```\n",
    "<br>"
   ]
  },
  {
   "cell_type": "markdown",
   "metadata": {},
   "source": [
    "### Creating a new Object\n",
    "\n",
    "#### Instantiating: create an object instance\n",
    "\n",
    "```python\n",
    "\n",
    "obj_1 = ObjName()\n",
    "obj_2 = ObjName(x, y)\n",
    "```"
   ]
  },
  {
   "cell_type": "markdown",
   "metadata": {},
   "source": [
    "## My Class\n"
   ]
  },
  {
   "cell_type": "code",
   "execution_count": 3,
   "metadata": {},
   "outputs": [],
   "source": [
    "import re\n",
    "\n",
    "class NetworkClass(object):\n",
    "    \"\"\"Silly network subnetting class example\"\"\"\n",
    "    def __init__(self, ip = None, mask = None, cidr = None):\n",
    "        \"\"\"initialize propeties\"\"\"\n",
    "        self.ip_addr = ip\n",
    "        self.mask = mask\n",
    "        self.cidr = cidr\n",
    "        \n",
    "    def NetworkInfo(self):\n",
    "        \"\"\"\n",
    "        addr = split address at \".\" or \"/\" i.e alphanum\n",
    "        if len(add) == 4\n",
    "            print addr\n",
    "        elif len(add) == 5\n",
    "            check cidr value\n",
    "            print addr and value\n",
    "        else\n",
    "            bad form\n",
    "            \n",
    "        # network address\n",
    "        # no of hosts\n",
    "        # number of subnets\n",
    "        \"\"\"\n",
    "        pass"
   ]
  },
  {
   "cell_type": "code",
   "execution_count": 6,
   "metadata": {},
   "outputs": [
    {
     "name": "stdout",
     "output_type": "stream",
     "text": [
      "ip: 10.1.1.3\n",
      "subnet mask: 255.255.255.128\n",
      "\n"
     ]
    }
   ],
   "source": [
    "hostA = NetworkClass(\"10.1.1.3\", \"255.255.255.128\", \"28\")\n",
    "print(\"ip: {}\\nsubnet mask: {}\\n\".format(hostA.ip_addr, hostA.mask))"
   ]
  },
  {
   "cell_type": "code",
   "execution_count": null,
   "metadata": {},
   "outputs": [],
   "source": []
  }
 ],
 "metadata": {
  "kernelspec": {
   "display_name": "Python 3",
   "language": "python",
   "name": "python3"
  },
  "language_info": {
   "codemirror_mode": {
    "name": "ipython",
    "version": 3
   },
   "file_extension": ".py",
   "mimetype": "text/x-python",
   "name": "python",
   "nbconvert_exporter": "python",
   "pygments_lexer": "ipython3",
   "version": "3.6.3"
  }
 },
 "nbformat": 4,
 "nbformat_minor": 2
}
