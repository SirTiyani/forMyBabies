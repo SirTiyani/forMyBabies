{
 "cells": [
  {
   "cell_type": "markdown",
   "metadata": {},
   "source": [
    "# File IO "
   ]
  },
  {
   "cell_type": "markdown",
   "metadata": {},
   "source": [
    "[with](#With-Method) | [csv](#CSV-Files) | [serialize](#Pickling)"
   ]
  },
  {
   "cell_type": "markdown",
   "metadata": {},
   "source": [
    "<br>\n",
    "## With Method"
   ]
  },
  {
   "cell_type": "markdown",
   "metadata": {},
   "source": [
    "### Reading \n",
    "\n",
    "- **Store in String** \n",
    "  - writes the content of the file to a string. regex anyone?\n",
    "  - newline characters are included\n",
    "  \n",
    "```python\n",
    "f = open('/path/to/file')\n",
    "s = f.read([n])                     # n: number of bytes/characters\n",
    "f.close()\n",
    "```\n",
    "\n",
    "- **Store in List**\n",
    "  - ideal for processing line by line\n",
    "\n",
    "```python\n",
    "with open(\"/path/to/file\", 'r') as f:\n",
    "    lines = f.readlines() \n",
    "    f.close\n",
    "    \n",
    "for line in lines:\n",
    "    pass\n",
    "``` \n",
    "\n",
    "  - **Remove Newlines**\n",
    "\n",
    "```python\n",
    "with open(\"/path/to/file\", 'r') as f:\n",
    "    # converts to list\n",
    "    lines = f.read().splitlines()              [HOME](#FILE-IO)\n",
    "    f.close\n",
    "\n",
    "# converts back to string\n",
    "s = ' '.join(lines)                           \n",
    "``` \n",
    "\n",
    "- **Sequentially**\n",
    "```python\n",
    "with open(\"/path/to/file\", 'r') as f:\n",
    "    for line in f:\n",
    "    ...\n",
    "``` \n",
    "\n",
    "\n",
    "- **specific line**\n",
    "\n",
    "```python\n",
    "import linecache\n",
    "\n",
    "line = linecache.getline('/path/to/file', line_number)\n",
    "# index starts from 1\n",
    "```"
   ]
  },
  {
   "cell_type": "markdown",
   "metadata": {},
   "source": [
    "<br>\n",
    "[HOME](#File-IO)\n",
    "\n",
    "### Writing\n",
    "\n",
    "```python\n",
    "with open(\"/path/to/filename\", 'w') as f:               # 'a' to append\n",
    "    # write an object\n",
    "    f.write(\" \" % (object(s))\n",
    "            \n",
    "    # multiple lines\n",
    "    f.writelines(\"\"\" ...\n",
    "    ...\n",
    "    \"\"\")\n",
    "```\n",
    "    "
   ]
  },
  {
   "cell_type": "markdown",
   "metadata": {},
   "source": [
    "<br>\n",
    "## CSV Files"
   ]
  },
  {
   "cell_type": "markdown",
   "metadata": {},
   "source": [
    "### reading \n",
    "\n",
    "```python\n",
    "import csv\n",
    "\n",
    "with open(\"/path/to/filename.csv\") as f:\n",
    "    reader = csv.reader(f, delimeter = ',')\n",
    "    for row in reader:\n",
    "        print(row)\n",
    "```\n",
    "\n",
    "### Writing \n",
    "\n",
    "```python\n",
    "data = [\n",
    "           [\"header list\"], \n",
    "           [\"data 1\"]\n",
    "           [\"...\"]\n",
    "        ]\n",
    "\n",
    "with open(\"\\path\\to\\filename.csv\", 'w') as f:\n",
    "    writer = csv.writer(f)\n",
    "    writer.writerows(data)\n",
    "    f.close()\n",
    "```\n"
   ]
  },
  {
   "cell_type": "markdown",
   "metadata": {},
   "source": [
    "[HOME](#File-IO)\n",
    "<br>\n",
    "\n",
    "## Pickling"
   ]
  },
  {
   "cell_type": "markdown",
   "metadata": {},
   "source": [
    "- serializing structured data (tuples, lists, functions, classes) into a stream format\n",
    "\n",
    "\n",
    "**note the creation of binary files**"
   ]
  },
  {
   "cell_type": "markdown",
   "metadata": {},
   "source": [
    "### serializing\n",
    "\n",
    "```python\n",
    "import pickle             # or cpickle: better performance\n",
    "\n",
    "class MyClass:\n",
    "    pass\n",
    "\n",
    "c = MyClass()\n",
    "\n",
    "f = open('somefile.bin', 'wb')\n",
    "pickle.dump(obj, file)\n",
    "f.close\n",
    "\n",
    "del c\n",
    "```"
   ]
  },
  {
   "cell_type": "markdown",
   "metadata": {},
   "source": [
    "### Deserializing \n",
    "\n",
    "```python\n",
    "f = open('somefile.bin', 'rb')\n",
    "p_data = pickle.load(f)\n",
    "f.close()\n",
    "\n",
    "# access values, attributes or methods of the pickled data with dot operators\n",
    "```"
   ]
  },
  {
   "cell_type": "markdown",
   "metadata": {},
   "source": [
    "[HOME](#File-IO)"
   ]
  }
 ],
 "metadata": {
  "kernelspec": {
   "display_name": "Python 3",
   "language": "python",
   "name": "python3"
  },
  "language_info": {
   "codemirror_mode": {
    "name": "ipython",
    "version": 3
   },
   "file_extension": ".py",
   "mimetype": "text/x-python",
   "name": "python",
   "nbconvert_exporter": "python",
   "pygments_lexer": "ipython3",
   "version": "3.6.3"
  }
 },
 "nbformat": 4,
 "nbformat_minor": 2
}
