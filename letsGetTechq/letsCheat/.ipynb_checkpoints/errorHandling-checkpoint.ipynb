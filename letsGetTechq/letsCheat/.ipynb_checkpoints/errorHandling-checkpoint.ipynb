{
 "cells": [
  {
   "cell_type": "markdown",
   "metadata": {},
   "source": [
    "# Error Handling"
   ]
  },
  {
   "cell_type": "markdown",
   "metadata": {},
   "source": [
    "[try & except](#Catching-Errors) | [exceptions](#Exceptions) | [error anticipation](#Anticipating-Errors) | [raising errors](#Raising-Errors) | [finally](#Before-Cutting-the-Red-Wire) | [assert](#Assertion)"
   ]
  },
  {
   "cell_type": "markdown",
   "metadata": {},
   "source": [
    "## Catching-Errors "
   ]
  },
  {
   "cell_type": "markdown",
   "metadata": {},
   "source": [
    "### Exposing an Exception\n",
    "\n",
    "```python\n",
    "try:\n",
    "    'a' + 5\n",
    "except Exception as err:\n",
    "    print(\"Could not work because %s\" % err)\n",
    "```"
   ]
  },
  {
   "cell_type": "markdown",
   "metadata": {},
   "source": [
    "### Continue Despite Error\n",
    "\n",
    "```python\n",
    "try:\n",
    "    'a' + 5\n",
    "except:\n",
    "    # alternative code\n",
    "    statement(s) ...\n",
    "```"
   ]
  },
  {
   "cell_type": "markdown",
   "metadata": {},
   "source": [
    "<br>\n",
    "\n",
    "## Exceptions\n",
    "\n",
    "**Some of Python standard errors**"
   ]
  },
  {
   "cell_type": "markdown",
   "metadata": {},
   "source": [
    "![exeptions img](pics/python_exceptions.jpg)"
   ]
  },
  {
   "cell_type": "markdown",
   "metadata": {},
   "source": [
    "[HOME](#Error-Handling)\n",
    "<br>\n",
    "\n",
    "## Anticipating Errors\n",
    "\n",
    "- Stops program execution when an error likely to occur is caught"
   ]
  },
  {
   "cell_type": "markdown",
   "metadata": {},
   "source": [
    "```python\n",
    "\n",
    "try:\n",
    "    ....\n",
    "except ErrorType:                         # see Exceptions above\n",
    "    print(\"message elaborating error\")\n",
    "```"
   ]
  },
  {
   "cell_type": "markdown",
   "metadata": {},
   "source": [
    "<br>\n",
    "\n",
    "## Raising Errors\n",
    "\n",
    "- Stops program execution\n",
    "- Useful to implement when\n",
    "  - incorrect data type from a user\n",
    "  - missing command line arguments\n",
    "  - missing data to compute successfully"
   ]
  },
  {
   "cell_type": "markdown",
   "metadata": {},
   "source": [
    "```python\n",
    "if not something: \n",
    "    raise ErrorType(\" %s \" % err)\n",
    "```"
   ]
  },
  {
   "cell_type": "markdown",
   "metadata": {},
   "source": [
    "[HOME](#Error-Handling)\n",
    "<br>\n",
    "\n",
    "\n",
    "## Before Cutting the Red Wire "
   ]
  },
  {
   "cell_type": "markdown",
   "metadata": {},
   "source": [
    "Instead of just catching errors or rescuing the program, one can have a block of code before the program is interrupted by an Exception.\n",
    "\n",
    "This is were **finally** statements are useful\n",
    "\n",
    "- with finally\n",
    "  - block code is executed before an Exception\n",
    "  - more information or data states can be capture before exception\n",
    "  - useful for debugging, releasing memory, closing files, stopping processes, etc."
   ]
  },
  {
   "cell_type": "markdown",
   "metadata": {},
   "source": [
    "```python\n",
    "Try:\n",
    "    intended code\n",
    "    \n",
    "Except:\n",
    "    raise or catch error\n",
    "    \n",
    "finally:\n",
    "    debugging code \n",
    "        write to file / log\n",
    "    close open files and running processes\n",
    "```"
   ]
  },
  {
   "cell_type": "markdown",
   "metadata": {},
   "source": [
    "<br>\n",
    "\n",
    "## Assertion\n",
    "\n",
    "- Used as value-checking mechanism\n",
    " - checks a value of a variable.\n",
    "- Raises an Assertion error when a value is outside the assertion range"
   ]
  },
  {
   "cell_type": "markdown",
   "metadata": {},
   "source": [
    "```python\n",
    "x         # computed\n",
    "assert (int(x) != 0, \"Division by zero is an abomination\")\n",
    "a / x\n",
    "```"
   ]
  },
  {
   "cell_type": "markdown",
   "metadata": {},
   "source": [
    "[HOME](#Error-Handling)"
   ]
  }
 ],
 "metadata": {
  "kernelspec": {
   "display_name": "Python 3",
   "language": "python",
   "name": "python3"
  },
  "language_info": {
   "codemirror_mode": {
    "name": "ipython",
    "version": 3
   },
   "file_extension": ".py",
   "mimetype": "text/x-python",
   "name": "python",
   "nbconvert_exporter": "python",
   "pygments_lexer": "ipython3",
   "version": "3.6.3"
  }
 },
 "nbformat": 4,
 "nbformat_minor": 2
}
