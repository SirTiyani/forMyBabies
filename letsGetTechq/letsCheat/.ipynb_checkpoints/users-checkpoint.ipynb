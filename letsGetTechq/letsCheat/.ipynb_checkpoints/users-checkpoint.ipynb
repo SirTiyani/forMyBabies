{
 "cells": [
  {
   "cell_type": "markdown",
   "metadata": {},
   "source": [
    "## Users and Hosts\n",
    "\n",
    "- **User information**\n",
    "  - **All user accounts**\n",
    "```bash\n",
    "lslogins [username]\n",
    "```\n",
    "\n",
    "- **Logged Users**\n",
    "\n",
    "```bash\n",
    "w -i | who\n",
    "```\n",
    "  - **For all Users**\n",
    "```bash\n",
    "finger @host\n",
    "```\n",
    "\n",
    "- **Host information**\n",
    "\n",
    "  - **CPU**\n",
    "```bash\n",
    "lscpu\n",
    "```\n",
    "  - **Hardware**\n",
    "```bash\n",
    "hwinfo\n",
    "  ```\n",
    "  - **File system and disk memory**\n",
    "```linux\n",
    "df -h\n",
    "```"
   ]
  }
 ],
 "metadata": {
  "kernelspec": {
   "display_name": "Python 3",
   "language": "python",
   "name": "python3"
  },
  "language_info": {
   "codemirror_mode": {
    "name": "ipython",
    "version": 3
   },
   "file_extension": ".py",
   "mimetype": "text/x-python",
   "name": "python",
   "nbconvert_exporter": "python",
   "pygments_lexer": "ipython3",
   "version": "3.6.3"
  }
 },
 "nbformat": 4,
 "nbformat_minor": 2
}
