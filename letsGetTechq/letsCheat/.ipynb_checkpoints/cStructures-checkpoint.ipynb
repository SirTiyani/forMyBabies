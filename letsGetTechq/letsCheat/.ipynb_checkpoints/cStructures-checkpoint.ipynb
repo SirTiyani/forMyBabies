{
 "cells": [
  {
   "cell_type": "markdown",
   "metadata": {},
   "source": [
    "# Structs\n",
    "\n",
    "- Objects without member functions; False\n",
    "  - actually structs can have member functions\n",
    "  - the only downfall is that of members are, by default, public\n",
    "  - classes provide  better security\n",
    "- hold heterogenous data types of some record\n",
    "\n",
    "<br>\n",
    "[structures](#Structures) | [fun args](#Function-Arguments)"
   ]
  },
  {
   "cell_type": "markdown",
   "metadata": {},
   "source": [
    "## Structures "
   ]
  },
  {
   "cell_type": "markdown",
   "metadata": {},
   "source": [
    "```cpp\n",
    "struct structureName      // structure type definition \n",
    "{\n",
    "    dType var1;           // member names\n",
    "    dType var2;\n",
    "    ...\n",
    "};                        // struct_1; not recommended\n",
    "\n",
    "int main()\n",
    "{\n",
    "    // creating a structure object(s)\n",
    "    structureName struct_1, struct_2;\n",
    "    struct_1.var1 = <value>;\n",
    "    struct_1.var2 = <value>;\n",
    "    \n",
    "    // initializing all member variables\n",
    "    struct_2 = {value, value, ...}\n",
    " \n",
    " \n",
    "    // equating all member variables\n",
    "     struct_1 = struct_2;\n",
    "    \n",
    "    return 0;\n",
    "}\n",
    "```"
   ]
  },
  {
   "cell_type": "markdown",
   "metadata": {},
   "source": [
    "## Function Arguments "
   ]
  }
 ],
 "metadata": {
  "kernelspec": {
   "display_name": "Python 3",
   "language": "python",
   "name": "python3"
  },
  "language_info": {
   "codemirror_mode": {
    "name": "ipython",
    "version": 3
   },
   "file_extension": ".py",
   "mimetype": "text/x-python",
   "name": "python",
   "nbconvert_exporter": "python",
   "pygments_lexer": "ipython3",
   "version": "3.6.3"
  }
 },
 "nbformat": 4,
 "nbformat_minor": 2
}
