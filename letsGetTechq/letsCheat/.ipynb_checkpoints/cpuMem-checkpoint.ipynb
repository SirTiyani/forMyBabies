{
 "cells": [
  {
   "cell_type": "markdown",
   "metadata": {},
   "source": [
    "# Memory and Processes\n",
    "<br>  "
   ]
  },
  {
   "cell_type": "markdown",
   "metadata": {},
   "source": [
    "[fs size](#Size-of-Directory) | [processes](#Querying-running-Processes)"
   ]
  },
  {
   "cell_type": "markdown",
   "metadata": {},
   "source": [
    "## Size of Directory\n",
    "\n",
    "```bash\n",
    "du -hd <depth> <dir>\n",
    "                      -s    summarise director size recursively\n",
    "```\n",
    "<br>"
   ]
  },
  {
   "cell_type": "markdown",
   "metadata": {},
   "source": [
    "## Processes"
   ]
  },
  {
   "cell_type": "markdown",
   "metadata": {},
   "source": [
    "### Get Process ID\n",
    "  \n",
    "```bash\n",
    "pidof <process>                     terminal preference\n",
    "  \n",
    "pgrep <process>                     GUI preference\n",
    "```"
   ]
  },
  {
   "cell_type": "markdown",
   "metadata": {},
   "source": [
    "### Background Processes\n",
    "\n",
    "#### Not Attached to terminal or awaiting user input\n",
    "\n",
    "```bash\n",
    "$jobs\n",
    "```\n",
    "\n",
    "#### Send process to Foregound**\n",
    "\n",
    "```bash\n",
    "$fg %<job ID>\n",
    "```\n",
    "<br>\n"
   ]
  },
  {
   "cell_type": "markdown",
   "metadata": {},
   "source": [
    "### Querying running Processes \n",
    "**Show running processes**\n",
    "  \n",
    "```bash\n",
    "ps -axjf\n",
    "```"
   ]
  },
  {
   "cell_type": "markdown",
   "metadata": {},
   "source": [
    "### filter by CPU usage\n",
    "\n",
    "```bash\n",
    "ps -aux --sort -pcpu [| grep ''] \n",
    "```"
   ]
  },
  {
   "cell_type": "markdown",
   "metadata": {},
   "source": [
    "### Filter by process name or PID\n",
    "\n",
    "```bash\n",
    "ps -fC <name or PID>\n",
    "```"
   ]
  },
  {
   "cell_type": "markdown",
   "metadata": {},
   "source": [
    "### Stopping Processes\n",
    "\n",
    "```bash\n",
    "kill <SIG code> <PID or pName>\n",
    "                                       SIG       3 is quit\n",
    "                                                 9 is kill\n",
    "```"
   ]
  }
 ],
 "metadata": {
  "kernelspec": {
   "display_name": "Python 3",
   "language": "python",
   "name": "python3"
  },
  "language_info": {
   "codemirror_mode": {
    "name": "ipython",
    "version": 3
   },
   "file_extension": ".py",
   "mimetype": "text/x-python",
   "name": "python",
   "nbconvert_exporter": "python",
   "pygments_lexer": "ipython3",
   "version": "3.6.3"
  }
 },
 "nbformat": 4,
 "nbformat_minor": 2
}
