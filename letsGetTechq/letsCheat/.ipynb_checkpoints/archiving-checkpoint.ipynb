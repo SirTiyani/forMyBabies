{
 "cells": [
  {
   "cell_type": "markdown",
   "metadata": {},
   "source": [
    "## Archiving and Compression"
   ]
  },
  {
   "cell_type": "markdown",
   "metadata": {},
   "source": [
    "<br>\n",
    "### Archiving data\n",
    "- **tor balls**\n",
    "  ```bash\n",
    "  tar cvf name.tar dir \n",
    "  ```\n",
    "\n",
    "- **compress while at it**\n",
    "  ```bash\n",
    "  tar cvfz name.tar.gz dir\n",
    "                                   -z          gunzip file\n",
    "                                   -j          bz2\n",
    "  ``` \n",
    "  \n",
    "- **size estimation**\n",
    "  ```bash\n",
    "  tar -cfz dir | wc -c\n",
    "  ```\n",
    " <br>\n",
    "- **Extracting data from Archives**\n",
    "  - **content listing**\n",
    "  \n",
    "  ```bash\n",
    "  tar  tvf name.tar.gz\n",
    "  \n",
    "  unzip -l name.zip\n",
    "  ```\n",
    "  - **extracting archive**\n",
    "  ```bash\n",
    "  tar xvfz name.tar.gz .\n",
    "  ```\n",
    "  \n",
    "  - **unzipping files**\n",
    "  ```bash\n",
    "  unzip file.zip -d dir\n",
    "  ```"
   ]
  }
 ],
 "metadata": {
  "kernelspec": {
   "display_name": "Python 3",
   "language": "python",
   "name": "python3"
  },
  "language_info": {
   "codemirror_mode": {
    "name": "ipython",
    "version": 3
   },
   "file_extension": ".py",
   "mimetype": "text/x-python",
   "name": "python",
   "nbconvert_exporter": "python",
   "pygments_lexer": "ipython3",
   "version": "3.6.3"
  }
 },
 "nbformat": 4,
 "nbformat_minor": 2
}
