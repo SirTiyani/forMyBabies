{
 "cells": [
  {
   "cell_type": "markdown",
   "metadata": {},
   "source": [
    "# C Loops "
   ]
  },
  {
   "cell_type": "markdown",
   "metadata": {},
   "source": [
    "[do](#Do-While) | [for](#For-Loop)"
   ]
  },
  {
   "cell_type": "markdown",
   "metadata": {},
   "source": [
    "## While\n",
    "\n",
    "- **Repeat iteration if the a condition still holds**\n",
    "- **Ideal for indefinite cycle numbers**"
   ]
  },
  {
   "cell_type": "markdown",
   "metadata": {},
   "source": [
    "```c++\n",
    "\n",
    "int main(){\n",
    "    int count_down = 1;\n",
    "\n",
    "    while (count_down)\n",
    "    {\n",
    "        cout << count_down << endl;\n",
    "        count_down--;                 // in C, 0 is regarded as a False Value\n",
    "    }\n",
    "\n",
    "    return 0;}\n",
    "\n",
    "```\n",
    "\n",
    "<br>\n",
    "[HOME](#C-Loops)"
   ]
  },
  {
   "cell_type": "markdown",
   "metadata": {},
   "source": [
    "## Do While\n",
    "\n",
    "- **Similar to a while loop**\n",
    "  - **ensures** that the **iteration** is **executed** at least **once**"
   ]
  },
  {
   "cell_type": "markdown",
   "metadata": {},
   "source": [
    "```c++\n",
    "\n",
    "int main(){\n",
    "    \n",
    "    int i = 2;\n",
    "    \n",
    "    do{\n",
    "       cout << i << endl;\n",
    "       i--;\n",
    "    }while (i != 0);\n",
    "    \n",
    "    return 0;}\n",
    "```\n",
    "\n",
    "<br>\n",
    "[HOME](#C-Loops)"
   ]
  },
  {
   "cell_type": "markdown",
   "metadata": {},
   "source": [
    "## For Loop\n",
    "\n",
    "- **Iterates for a finite number of times**\n",
    "- **Iterator object is known**\n",
    "- **Note:**\n",
    "  - **arguments** are **seperated** by **semicolons**\n",
    "\n",
    "```c++\n",
    "for (initializer; stopper; init changer)```"
   ]
  },
  {
   "cell_type": "markdown",
   "metadata": {},
   "source": [
    "```c++\n",
    "\n",
    "int main(){\n",
    "    \n",
    "    for (int i=2; i > 0; i--)\n",
    "    {\n",
    "        cout << i << '\\t';\n",
    "    }\n",
    "    \n",
    "    return 0;}\n",
    "```\n",
    "\n",
    "<br>\n",
    "[HOME](#C-Loops)"
   ]
  }
 ],
 "metadata": {
  "kernelspec": {
   "display_name": "Python 3",
   "language": "python",
   "name": "python3"
  },
  "language_info": {
   "codemirror_mode": {
    "name": "ipython",
    "version": 3
   },
   "file_extension": ".py",
   "mimetype": "text/x-python",
   "name": "python",
   "nbconvert_exporter": "python",
   "pygments_lexer": "ipython3",
   "version": "3.6.3"
  }
 },
 "nbformat": 4,
 "nbformat_minor": 2
}
