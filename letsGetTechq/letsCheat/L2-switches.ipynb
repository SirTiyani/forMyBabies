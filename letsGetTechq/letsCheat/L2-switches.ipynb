{
 "cells": [
  {
   "cell_type": "markdown",
   "metadata": {},
   "source": [
    "# Layer 2 Technologies: Staying Local "
   ]
  },
  {
   "cell_type": "markdown",
   "metadata": {},
   "source": [
    "[switches](#Switches) | [frames](#Ethernet-Frame) | [Comms](#Communication-Modes) | [STP](#Spanning-Tree-Protocol)"
   ]
  },
  {
   "cell_type": "markdown",
   "metadata": {},
   "source": [
    "## Switches"
   ]
  },
  {
   "cell_type": "markdown",
   "metadata": {},
   "source": [
    "### Characteristics\n",
    "\n",
    "- Operate at the Link layer of TCP/IP\n",
    "  - also known as the network access layer\n",
    "\n",
    "\n",
    "- Divides a network into segments having dedicated ‘full’ bandwidth\n",
    "  - Each segment is a separate collision domain \n",
    "\n",
    "\n",
    "- Forwards, filters or flood frames based on the destination MAC address entry\n",
    "  - Forward: if there’s MAC address entry\n",
    "  - Flood:   all out other ports if no entry\n",
    "  - Filter:  in case of security  \n",
    "\n",
    "\n",
    "- High port density with support for different speeds\n",
    "  - cost a factor\n",
    "  - Fast internal switching between speed modes, affects performance\n",
    "  - Supports fewer users per segment\n",
    "  \n",
    "\n",
    "- Large frame buffers\n",
    "  - Ability to store frames before having to discard them\n",
    "  - Larger retention under congestion\n",
    "  \n",
    "  \n",
    "- Switching modes:\n",
    "  - Store-and-Forward\n",
    "    - Receives the whole frame, checks the FSC and forwards if there aren’t any errors\n",
    "  - Cut-Through\n",
    "    - Forwards the frame once the Destination MAC-add is received\n",
    "    - Processes about 6 bytes of the frame\n",
    "  - Fragment free\n",
    "    - Processes about 67 bytes of the frame\n",
    "    - Skips some overhead\n",
    "\n",
    "\n",
    "<br>"
   ]
  },
  {
   "cell_type": "markdown",
   "metadata": {},
   "source": [
    "### Installation  \n",
    "- Ensure Power is off\n",
    "\n",
    "\n",
    "- Run cables and double check rigidity\n",
    "<img src=\"pics/startSW.png\" style=\"float: right;\">\n",
    "\n",
    "\n",
    "- Power on \n",
    "  - Power-on Self Test (POST)\n",
    "    - Switch self-diagnostic check\n",
    "    - Checks switch is functioning properly\n",
    "  - LEDs with status\n",
    "    - System: general operation (green)\n",
    "    - Speed\n",
    "      - Off:\t10 mbps\n",
    "      - On:\t100 mbps\n",
    "      - Blink:\t1 gbps\n",
    "\n",
    "\n",
    "- Perform 1st time config with console\n",
    "  - USB-RS232 cable\n",
    "\n",
    "```python\n",
    "        Settings = {\n",
    "                      speed: 9600 bps, \n",
    "                      data bits: 8, \n",
    "                      parity: None, \n",
    "                      stop bit: 1, \n",
    "                      flow control: None\n",
    "                   }\n",
    "```\n",
    "\n",
    "<br>"
   ]
  },
  {
   "cell_type": "markdown",
   "metadata": {},
   "source": [
    "## Ethernet Frame\n",
    "\n",
    "- Protocol Data Unit: Frame\n",
    "<img src=\"pics/L2Frame.png\" width=440 height=440 style=\"float: right;\">\n",
    "\n",
    "\n",
    "- Runs on Layer Technology: Ethernet\n",
    "\n",
    "\n",
    "- Switches build a mac-address table from frames.\n",
    "  - Matches local hosts to connected ports\n",
    "  - Stored in a content-addressable memory\n",
    "\n",
    "\n",
    "- The addressing scheme is of a form of Mac Address\n",
    "  - Unique physical address on a NIC of a node on a local network\n",
    "  - Ultimate address to which data is sent\n",
    "  - 2-part address in a hex representation \n",
    "    - OUI\n",
    "      - First 24 -bits (6 hex nums)\n",
    "      - Identify Manufacture \n",
    "    - Vendor assigned\n",
    "      - Last 24 bits\n",
    "      - Identifies the NIC number\n",
    "\n",
    "<br>"
   ]
  },
  {
   "cell_type": "markdown",
   "metadata": {},
   "source": [
    "## Communication Modes \n",
    "\n",
    "Half Duplex | | Full Duplex\n",
    ":--- | --- | :---\n",
    "Unidirectional data flow | | Bidirectional communications flow\n",
    "Host must listen for free traffic | | No need to wait\n",
    "Susceptible to collisions | | Point-to-point only\n",
    "Carrier Sense Multiple Access / collision detect (CSMA/CD) deployed | | Requires full-duplex support on both ends\n",
    "- Detects collisions | | - Mismatch errors occur if modes or speed is not the same on both ends\n",
    "- Offending stations waits for a random time before transmitting again | | 10, 100 or 1000 mbps Fast Ethernet is on auto detection by default\n",
    "- Waiting period to transmit decreases performance | | 100Base-FX is set to Full duplex by default\n",
    "Legacy connectivity (hubs) | | Half-duplex selected only when autonegotiation fails\n",
    "\n",
    "<br>"
   ]
  },
  {
   "cell_type": "markdown",
   "metadata": {},
   "source": [
    "## Spanning Tree Protocol \n",
    "\n",
    "- Prevents Broadcast storms\n",
    "  - Endless frames resulting from a redundant switch loop. \n",
    "  - two or more switches send frames to learn a host connected by 2 segments \n",
    "\n",
    "\n",
    "- It manages the physical paths to network segments by\n",
    "Forcing certain ports into blocked state\n",
    "  - Ensures that only one path exists to each network segment at a time\n",
    "  - If an active path suddenly is disconnected, STP establishes connectivity through the redundant blocked port\n",
    "  - a delay of 30s expected for STP\n",
    "\n",
    "\n",
    "- Enable by default\n"
   ]
  },
  {
   "cell_type": "code",
   "execution_count": null,
   "metadata": {
    "collapsed": true
   },
   "outputs": [],
   "source": []
  }
 ],
 "metadata": {
  "kernelspec": {
   "display_name": "Python 3",
   "language": "python",
   "name": "python3"
  },
  "language_info": {
   "codemirror_mode": {
    "name": "ipython",
    "version": 3
   },
   "file_extension": ".py",
   "mimetype": "text/x-python",
   "name": "python",
   "nbconvert_exporter": "python",
   "pygments_lexer": "ipython3",
   "version": "3.6.2"
  }
 },
 "nbformat": 4,
 "nbformat_minor": 2
}
