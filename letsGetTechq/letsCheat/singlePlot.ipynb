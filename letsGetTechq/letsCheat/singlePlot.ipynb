{
 "cells": [
  {
   "cell_type": "code",
   "execution_count": 2,
   "metadata": {},
   "outputs": [
    {
     "data": {
      "text/html": [
       "<script>\n",
       "code_show=true; \n",
       "function code_toggle() {\n",
       " if (code_show){\n",
       " $('div.input').hide();\n",
       " } else {\n",
       " $('div.input').show();\n",
       " }\n",
       " code_show = !code_show\n",
       "} \n",
       "$( document ).ready(code_toggle);\n",
       "</script>\n",
       "<form action=\"javascript:code_toggle()\"><input type=\"submit\" value=\"Click here to toggle on/off the raw code.\"></form>"
      ],
      "text/plain": [
       "<IPython.core.display.HTML object>"
      ]
     },
     "execution_count": 2,
     "metadata": {},
     "output_type": "execute_result"
    }
   ],
   "source": [
    "from IPython.display import HTML\n",
    "\n",
    "HTML('''<script>\n",
    "code_show=true; \n",
    "function code_toggle() {\n",
    " if (code_show){\n",
    " $('div.input').hide();\n",
    " } else {\n",
    " $('div.input').show();\n",
    " }\n",
    " code_show = !code_show\n",
    "} \n",
    "$( document ).ready(code_toggle);\n",
    "</script>\n",
    "<form action=\"javascript:code_toggle()\"><input type=\"submit\" value=\"Click here to toggle on/off the raw code.\"></form>''')"
   ]
  },
  {
   "cell_type": "markdown",
   "metadata": {},
   "source": [
    "# OOP Plotting\n",
    "<br>\n"
   ]
  },
  {
   "cell_type": "markdown",
   "metadata": {},
   "source": [
    "[titles and labels](#Titles,-Axis-labels-and-Legends) | [axis limits](#Border-Limits) | [ticks](#Ticks) | [spines](#Spines:-Planes-and-Borders) | [annotate](#Annotations)"
   ]
  },
  {
   "cell_type": "markdown",
   "metadata": {},
   "source": [
    "## Line Graph\n",
    "\n",
    "```python\n",
    "x = [time]\n",
    "y = [measurement]\n",
    "```\n",
    "<br>"
   ]
  },
  {
   "cell_type": "markdown",
   "metadata": {},
   "source": [
    "## Figure and Plot specs\n",
    "\n",
    "```python\n",
    "fig, axes = plt.subplots(figsize=(11,5), dpi=100)\n",
    "```\n",
    "<br>"
   ]
  },
  {
   "cell_type": "markdown",
   "metadata": {},
   "source": [
    "## Standard Plot\n",
    "\n",
    "```python\n",
    "axes.plot(\n",
    "            x, y, \n",
    "            color='color', \n",
    "            linestyle='-', \n",
    "            linewidth=float, \n",
    "            label='string'\n",
    "         )\n",
    "```\n",
    "\n",
    "<br>\n",
    "[HOME](#OOP-Plotting)"
   ]
  },
  {
   "cell_type": "markdown",
   "metadata": {},
   "source": [
    "## Titles, Axis labels and Legends\n",
    "\n",
    "```python\n",
    "axes.set_title('Title')\n",
    "axes.set_xlabel('x-axis label')\n",
    "axes.set_ylabel('y-axis labe')        # r'markdown string'\n",
    "axes.legend(loc='location')\n",
    "``` \n",
    "\n",
    "<br>\n",
    "[HOME](#OOP-Plotting)"
   ]
  },
  {
   "cell_type": "markdown",
   "metadata": {},
   "source": [
    "## Border Limits\n",
    "```python\n",
    "axes.set_xlim(x[min], x[max]) \n",
    "axes.set_ylim(min, max)\n",
    "```\n",
    "<br>\n",
    "[HOME](#OOP-Plotting)"
   ]
  },
  {
   "cell_type": "markdown",
   "metadata": {},
   "source": [
    "## Ticks\n",
    "\n",
    "```python\n",
    "# Create a list of labels\n",
    "x_tix_labels = ['s1', 's2', ...]\n",
    "\n",
    "# x - axis\n",
    "x_tix = [array]\n",
    "\n",
    "# Apply Ticks\n",
    "\n",
    "axes.xaxis.set_ticks(labelArray)\n",
    "axes.xaxis.set_ticklabels(\n",
    "                            tix_labels, \n",
    "                            fontsize='22', \n",
    "                            rotation='angle_degrees'\n",
    "                         )\n",
    "```\n",
    "<br>\n",
    "[HOME](#OOP-Plotting)"
   ]
  },
  {
   "cell_type": "markdown",
   "metadata": {},
   "source": [
    "## Spines: Planes and Borders\n",
    "\n",
    "```python\n",
    "# Removing spines 1\n",
    "axes.spines['right'].set_visible(False)                     \n",
    "axes.spines['top'].set_color('None')                            \n",
    "\n",
    "\n",
    "# Remove redundant 2:\n",
    "#     Friendlier compared to general method\n",
    "axes.xaxis.set_ticks_position('bottom')                       \n",
    "axes.yaxis.set_ticks_position('left')\n",
    "\n",
    "\n",
    "# Move to data point on axis\n",
    "axes.spines['bottom'].set_position(('data',0))\n",
    "axes.spines['left'].set_position(('data',0))\n",
    "```\n",
    "<br>\n",
    "[HOME](#OOP-Plotting)"
   ]
  },
  {
   "cell_type": "markdown",
   "metadata": {},
   "source": [
    "## Annotations\n",
    "\n",
    "```python\n",
    "# Mark Point of Interest on Y-graph\n",
    "pt = y[n]\n",
    "axex.scatter(\n",
    "                x[pt], pt, \n",
    "                markersize, \n",
    "                color='color'\n",
    "            )\n",
    "\n",
    "\n",
    "# Draw line to Point of Interest\n",
    "axes.plot([x1, x2], [y1,y2])\n",
    "\n",
    "\n",
    "# Annotate\n",
    "axes.annotate(\n",
    "                'string',\n",
    "                xy=(x, y), \n",
    "                xycoords='data',\n",
    "                xytext=(-90, -50), \n",
    "                textcoords='offset points', \n",
    "                fontsize=16,\n",
    "                arrowprops=dict(arrowstyle=\"->\", \n",
    "                connectionstyle=\"arc3,rad=.2\"))\n",
    "```\n",
    "\n",
    "<br>\n",
    "[HOME](#OOP-Plotting)"
   ]
  },
  {
   "cell_type": "code",
   "execution_count": 3,
   "metadata": {
    "scrolled": false
   },
   "outputs": [
    {
     "data": {
      "image/png": "[encoded data removed]",
      "text/plain": [
       "<matplotlib.figure.Figure at 0x7f329cf775c0>"
      ]
     },
     "metadata": {},
     "output_type": "display_data"
    }
   ],
   "source": [
    "import numpy as np\n",
    "import matplotlib.pyplot as plt\n",
    "%matplotlib inline\n",
    "\n",
    "# data\n",
    "x = np.linspace(-np.pi, np.pi, 256, endpoint=True)\n",
    "f1, f2 = np.sin(x), np.cos(x)\n",
    "\n",
    "# Figure and Plot specs\n",
    "fig, axes = plt.subplots(figsize=(8,5))\n",
    "\n",
    "# Plot\n",
    "axes.plot(x, f1, color='r', linestyle='-', linewidth=1.3, label=r'sin(x)');\n",
    "axes.plot(x, f2, '--b', linewidth=1.3,label=r'cos(x)');\n",
    "\n",
    "axes.set_title('Graph of Sin and Cosine')\n",
    "axes.set_xlabel('radians')\n",
    "axes.set_ylabel('amplitude')\n",
    "axes.legend(loc='best');\n",
    "\n",
    "# Borders\n",
    "axes.set_xlim(x[0], x[-1])                                  \n",
    "axes.set_ylim(-1.1, 1.1)\n",
    "\n",
    "# ticks\n",
    "# x\n",
    "x_tix = [-np.pi, -np.pi/2, 0, np.pi/2, np.pi]\n",
    "x_tix_labels = [r'$-\\pi$', r'$-\\pi/2$', r'$0$', r'$\\pi/2$', r'$\\pi$']\n",
    "axes.xaxis.set_ticks(x_tix)\n",
    "axes.xaxis.set_ticklabels(x_tix_labels, fontsize=16);\n",
    "# y\n",
    "axes.yaxis.set_ticks([1,-1])\n",
    "axes.yaxis.set_ticklabels([r'$+1$', '-1'], fontsize=16);\n",
    "\n",
    "\n",
    "axes.spines['right'].set_visible(False)                     \n",
    "axes.spines['top'].set_color('None')\n",
    "axes.spines['bottom'].set_position(('data',0))\n",
    "axes.spines['left'].set_position(('data',0))\n",
    "axes.xaxis.set_ticks_position('bottom')                       \n",
    "axes.yaxis.set_ticks_position('left')\n",
    "\n",
    "# point on x\n",
    "p = 2*np.pi/3\n",
    "# point of interest\n",
    "axes.scatter(p, np.cos(p),50, color='blue')\n",
    "# line graph\n",
    "axes.plot(\n",
    "            [p,p], [0, np.cos(p)],\n",
    "            color='blue', \n",
    "            lw=1.5, \n",
    "            ls='--'\n",
    "         );\n",
    "# Annotate\n",
    "axes.annotate(\n",
    "                'You see this',\n",
    "                xy=(p, np.cos(p)), \n",
    "                xycoords='data',\n",
    "                xytext=(-90, -50), \n",
    "                textcoords='offset points', \n",
    "                fontsize=16,\n",
    "                arrowprops=dict(arrowstyle=\"->\", \n",
    "                connectionstyle=\"arc3,rad=.2\")\n",
    "             );"
   ]
  },
  {
   "cell_type": "markdown",
   "metadata": {},
   "source": [
    "<br>\n",
    "### Legend Location Codes\n",
    "![Legend Codes](pics\\legends.png)\n",
    "[HOME](#OOP-Plotting)"
   ]
  }
 ],
 "metadata": {
  "kernelspec": {
   "display_name": "Python 3",
   "language": "python",
   "name": "python3"
  },
  "language_info": {
   "codemirror_mode": {
    "name": "ipython",
    "version": 3
   },
   "file_extension": ".py",
   "mimetype": "text/x-python",
   "name": "python",
   "nbconvert_exporter": "python",
   "pygments_lexer": "ipython3",
   "version": "3.6.3"
  }
 },
 "nbformat": 4,
 "nbformat_minor": 2
}
