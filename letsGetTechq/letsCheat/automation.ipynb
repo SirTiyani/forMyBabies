{
 "cells": [
  {
   "cell_type": "markdown",
   "metadata": {},
   "source": [
    "## Time and Automation\n",
    "<br>"
   ]
  },
  {
   "cell_type": "markdown",
   "metadata": {},
   "source": [
    "### Time and Dates\n",
    "- **date**\n",
    "  \n",
    "  ``` bash\n",
    "  date \"+%d %b %Y %H:%M:%S\"        \n",
    "      27 Aug 2017 19:41:52\n",
    "      \n",
    "  date \"+%Y-%m-%d %H:%M:%S\"\n",
    "      2017-08-27 19:44:28\n",
    "  ```\n",
    "\n",
    "<br>"
   ]
  },
  {
   "cell_type": "markdown",
   "metadata": {},
   "source": [
    "### One Time Task\n",
    "\n",
    "- **schedule jobs**\n",
    " \n",
    " ```bash\n",
    "  at <now or hh:mm> [date] \n",
    "  \n",
    "  command\n",
    "  command\n",
    "  \n",
    "  ^c + d                    to quit\n",
    "  ```\n",
    "  \n",
    "- **see scheduled jobs**\n",
    " \n",
    " ```bash\n",
    "  atq\n",
    "  ```\n",
    "  \n",
    "- **remove job**\n",
    "  ```bash\n",
    "  atrm <jobID>\n",
    "  ```\n",
    "<br>"
   ]
  },
  {
   "cell_type": "markdown",
   "metadata": {},
   "source": [
    "### Repeating Task\n",
    "\n",
    "- **scheduling a cron job**\n",
    "  ```bash\n",
    "  minute hour dayOfMonth month dayOfWeek /path/to/script.sh \n",
    "  ```\n",
    "  \n",
    "- **editing cron table**\n",
    "  ```bash\n",
    "  crontab       -l           list tasks\n",
    "\n",
    "                -e           edit\n",
    "  ```\n"
   ]
  }
 ],
 "metadata": {
  "kernelspec": {
   "display_name": "Python 3",
   "language": "python",
   "name": "python3"
  },
  "language_info": {
   "codemirror_mode": {
    "name": "ipython",
    "version": 3
   },
   "file_extension": ".py",
   "mimetype": "text/x-python",
   "name": "python",
   "nbconvert_exporter": "python",
   "pygments_lexer": "ipython3",
   "version": "3.6.3"
  }
 },
 "nbformat": 4,
 "nbformat_minor": 2
}
