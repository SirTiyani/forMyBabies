{
 "cells": [
  {
   "cell_type": "code",
   "execution_count": 1,
   "metadata": {
    "collapsed": false
   },
   "outputs": [
    {
     "name": "stdout",
     "output_type": "stream",
     "text": [
      "Writing pass_the_tech.txt\n"
     ]
    }
   ],
   "source": [
    "%%writefile pass_the_tech.txt\n",
    "\n",
    "\n",
    "Premise\n",
    "comparing 2 objects:\n",
    "        one is generic and the other specific \n",
    "        best fit is any electroni device with a cellphone brand of interest\n",
    "\n",
    "Play\n",
    "\n",
    "chilling session whatever the relationship and social status.\n",
    "could be a movie that a couple planned to watch ('possible humor if a vsenile group takes the role')\n",
    "a bunch of friends watching a big game ('opportunity to make a joint venture with sports affiliation or sponsor')\n",
    "everything goes natural, doesn't matter what's happing until 2 interruptions\n",
    "        \n",
    "    one is the generic item\n",
    "        loud tv or radio, pass me that please\n",
    "        \n",
    "    then the phone rings\n",
    "        please pass me the technology 'iphone maybe'\n",
    "    \n",
    "\n"
   ]
  },
  {
   "cell_type": "code",
   "execution_count": 2,
   "metadata": {
    "collapsed": false,
    "scrolled": true
   },
   "outputs": [
    {
     "name": "stdout",
     "output_type": "stream",
     "text": [
      "\r\n",
      "\r\n",
      "Premise\r\n",
      "comparing 2 objects:\r\n",
      "        one is generic and the other specific \r\n",
      "        best fit is any electroni device with a cellphone brand of interest\r\n",
      "\r\n",
      "Play\r\n",
      "\r\n",
      "chilling session whatever the relationship and social status.\r\n",
      "could be a movie that a couple planned to watch ('possible humor if a vsenile group takes the role')\r\n",
      "a bunch of friends watching a big game ('opportunity to make a joint venture with sports affiliation or sponsor')\r\n",
      "everything goes natural, doesn't matter what's happing until 2 interruptions\r\n",
      "        \r\n",
      "    one is the generic item\r\n",
      "        loud tv or radio, pass me that please\r\n",
      "        \r\n",
      "    then the phone rings\r\n",
      "        please pass me the technology 'iphone maybe'\r\n",
      "    \r\n",
      "\r\n"
     ]
    }
   ],
   "source": [
    "!cat pass_the_tech.txt"
   ]
  },
  {
   "cell_type": "code",
   "execution_count": null,
   "metadata": {
    "collapsed": true
   },
   "outputs": [],
   "source": []
  }
 ],
 "metadata": {
  "kernelspec": {
   "display_name": "Python 3",
   "language": "python",
   "name": "python3"
  },
  "language_info": {
   "codemirror_mode": {
    "name": "ipython",
    "version": 3
   },
   "file_extension": ".py",
   "mimetype": "text/x-python",
   "name": "python",
   "nbconvert_exporter": "python",
   "pygments_lexer": "ipython3",
   "version": "3.5.1"
  }
 },
 "nbformat": 4,
 "nbformat_minor": 0
}
