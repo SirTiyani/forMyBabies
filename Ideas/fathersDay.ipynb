{
 "cells": [
  {
   "cell_type": "code",
   "execution_count": 1,
   "metadata": {
    "collapsed": false
   },
   "outputs": [
    {
     "name": "stdout",
     "output_type": "stream",
     "text": [
      "Writing Fathers_day_DSTV.txt\n"
     ]
    }
   ],
   "source": [
    "%%writefile Fathers_day_DSTV.txt\n",
    "\n",
    "background music 'eminem and dre: concious talk'\n",
    "\n",
    "father's been working to hard he barely keeps track of the date\n",
    "well except of his mistress: soccer games\n",
    "He made plans with he's best buddy to watch a soccer. All is looks\n",
    "the weather is kind, and the lady is there to make his favourite *dish* except for one tiny detail he missed\n",
    "He's stating home with her little princess. He loves her and she behaves, well almost\n",
    "\n",
    "'a  bit of fails until solution'\n",
    "\n",
    "one thing to do is to put on cartoons for her to keep her occupied\n",
    "but dang, it seems like a nice story and she falls asleep (or not)\n",
    "think the door bell stopped him from watching the show, no\n",
    "he paused\n",
    "guy says ok, time for the match and just when the daughter walks away 'she' knows the drill\n",
    "\n",
    "he's like No! they about to slay the dragon and save the princess or whatever movie it is\n",
    "press play\n",
    "\n",
    "DSTV ignites the best character out of you"
   ]
  },
  {
   "cell_type": "code",
   "execution_count": 2,
   "metadata": {
    "collapsed": false
   },
   "outputs": [
    {
     "name": "stdout",
     "output_type": "stream",
     "text": [
      "\r\n",
      "background music 'eminem and dre: concious talk'\r\n",
      "\r\n",
      "father's been working to hard he barely keeps track of the date\r\n",
      "well except to his mistress: soccer games\r\n",
      "He made plans with he's best buddy to watch a soccer. All is looks\r\n",
      "the weather is kind, and the lady is there to make his favourite *dish* except for one tiny detail he missed\r\n",
      "He's stating home with her little princess. He loves her and she behaves, well almost\r\n",
      "\r\n",
      "'a  bit of fails until solution'\r\n",
      "\r\n",
      "one thing to do is to put on cartoons for her to keep her occupied\r\n",
      "but dang, it seems like a nice story and she falls asleep (or not)\r\n",
      "think the door bell stopped him from watching the show, no\r\n",
      "he paused\r\n",
      "guy says ok, time for the match and just when the daughter walks away 'she' knows the drill\r\n",
      "\r\n",
      "he's like No! they about to slay the dragon and save the princess or whatever movie it is\r\n",
      "press play\r\n",
      "\r\n",
      "DSTV ignites the best character out of you"
     ]
    }
   ],
   "source": [
    "!cat Fathers_day_DSTV.txt"
   ]
  },
  {
   "cell_type": "code",
   "execution_count": null,
   "metadata": {
    "collapsed": true
   },
   "outputs": [],
   "source": []
  }
 ],
 "metadata": {
  "kernelspec": {
   "display_name": "Python 3",
   "language": "python",
   "name": "python3"
  },
  "language_info": {
   "codemirror_mode": {
    "name": "ipython",
    "version": 3
   },
   "file_extension": ".py",
   "mimetype": "text/x-python",
   "name": "python",
   "nbconvert_exporter": "python",
   "pygments_lexer": "ipython3",
   "version": "3.5.1"
  }
 },
 "nbformat": 4,
 "nbformat_minor": 0
}
