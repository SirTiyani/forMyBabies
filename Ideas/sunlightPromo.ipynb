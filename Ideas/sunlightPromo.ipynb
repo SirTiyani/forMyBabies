{
 "cells": [
  {
   "cell_type": "code",
   "execution_count": 4,
   "metadata": {
    "collapsed": false
   },
   "outputs": [
    {
     "name": "stdout",
     "output_type": "stream",
     "text": [
      "Writing sunlight_promotion.doc\n"
     ]
    }
   ],
   "source": [
    "%%writefile sunlight_promotion.doc\n",
    "\n",
    "premis\n",
    "\n",
    "Use the all mighty green bar soap as a baseline for professionally esteemed individuals.\n",
    "The idea is to have a different childhood backgrounds of say 5 professionals i.e.\n",
    "Scientist, Engineer, Doctor, An attorney/judge and a teacher (merging the importance of teachers...)\n",
    "growing up in a farmhouse, township, traveller, penthouse and mansion\n",
    "\n",
    "different neh, not really. Growing up they use the green bar soap\n",
    "\n",
    "from there they simply advance with the generations soaps in sync till they made it \n",
    "\n",
    "\n"
   ]
  },
  {
   "cell_type": "code",
   "execution_count": 2,
   "metadata": {
    "collapsed": false
   },
   "outputs": [
    {
     "name": "stdout",
     "output_type": "stream",
     "text": [
      "\r\n",
      "premis\r\n",
      "\r\n",
      "Use the all might green bar soup as a baseline for professionally esteemed individuals.\r\n",
      "The idea is to have a different childhood backgrounds of say 5 professionals i.e.\r\n",
      "Scientist, Engineer, Doctor, An attorney/judge and a teacher (merging the importance of teachers...)\r\n",
      "growing up in a farmhouse, township, traveller, penthouse and mansion\r\n",
      "\r\n",
      "different neh, not really. Growing up they use the green bar soup\r\n",
      "\r\n",
      "from there they simply advance with the generations soups in sync till they made it \r\n",
      "\r\n"
     ]
    }
   ],
   "source": [
    "!cat sunlight_promotion.txt"
   ]
  },
  {
   "cell_type": "code",
   "execution_count": 11,
   "metadata": {
    "collapsed": false
   },
   "outputs": [
    {
     "name": "stdout",
     "output_type": "stream",
     "text": [
      "big_brand_using_tech.ipynb  Padlock.ipynb      Sunlight Promo.ipynb\r\n",
      "Fathers_day_DSTV.txt\t    Padlock.txt        sunlight_promotion.txt\r\n",
      "Fathers Day.ipynb\t    pass_the_tech.txt\r\n"
     ]
    }
   ],
   "source": [
    "!ls "
   ]
  },
  {
   "cell_type": "code",
   "execution_count": 10,
   "metadata": {
    "collapsed": false
   },
   "outputs": [],
   "source": []
  },
  {
   "cell_type": "code",
   "execution_count": null,
   "metadata": {
    "collapsed": true
   },
   "outputs": [],
   "source": []
  }
 ],
 "metadata": {
  "kernelspec": {
   "display_name": "Python 3",
   "language": "python",
   "name": "python3"
  },
  "language_info": {
   "codemirror_mode": {
    "name": "ipython",
    "version": 3
   },
   "file_extension": ".py",
   "mimetype": "text/x-python",
   "name": "python",
   "nbconvert_exporter": "python",
   "pygments_lexer": "ipython3",
   "version": "3.5.1"
  }
 },
 "nbformat": 4,
 "nbformat_minor": 0
}
