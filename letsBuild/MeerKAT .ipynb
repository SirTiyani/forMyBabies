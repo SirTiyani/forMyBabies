{
 "cells": [
  {
   "cell_type": "markdown",
   "metadata": {},
   "source": [
    "## The MeerKAT Telescope\n",
    "<br>"
   ]
  },
  {
   "cell_type": "markdown",
   "metadata": {},
   "source": [
    "### 1. Overview\n",
    "<br>\n",
    "- Will be an antennae array of 64 receptors\n",
    "  - each with a \n",
    "    - Main reflector of 13.5 m in diameter made up of 40 aluminium panels mounted on a steel framework\n",
    "    - Subreflector of 3.8 m in diameter\n",
    "    - an Antenna Position which is a steerable dish on the pedestal\n",
    "      - the design is an Offset Gregorian optical layout\n",
    "      - aids performance, sensitivity and imaging quality.\n",
    "        - no struts blocking the EM signal.\n",
    "        - good rejection of unwanted RFI\n",
    "        - more receivers on a rotating table can be installed\n",
    "    - 4 receivers and associated digitisers\n",
    "    \n",
    "    \n",
    "- 48 of the receptors will be concentrated in the core\n",
    "  - 1 km in diameter\n",
    "  \n",
    "  \n",
    "- The longest baseline will be 8 Km\n",
    "\n",
    "\n",
    "- The structure allows for observations ranging from\n",
    "  - 15 to 88 degrees in elevation and\n",
    "  - -185 to 275 degrees in azimuth, where north is 0 degrees"
   ]
  },
  {
   "cell_type": "markdown",
   "metadata": {},
   "source": [
    "### 2. Receiver\n",
    "\n",
    "- Four receivers will be installed on the rotating indexer table\n",
    "- The indexer selects the appropriate receiver into the antenna focus position, depending on the desired observation frequency\n",
    "  \n",
    "  - UHF\n",
    "      - 0 degrees indexer focal point\n",
    "    \n",
    "    \n",
    "    - L-band\n",
    "      - 40 degrees indexer focal point \n",
    "  \n",
    "    - S-band\n",
    "      - 120 indexer focal point\n",
    "  \n",
    "    - X-band\n",
    "  \n",
    "  \n",
    "- The receiver in focus:\n",
    "  - captures the EM radiation, \n",
    "  - converts it to a voltage signal by an Othorgonal Mode Transducer (OMT)\n",
    "  - followed by amplification from a cryogenically cooled receiver\n",
    "  - finally sent to the digiter behind the receiver \n",
    "<br>"
   ]
  },
  {
   "cell_type": "markdown",
   "metadata": {},
   "source": [
    "### 3. Digitezer\n",
    "<br>\n",
    "- bi-polarised signals are first processed by an RFCU\n",
    "  - Radio Frequency Conditioning Unit  \n",
    "\n",
    "\n",
    "- RFCU output is fed to an Analogue-to-Digital Converter (ADC)\n",
    "\n",
    "\n",
    "- L-band Digitiser\n",
    "  - Samples at 1712 MHz"
   ]
  },
  {
   "cell_type": "markdown",
   "metadata": {},
   "source": [
    "### 4. Telescope Network\n",
    "<br>"
   ]
  },
  {
   "cell_type": "markdown",
   "metadata": {},
   "source": [
    "### 5. Processing \n",
    "<br>"
   ]
  },
  {
   "cell_type": "markdown",
   "metadata": {},
   "source": [
    "### 6. Miscellaneous\n",
    "<br>\n",
    "- Root Mean Square (RMS) \n",
    "- degree\n",
    "- arcsecond"
   ]
  },
  {
   "cell_type": "code",
   "execution_count": null,
   "metadata": {
    "collapsed": true
   },
   "outputs": [],
   "source": []
  }
 ],
 "metadata": {
  "kernelspec": {
   "display_name": "Python 3",
   "language": "python",
   "name": "python3"
  },
  "language_info": {
   "codemirror_mode": {
    "name": "ipython",
    "version": 3
   },
   "file_extension": ".py",
   "mimetype": "text/x-python",
   "name": "python",
   "nbconvert_exporter": "python",
   "pygments_lexer": "ipython3",
   "version": "3.6.2"
  }
 },
 "nbformat": 4,
 "nbformat_minor": 2
}
